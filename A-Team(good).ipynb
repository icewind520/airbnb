{
 "cells": [
  {
   "cell_type": "code",
   "execution_count": 1,
   "metadata": {},
   "outputs": [],
   "source": [
    "import pandas as pd\n",
    "import numpy as np\n",
    "from numpy.random import seed\n",
    "seed(123)\n",
    "import matplotlib.pyplot as plt\n",
    "%matplotlib inline\n",
    "from datetime import datetime\n",
    "import seaborn as sns\n",
    "import geopandas as gpd\n"
   ]
  },
  {
   "cell_type": "code",
   "execution_count": 2,
   "metadata": {},
   "outputs": [
    {
     "name": "stdout",
     "output_type": "stream",
     "text": [
      "The dataset contains 4939 Airbnb listings\n",
      "欄位數: 106\n"
     ]
    },
    {
     "data": {
      "text/html": [
       "<div>\n",
       "<style scoped>\n",
       "    .dataframe tbody tr th:only-of-type {\n",
       "        vertical-align: middle;\n",
       "    }\n",
       "\n",
       "    .dataframe tbody tr th {\n",
       "        vertical-align: top;\n",
       "    }\n",
       "\n",
       "    .dataframe thead th {\n",
       "        text-align: right;\n",
       "    }\n",
       "</style>\n",
       "<table border=\"1\" class=\"dataframe\">\n",
       "  <thead>\n",
       "    <tr style=\"text-align: right;\">\n",
       "      <th></th>\n",
       "      <th>id</th>\n",
       "      <th>listing_url</th>\n",
       "      <th>scrape_id</th>\n",
       "      <th>last_scraped</th>\n",
       "      <th>name</th>\n",
       "      <th>summary</th>\n",
       "      <th>space</th>\n",
       "      <th>description</th>\n",
       "      <th>experiences_offered</th>\n",
       "      <th>neighborhood_overview</th>\n",
       "      <th>notes</th>\n",
       "      <th>transit</th>\n",
       "      <th>access</th>\n",
       "      <th>interaction</th>\n",
       "      <th>house_rules</th>\n",
       "      <th>thumbnail_url</th>\n",
       "      <th>medium_url</th>\n",
       "      <th>picture_url</th>\n",
       "      <th>xl_picture_url</th>\n",
       "      <th>host_id</th>\n",
       "      <th>host_url</th>\n",
       "      <th>host_name</th>\n",
       "      <th>host_since</th>\n",
       "      <th>host_location</th>\n",
       "      <th>host_about</th>\n",
       "      <th>host_response_time</th>\n",
       "      <th>host_response_rate</th>\n",
       "      <th>host_acceptance_rate</th>\n",
       "      <th>host_is_superhost</th>\n",
       "      <th>host_thumbnail_url</th>\n",
       "      <th>host_picture_url</th>\n",
       "      <th>host_neighbourhood</th>\n",
       "      <th>host_listings_count</th>\n",
       "      <th>host_total_listings_count</th>\n",
       "      <th>host_verifications</th>\n",
       "      <th>host_has_profile_pic</th>\n",
       "      <th>host_identity_verified</th>\n",
       "      <th>street</th>\n",
       "      <th>neighbourhood</th>\n",
       "      <th>neighbourhood_cleansed</th>\n",
       "      <th>neighbourhood_group_cleansed</th>\n",
       "      <th>city</th>\n",
       "      <th>state</th>\n",
       "      <th>zipcode</th>\n",
       "      <th>market</th>\n",
       "      <th>smart_location</th>\n",
       "      <th>country_code</th>\n",
       "      <th>country</th>\n",
       "      <th>latitude</th>\n",
       "      <th>longitude</th>\n",
       "      <th>is_location_exact</th>\n",
       "      <th>property_type</th>\n",
       "      <th>room_type</th>\n",
       "      <th>accommodates</th>\n",
       "      <th>bathrooms</th>\n",
       "      <th>bedrooms</th>\n",
       "      <th>beds</th>\n",
       "      <th>bed_type</th>\n",
       "      <th>amenities</th>\n",
       "      <th>square_feet</th>\n",
       "      <th>price</th>\n",
       "      <th>weekly_price</th>\n",
       "      <th>monthly_price</th>\n",
       "      <th>security_deposit</th>\n",
       "      <th>cleaning_fee</th>\n",
       "      <th>guests_included</th>\n",
       "      <th>extra_people</th>\n",
       "      <th>minimum_nights</th>\n",
       "      <th>maximum_nights</th>\n",
       "      <th>minimum_minimum_nights</th>\n",
       "      <th>maximum_minimum_nights</th>\n",
       "      <th>minimum_maximum_nights</th>\n",
       "      <th>maximum_maximum_nights</th>\n",
       "      <th>minimum_nights_avg_ntm</th>\n",
       "      <th>maximum_nights_avg_ntm</th>\n",
       "      <th>calendar_updated</th>\n",
       "      <th>has_availability</th>\n",
       "      <th>availability_30</th>\n",
       "      <th>availability_60</th>\n",
       "      <th>availability_90</th>\n",
       "      <th>availability_365</th>\n",
       "      <th>calendar_last_scraped</th>\n",
       "      <th>number_of_reviews</th>\n",
       "      <th>number_of_reviews_ltm</th>\n",
       "      <th>first_review</th>\n",
       "      <th>last_review</th>\n",
       "      <th>review_scores_rating</th>\n",
       "      <th>review_scores_accuracy</th>\n",
       "      <th>review_scores_cleanliness</th>\n",
       "      <th>review_scores_checkin</th>\n",
       "      <th>review_scores_communication</th>\n",
       "      <th>review_scores_location</th>\n",
       "      <th>review_scores_value</th>\n",
       "      <th>requires_license</th>\n",
       "      <th>license</th>\n",
       "      <th>jurisdiction_names</th>\n",
       "      <th>instant_bookable</th>\n",
       "      <th>is_business_travel_ready</th>\n",
       "      <th>cancellation_policy</th>\n",
       "      <th>require_guest_profile_picture</th>\n",
       "      <th>require_guest_phone_verification</th>\n",
       "      <th>calculated_host_listings_count</th>\n",
       "      <th>calculated_host_listings_count_entire_homes</th>\n",
       "      <th>calculated_host_listings_count_private_rooms</th>\n",
       "      <th>calculated_host_listings_count_shared_rooms</th>\n",
       "      <th>reviews_per_month</th>\n",
       "    </tr>\n",
       "  </thead>\n",
       "  <tbody>\n",
       "    <tr>\n",
       "      <td>0</td>\n",
       "      <td>12166838</td>\n",
       "      <td>https://www.airbnb.com/rooms/12166838</td>\n",
       "      <td>20190730190716</td>\n",
       "      <td>2019-07-30</td>\n",
       "      <td>503Bright suite 5 min MRT in CBD捷运旁市中心短期租房</td>\n",
       "      <td>This is an ensuite double room in Taipei city ...</td>\n",
       "      <td>經營短期月租套房已經有十三年的歷史主要住戶都是海外歸國華僑,絕大部分都是日商公司外派的員工,...</td>\n",
       "      <td>This is an ensuite double room in Taipei city ...</td>\n",
       "      <td>none</td>\n",
       "      <td>本館經營短期月租套房已經有十三年的歷史主要住戶都是海外歸國華僑,絕大部分都是日商公司外派的員...</td>\n",
       "      <td>本館交通極為便利對於海外來台旅遊旅客特別方便可在機場搭國光客運或大有巴士在國賓飯店或晶華酒店...</td>\n",
       "      <td>本館附近有嘟嘟房｡台灣聯通或長春路上畫隔的公有停車場停車非常方便｡ 本館交通指揮便利捷運走路...</td>\n",
       "      <td>This is an ensuite double room in Taipei city ...</td>\n",
       "      <td>NaN</td>\n",
       "      <td>NaN</td>\n",
       "      <td>NaN</td>\n",
       "      <td>NaN</td>\n",
       "      <td>https://a0.muscache.com/im/pictures/dee51815-e...</td>\n",
       "      <td>NaN</td>\n",
       "      <td>65353075</td>\n",
       "      <td>https://www.airbnb.com/users/show/65353075</td>\n",
       "      <td>Jannifer</td>\n",
       "      <td>2016-04-01</td>\n",
       "      <td>Zhongshan District, Taipei City, Taiwan</td>\n",
       "      <td>大家好!十三年前因爲因緣際會和朋友合夥經營短期月租套房｡我們盡全力希望能夠提供旅行者便利經濟...</td>\n",
       "      <td>within an hour</td>\n",
       "      <td>100%</td>\n",
       "      <td>NaN</td>\n",
       "      <td>f</td>\n",
       "      <td>https://a0.muscache.com/im/pictures/user/1dcc4...</td>\n",
       "      <td>https://a0.muscache.com/im/pictures/user/1dcc4...</td>\n",
       "      <td>Zhongshan</td>\n",
       "      <td>23.0</td>\n",
       "      <td>23.0</td>\n",
       "      <td>['email', 'phone', 'reviews', 'jumio', 'govern...</td>\n",
       "      <td>t</td>\n",
       "      <td>f</td>\n",
       "      <td>Zhongshan District, Taipei City, Taiwan</td>\n",
       "      <td>Zhongshan</td>\n",
       "      <td>中山區</td>\n",
       "      <td>NaN</td>\n",
       "      <td>Zhongshan District</td>\n",
       "      <td>Taipei City</td>\n",
       "      <td>10491</td>\n",
       "      <td>Taipei</td>\n",
       "      <td>Zhongshan District, Taiwan</td>\n",
       "      <td>TW</td>\n",
       "      <td>Taiwan</td>\n",
       "      <td>25.05420</td>\n",
       "      <td>121.52331</td>\n",
       "      <td>t</td>\n",
       "      <td>Apartment</td>\n",
       "      <td>Entire home/apt</td>\n",
       "      <td>2</td>\n",
       "      <td>1.0</td>\n",
       "      <td>1.0</td>\n",
       "      <td>1.0</td>\n",
       "      <td>Real Bed</td>\n",
       "      <td>{TV,\"Cable TV\",Internet,Wifi,\"Air conditioning...</td>\n",
       "      <td>NaN</td>\n",
       "      <td>$1,057.00</td>\n",
       "      <td>NaN</td>\n",
       "      <td>NaN</td>\n",
       "      <td>$0.00</td>\n",
       "      <td>$0.00</td>\n",
       "      <td>2</td>\n",
       "      <td>$200.00</td>\n",
       "      <td>1360</td>\n",
       "      <td>1360</td>\n",
       "      <td>1360</td>\n",
       "      <td>1360</td>\n",
       "      <td>1360</td>\n",
       "      <td>1360</td>\n",
       "      <td>1360.0</td>\n",
       "      <td>1360.0</td>\n",
       "      <td>5 months ago</td>\n",
       "      <td>t</td>\n",
       "      <td>30</td>\n",
       "      <td>60</td>\n",
       "      <td>90</td>\n",
       "      <td>91</td>\n",
       "      <td>2019-07-30</td>\n",
       "      <td>4</td>\n",
       "      <td>0</td>\n",
       "      <td>2017-11-18</td>\n",
       "      <td>2018-04-07</td>\n",
       "      <td>100.0</td>\n",
       "      <td>10.0</td>\n",
       "      <td>10.0</td>\n",
       "      <td>10.0</td>\n",
       "      <td>10.0</td>\n",
       "      <td>10.0</td>\n",
       "      <td>10.0</td>\n",
       "      <td>f</td>\n",
       "      <td>NaN</td>\n",
       "      <td>{\"Taiwan VAT Tax\"}</td>\n",
       "      <td>f</td>\n",
       "      <td>f</td>\n",
       "      <td>strict_14_with_grace_period</td>\n",
       "      <td>f</td>\n",
       "      <td>f</td>\n",
       "      <td>22</td>\n",
       "      <td>22</td>\n",
       "      <td>0</td>\n",
       "      <td>0</td>\n",
       "      <td>0.19</td>\n",
       "    </tr>\n",
       "    <tr>\n",
       "      <td>1</td>\n",
       "      <td>12233547</td>\n",
       "      <td>https://www.airbnb.com/rooms/12233547</td>\n",
       "      <td>20190730190716</td>\n",
       "      <td>2019-07-30</td>\n",
       "      <td>502 Spacious ensuite balconied CBD 5 min MRT</td>\n",
       "      <td>This is an ensuite Taipei city center. Nicely ...</td>\n",
       "      <td>This is a spacious ensuite in Taipei city cent...</td>\n",
       "      <td>This is an ensuite Taipei city center. Nicely ...</td>\n",
       "      <td>none</td>\n",
       "      <td>本館經營短期月租套房已經有十年的歷史主要住戶都是海外歸國華僑,絕大部分都是日商公司外派的員工...</td>\n",
       "      <td>本館交通極為便利對於海外來台旅遊旅客特別方便可在機場搭國光客運或大有巴士在國賓飯店或晶華酒店...</td>\n",
       "      <td>本館交通指揮便利捷運走路五分鐘即可抵達雙連捷運站七分鐘即可抵達中山捷運站,到火車站只有一站之...</td>\n",
       "      <td>本館交通指揮便利捷運走路五分鐘即可抵達雙連捷運站七分鐘即可抵達中山捷運站,到火車站只有一站之...</td>\n",
       "      <td>NaN</td>\n",
       "      <td>NaN</td>\n",
       "      <td>NaN</td>\n",
       "      <td>NaN</td>\n",
       "      <td>https://a0.muscache.com/im/pictures/21afe680-8...</td>\n",
       "      <td>NaN</td>\n",
       "      <td>65353075</td>\n",
       "      <td>https://www.airbnb.com/users/show/65353075</td>\n",
       "      <td>Jannifer</td>\n",
       "      <td>2016-04-01</td>\n",
       "      <td>Zhongshan District, Taipei City, Taiwan</td>\n",
       "      <td>大家好!十三年前因爲因緣際會和朋友合夥經營短期月租套房｡我們盡全力希望能夠提供旅行者便利經濟...</td>\n",
       "      <td>within an hour</td>\n",
       "      <td>100%</td>\n",
       "      <td>NaN</td>\n",
       "      <td>f</td>\n",
       "      <td>https://a0.muscache.com/im/pictures/user/1dcc4...</td>\n",
       "      <td>https://a0.muscache.com/im/pictures/user/1dcc4...</td>\n",
       "      <td>Zhongshan</td>\n",
       "      <td>23.0</td>\n",
       "      <td>23.0</td>\n",
       "      <td>['email', 'phone', 'reviews', 'jumio', 'govern...</td>\n",
       "      <td>t</td>\n",
       "      <td>f</td>\n",
       "      <td>Zhongshan District, Taipei City, Taiwan</td>\n",
       "      <td>Zhongshan</td>\n",
       "      <td>中山區</td>\n",
       "      <td>NaN</td>\n",
       "      <td>Zhongshan District</td>\n",
       "      <td>Taipei City</td>\n",
       "      <td>10491</td>\n",
       "      <td>Taipei</td>\n",
       "      <td>Zhongshan District, Taiwan</td>\n",
       "      <td>TW</td>\n",
       "      <td>Taiwan</td>\n",
       "      <td>25.05567</td>\n",
       "      <td>121.52176</td>\n",
       "      <td>t</td>\n",
       "      <td>Apartment</td>\n",
       "      <td>Entire home/apt</td>\n",
       "      <td>2</td>\n",
       "      <td>1.0</td>\n",
       "      <td>1.0</td>\n",
       "      <td>1.0</td>\n",
       "      <td>Real Bed</td>\n",
       "      <td>{\"Smoke detector\",\"Lock on bedroom door\",\"Self...</td>\n",
       "      <td>NaN</td>\n",
       "      <td>$1,088.00</td>\n",
       "      <td>NaN</td>\n",
       "      <td>NaN</td>\n",
       "      <td>$0.00</td>\n",
       "      <td>$0.00</td>\n",
       "      <td>2</td>\n",
       "      <td>$200.00</td>\n",
       "      <td>1360</td>\n",
       "      <td>301360</td>\n",
       "      <td>1360</td>\n",
       "      <td>1360</td>\n",
       "      <td>301360</td>\n",
       "      <td>301360</td>\n",
       "      <td>1360.0</td>\n",
       "      <td>301360.0</td>\n",
       "      <td>5 months ago</td>\n",
       "      <td>t</td>\n",
       "      <td>30</td>\n",
       "      <td>60</td>\n",
       "      <td>90</td>\n",
       "      <td>91</td>\n",
       "      <td>2019-07-30</td>\n",
       "      <td>3</td>\n",
       "      <td>0</td>\n",
       "      <td>2017-11-26</td>\n",
       "      <td>2018-04-07</td>\n",
       "      <td>87.0</td>\n",
       "      <td>10.0</td>\n",
       "      <td>9.0</td>\n",
       "      <td>10.0</td>\n",
       "      <td>10.0</td>\n",
       "      <td>10.0</td>\n",
       "      <td>9.0</td>\n",
       "      <td>f</td>\n",
       "      <td>NaN</td>\n",
       "      <td>{\"Taiwan VAT Tax\"}</td>\n",
       "      <td>f</td>\n",
       "      <td>f</td>\n",
       "      <td>strict_14_with_grace_period</td>\n",
       "      <td>f</td>\n",
       "      <td>f</td>\n",
       "      <td>22</td>\n",
       "      <td>22</td>\n",
       "      <td>0</td>\n",
       "      <td>0</td>\n",
       "      <td>0.15</td>\n",
       "    </tr>\n",
       "    <tr>\n",
       "      <td>2</td>\n",
       "      <td>12233854</td>\n",
       "      <td>https://www.airbnb.com/rooms/12233854</td>\n",
       "      <td>20190730190716</td>\n",
       "      <td>2019-07-30</td>\n",
       "      <td>501 Nice suite 3 person in CBD 5 mins MRT短期套房出租</td>\n",
       "      <td>This is an ensuite 3 single bed in Taipei city...</td>\n",
       "      <td>This is an ensuite 3 people room in Taipei cit...</td>\n",
       "      <td>This is an ensuite 3 single bed in Taipei city...</td>\n",
       "      <td>none</td>\n",
       "      <td>本館經營短期月租套房已經有十三年的歷史主要住戶都是海外歸國華僑,絕大部分都是日商公司外派的員...</td>\n",
       "      <td>本館交通極為便利對於海外來台旅遊旅客特別方便可在機場搭國光客運或大有巴士在國賓飯店或晶華酒店...</td>\n",
       "      <td>本館交通指揮便利捷運走路五分鐘即可抵達雙連捷運站七分鐘即可抵達中山捷運站,到火車站只有一站之...</td>\n",
       "      <td>本館交通指揮便利捷運走路五分鐘即可抵達雙連捷運站七分鐘即可抵達中山捷運站,到火車站只有一站之...</td>\n",
       "      <td>NaN</td>\n",
       "      <td>NaN</td>\n",
       "      <td>NaN</td>\n",
       "      <td>NaN</td>\n",
       "      <td>https://a0.muscache.com/im/pictures/0d42f649-a...</td>\n",
       "      <td>NaN</td>\n",
       "      <td>65353075</td>\n",
       "      <td>https://www.airbnb.com/users/show/65353075</td>\n",
       "      <td>Jannifer</td>\n",
       "      <td>2016-04-01</td>\n",
       "      <td>Zhongshan District, Taipei City, Taiwan</td>\n",
       "      <td>大家好!十三年前因爲因緣際會和朋友合夥經營短期月租套房｡我們盡全力希望能夠提供旅行者便利經濟...</td>\n",
       "      <td>within an hour</td>\n",
       "      <td>100%</td>\n",
       "      <td>NaN</td>\n",
       "      <td>f</td>\n",
       "      <td>https://a0.muscache.com/im/pictures/user/1dcc4...</td>\n",
       "      <td>https://a0.muscache.com/im/pictures/user/1dcc4...</td>\n",
       "      <td>Zhongshan</td>\n",
       "      <td>23.0</td>\n",
       "      <td>23.0</td>\n",
       "      <td>['email', 'phone', 'reviews', 'jumio', 'govern...</td>\n",
       "      <td>t</td>\n",
       "      <td>f</td>\n",
       "      <td>Zhongshan District, Taipei City, Taiwan</td>\n",
       "      <td>Zhongshan</td>\n",
       "      <td>中山區</td>\n",
       "      <td>NaN</td>\n",
       "      <td>Zhongshan District</td>\n",
       "      <td>Taipei City</td>\n",
       "      <td>10491</td>\n",
       "      <td>Taipei</td>\n",
       "      <td>Zhongshan District, Taiwan</td>\n",
       "      <td>TW</td>\n",
       "      <td>Taiwan</td>\n",
       "      <td>25.05615</td>\n",
       "      <td>121.52385</td>\n",
       "      <td>t</td>\n",
       "      <td>Apartment</td>\n",
       "      <td>Entire home/apt</td>\n",
       "      <td>3</td>\n",
       "      <td>1.0</td>\n",
       "      <td>1.0</td>\n",
       "      <td>3.0</td>\n",
       "      <td>Real Bed</td>\n",
       "      <td>{TV,\"Cable TV\",Wifi,\"Air conditioning\",Washer,...</td>\n",
       "      <td>NaN</td>\n",
       "      <td>$1,586.00</td>\n",
       "      <td>NaN</td>\n",
       "      <td>NaN</td>\n",
       "      <td>$0.00</td>\n",
       "      <td>$0.00</td>\n",
       "      <td>3</td>\n",
       "      <td>$200.00</td>\n",
       "      <td>1360</td>\n",
       "      <td>11251360</td>\n",
       "      <td>1360</td>\n",
       "      <td>1360</td>\n",
       "      <td>11251360</td>\n",
       "      <td>11251360</td>\n",
       "      <td>1360.0</td>\n",
       "      <td>11251360.0</td>\n",
       "      <td>5 months ago</td>\n",
       "      <td>t</td>\n",
       "      <td>30</td>\n",
       "      <td>60</td>\n",
       "      <td>90</td>\n",
       "      <td>91</td>\n",
       "      <td>2019-07-30</td>\n",
       "      <td>1</td>\n",
       "      <td>0</td>\n",
       "      <td>2017-12-10</td>\n",
       "      <td>2017-12-10</td>\n",
       "      <td>80.0</td>\n",
       "      <td>8.0</td>\n",
       "      <td>8.0</td>\n",
       "      <td>8.0</td>\n",
       "      <td>8.0</td>\n",
       "      <td>8.0</td>\n",
       "      <td>8.0</td>\n",
       "      <td>f</td>\n",
       "      <td>NaN</td>\n",
       "      <td>{\"Taiwan VAT Tax\"}</td>\n",
       "      <td>f</td>\n",
       "      <td>f</td>\n",
       "      <td>strict_14_with_grace_period</td>\n",
       "      <td>f</td>\n",
       "      <td>f</td>\n",
       "      <td>22</td>\n",
       "      <td>22</td>\n",
       "      <td>0</td>\n",
       "      <td>0</td>\n",
       "      <td>0.05</td>\n",
       "    </tr>\n",
       "  </tbody>\n",
       "</table>\n",
       "</div>"
      ],
      "text/plain": [
       "         id                            listing_url       scrape_id  \\\n",
       "0  12166838  https://www.airbnb.com/rooms/12166838  20190730190716   \n",
       "1  12233547  https://www.airbnb.com/rooms/12233547  20190730190716   \n",
       "2  12233854  https://www.airbnb.com/rooms/12233854  20190730190716   \n",
       "\n",
       "  last_scraped                                             name  \\\n",
       "0   2019-07-30       503Bright suite 5 min MRT in CBD捷运旁市中心短期租房   \n",
       "1   2019-07-30     502 Spacious ensuite balconied CBD 5 min MRT   \n",
       "2   2019-07-30  501 Nice suite 3 person in CBD 5 mins MRT短期套房出租   \n",
       "\n",
       "                                             summary  \\\n",
       "0  This is an ensuite double room in Taipei city ...   \n",
       "1  This is an ensuite Taipei city center. Nicely ...   \n",
       "2  This is an ensuite 3 single bed in Taipei city...   \n",
       "\n",
       "                                               space  \\\n",
       "0  經營短期月租套房已經有十三年的歷史主要住戶都是海外歸國華僑,絕大部分都是日商公司外派的員工,...   \n",
       "1  This is a spacious ensuite in Taipei city cent...   \n",
       "2  This is an ensuite 3 people room in Taipei cit...   \n",
       "\n",
       "                                         description experiences_offered  \\\n",
       "0  This is an ensuite double room in Taipei city ...                none   \n",
       "1  This is an ensuite Taipei city center. Nicely ...                none   \n",
       "2  This is an ensuite 3 single bed in Taipei city...                none   \n",
       "\n",
       "                               neighborhood_overview  \\\n",
       "0  本館經營短期月租套房已經有十三年的歷史主要住戶都是海外歸國華僑,絕大部分都是日商公司外派的員...   \n",
       "1  本館經營短期月租套房已經有十年的歷史主要住戶都是海外歸國華僑,絕大部分都是日商公司外派的員工...   \n",
       "2  本館經營短期月租套房已經有十三年的歷史主要住戶都是海外歸國華僑,絕大部分都是日商公司外派的員...   \n",
       "\n",
       "                                               notes  \\\n",
       "0  本館交通極為便利對於海外來台旅遊旅客特別方便可在機場搭國光客運或大有巴士在國賓飯店或晶華酒店...   \n",
       "1  本館交通極為便利對於海外來台旅遊旅客特別方便可在機場搭國光客運或大有巴士在國賓飯店或晶華酒店...   \n",
       "2  本館交通極為便利對於海外來台旅遊旅客特別方便可在機場搭國光客運或大有巴士在國賓飯店或晶華酒店...   \n",
       "\n",
       "                                             transit  \\\n",
       "0  本館附近有嘟嘟房｡台灣聯通或長春路上畫隔的公有停車場停車非常方便｡ 本館交通指揮便利捷運走路...   \n",
       "1  本館交通指揮便利捷運走路五分鐘即可抵達雙連捷運站七分鐘即可抵達中山捷運站,到火車站只有一站之...   \n",
       "2  本館交通指揮便利捷運走路五分鐘即可抵達雙連捷運站七分鐘即可抵達中山捷運站,到火車站只有一站之...   \n",
       "\n",
       "                                              access interaction house_rules  \\\n",
       "0  This is an ensuite double room in Taipei city ...         NaN         NaN   \n",
       "1  本館交通指揮便利捷運走路五分鐘即可抵達雙連捷運站七分鐘即可抵達中山捷運站,到火車站只有一站之...         NaN         NaN   \n",
       "2  本館交通指揮便利捷運走路五分鐘即可抵達雙連捷運站七分鐘即可抵達中山捷運站,到火車站只有一站之...         NaN         NaN   \n",
       "\n",
       "   thumbnail_url  medium_url  \\\n",
       "0            NaN         NaN   \n",
       "1            NaN         NaN   \n",
       "2            NaN         NaN   \n",
       "\n",
       "                                         picture_url  xl_picture_url  \\\n",
       "0  https://a0.muscache.com/im/pictures/dee51815-e...             NaN   \n",
       "1  https://a0.muscache.com/im/pictures/21afe680-8...             NaN   \n",
       "2  https://a0.muscache.com/im/pictures/0d42f649-a...             NaN   \n",
       "\n",
       "    host_id                                    host_url host_name  host_since  \\\n",
       "0  65353075  https://www.airbnb.com/users/show/65353075  Jannifer  2016-04-01   \n",
       "1  65353075  https://www.airbnb.com/users/show/65353075  Jannifer  2016-04-01   \n",
       "2  65353075  https://www.airbnb.com/users/show/65353075  Jannifer  2016-04-01   \n",
       "\n",
       "                             host_location  \\\n",
       "0  Zhongshan District, Taipei City, Taiwan   \n",
       "1  Zhongshan District, Taipei City, Taiwan   \n",
       "2  Zhongshan District, Taipei City, Taiwan   \n",
       "\n",
       "                                          host_about host_response_time  \\\n",
       "0  大家好!十三年前因爲因緣際會和朋友合夥經營短期月租套房｡我們盡全力希望能夠提供旅行者便利經濟...     within an hour   \n",
       "1  大家好!十三年前因爲因緣際會和朋友合夥經營短期月租套房｡我們盡全力希望能夠提供旅行者便利經濟...     within an hour   \n",
       "2  大家好!十三年前因爲因緣際會和朋友合夥經營短期月租套房｡我們盡全力希望能夠提供旅行者便利經濟...     within an hour   \n",
       "\n",
       "  host_response_rate  host_acceptance_rate host_is_superhost  \\\n",
       "0               100%                   NaN                 f   \n",
       "1               100%                   NaN                 f   \n",
       "2               100%                   NaN                 f   \n",
       "\n",
       "                                  host_thumbnail_url  \\\n",
       "0  https://a0.muscache.com/im/pictures/user/1dcc4...   \n",
       "1  https://a0.muscache.com/im/pictures/user/1dcc4...   \n",
       "2  https://a0.muscache.com/im/pictures/user/1dcc4...   \n",
       "\n",
       "                                    host_picture_url host_neighbourhood  \\\n",
       "0  https://a0.muscache.com/im/pictures/user/1dcc4...          Zhongshan   \n",
       "1  https://a0.muscache.com/im/pictures/user/1dcc4...          Zhongshan   \n",
       "2  https://a0.muscache.com/im/pictures/user/1dcc4...          Zhongshan   \n",
       "\n",
       "   host_listings_count  host_total_listings_count  \\\n",
       "0                 23.0                       23.0   \n",
       "1                 23.0                       23.0   \n",
       "2                 23.0                       23.0   \n",
       "\n",
       "                                  host_verifications host_has_profile_pic  \\\n",
       "0  ['email', 'phone', 'reviews', 'jumio', 'govern...                    t   \n",
       "1  ['email', 'phone', 'reviews', 'jumio', 'govern...                    t   \n",
       "2  ['email', 'phone', 'reviews', 'jumio', 'govern...                    t   \n",
       "\n",
       "  host_identity_verified                                   street  \\\n",
       "0                      f  Zhongshan District, Taipei City, Taiwan   \n",
       "1                      f  Zhongshan District, Taipei City, Taiwan   \n",
       "2                      f  Zhongshan District, Taipei City, Taiwan   \n",
       "\n",
       "  neighbourhood neighbourhood_cleansed  neighbourhood_group_cleansed  \\\n",
       "0     Zhongshan                    中山區                           NaN   \n",
       "1     Zhongshan                    中山區                           NaN   \n",
       "2     Zhongshan                    中山區                           NaN   \n",
       "\n",
       "                 city        state zipcode  market  \\\n",
       "0  Zhongshan District  Taipei City   10491  Taipei   \n",
       "1  Zhongshan District  Taipei City   10491  Taipei   \n",
       "2  Zhongshan District  Taipei City   10491  Taipei   \n",
       "\n",
       "               smart_location country_code country  latitude  longitude  \\\n",
       "0  Zhongshan District, Taiwan           TW  Taiwan  25.05420  121.52331   \n",
       "1  Zhongshan District, Taiwan           TW  Taiwan  25.05567  121.52176   \n",
       "2  Zhongshan District, Taiwan           TW  Taiwan  25.05615  121.52385   \n",
       "\n",
       "  is_location_exact property_type        room_type  accommodates  bathrooms  \\\n",
       "0                 t     Apartment  Entire home/apt             2        1.0   \n",
       "1                 t     Apartment  Entire home/apt             2        1.0   \n",
       "2                 t     Apartment  Entire home/apt             3        1.0   \n",
       "\n",
       "   bedrooms  beds  bed_type  \\\n",
       "0       1.0   1.0  Real Bed   \n",
       "1       1.0   1.0  Real Bed   \n",
       "2       1.0   3.0  Real Bed   \n",
       "\n",
       "                                           amenities  square_feet      price  \\\n",
       "0  {TV,\"Cable TV\",Internet,Wifi,\"Air conditioning...          NaN  $1,057.00   \n",
       "1  {\"Smoke detector\",\"Lock on bedroom door\",\"Self...          NaN  $1,088.00   \n",
       "2  {TV,\"Cable TV\",Wifi,\"Air conditioning\",Washer,...          NaN  $1,586.00   \n",
       "\n",
       "  weekly_price monthly_price security_deposit cleaning_fee  guests_included  \\\n",
       "0          NaN           NaN            $0.00        $0.00                2   \n",
       "1          NaN           NaN            $0.00        $0.00                2   \n",
       "2          NaN           NaN            $0.00        $0.00                3   \n",
       "\n",
       "  extra_people  minimum_nights  maximum_nights  minimum_minimum_nights  \\\n",
       "0      $200.00            1360            1360                    1360   \n",
       "1      $200.00            1360          301360                    1360   \n",
       "2      $200.00            1360        11251360                    1360   \n",
       "\n",
       "   maximum_minimum_nights  minimum_maximum_nights  maximum_maximum_nights  \\\n",
       "0                    1360                    1360                    1360   \n",
       "1                    1360                  301360                  301360   \n",
       "2                    1360                11251360                11251360   \n",
       "\n",
       "   minimum_nights_avg_ntm  maximum_nights_avg_ntm calendar_updated  \\\n",
       "0                  1360.0                  1360.0     5 months ago   \n",
       "1                  1360.0                301360.0     5 months ago   \n",
       "2                  1360.0              11251360.0     5 months ago   \n",
       "\n",
       "  has_availability  availability_30  availability_60  availability_90  \\\n",
       "0                t               30               60               90   \n",
       "1                t               30               60               90   \n",
       "2                t               30               60               90   \n",
       "\n",
       "   availability_365 calendar_last_scraped  number_of_reviews  \\\n",
       "0                91            2019-07-30                  4   \n",
       "1                91            2019-07-30                  3   \n",
       "2                91            2019-07-30                  1   \n",
       "\n",
       "   number_of_reviews_ltm first_review last_review  review_scores_rating  \\\n",
       "0                      0   2017-11-18  2018-04-07                 100.0   \n",
       "1                      0   2017-11-26  2018-04-07                  87.0   \n",
       "2                      0   2017-12-10  2017-12-10                  80.0   \n",
       "\n",
       "   review_scores_accuracy  review_scores_cleanliness  review_scores_checkin  \\\n",
       "0                    10.0                       10.0                   10.0   \n",
       "1                    10.0                        9.0                   10.0   \n",
       "2                     8.0                        8.0                    8.0   \n",
       "\n",
       "   review_scores_communication  review_scores_location  review_scores_value  \\\n",
       "0                         10.0                    10.0                 10.0   \n",
       "1                         10.0                    10.0                  9.0   \n",
       "2                          8.0                     8.0                  8.0   \n",
       "\n",
       "  requires_license license  jurisdiction_names instant_bookable  \\\n",
       "0                f     NaN  {\"Taiwan VAT Tax\"}                f   \n",
       "1                f     NaN  {\"Taiwan VAT Tax\"}                f   \n",
       "2                f     NaN  {\"Taiwan VAT Tax\"}                f   \n",
       "\n",
       "  is_business_travel_ready          cancellation_policy  \\\n",
       "0                        f  strict_14_with_grace_period   \n",
       "1                        f  strict_14_with_grace_period   \n",
       "2                        f  strict_14_with_grace_period   \n",
       "\n",
       "  require_guest_profile_picture require_guest_phone_verification  \\\n",
       "0                             f                                f   \n",
       "1                             f                                f   \n",
       "2                             f                                f   \n",
       "\n",
       "   calculated_host_listings_count  \\\n",
       "0                              22   \n",
       "1                              22   \n",
       "2                              22   \n",
       "\n",
       "   calculated_host_listings_count_entire_homes  \\\n",
       "0                                           22   \n",
       "1                                           22   \n",
       "2                                           22   \n",
       "\n",
       "   calculated_host_listings_count_private_rooms  \\\n",
       "0                                             0   \n",
       "1                                             0   \n",
       "2                                             0   \n",
       "\n",
       "   calculated_host_listings_count_shared_rooms  reviews_per_month  \n",
       "0                                            0               0.19  \n",
       "1                                            0               0.15  \n",
       "2                                            0               0.05  "
      ]
     },
     "execution_count": 2,
     "metadata": {},
     "output_type": "execute_result"
    }
   ],
   "source": [
    "#用pandas讀取文件，並顯示前三行內容\n",
    "raw_df = pd.read_csv('listings_good2.csv',encoding='utf-8')\n",
    "print(f\"The dataset contains {len(raw_df)} Airbnb listings\")\n",
    "pd.set_option('display.max_columns', len(raw_df.columns)) # To view all columns\n",
    "pd.set_option('display.max_rows', 100)\n",
    "print('欄位數:',len(raw_df.columns))\n",
    "raw_df.head(3)"
   ]
  },
  {
   "cell_type": "code",
   "execution_count": 3,
   "metadata": {},
   "outputs": [],
   "source": [
    "#先刪除爬取與房源相關的欄位資訊\n",
    "cols_to_drop = ['listing_url', 'scrape_id', 'last_scraped', 'name', 'summary', 'space', 'description', 'neighborhood_overview', 'notes', 'transit', 'access', 'interaction', 'house_rules', 'thumbnail_url', 'medium_url', 'picture_url', 'xl_picture_url', 'host_id', 'host_url', 'host_name', 'host_location', 'host_about', 'host_thumbnail_url', 'host_picture_url', 'host_neighbourhood', 'host_identity_verified', 'host_verifications', 'calendar_last_scraped']\n",
    "df = raw_df.drop(cols_to_drop, axis=1)"
   ]
  },
  {
   "cell_type": "code",
   "execution_count": 4,
   "metadata": {},
   "outputs": [
    {
     "data": {
      "text/plain": [
       "id                                                 0\n",
       "experiences_offered                                0\n",
       "host_since                                         3\n",
       "host_response_time                               176\n",
       "host_response_rate                               176\n",
       "host_acceptance_rate                            4939\n",
       "host_is_superhost                                  3\n",
       "host_listings_count                                3\n",
       "host_total_listings_count                          3\n",
       "host_has_profile_pic                               3\n",
       "street                                             0\n",
       "neighbourhood                                     78\n",
       "neighbourhood_cleansed                             0\n",
       "neighbourhood_group_cleansed                    4939\n",
       "city                                              68\n",
       "state                                            190\n",
       "zipcode                                          198\n",
       "market                                             0\n",
       "smart_location                                     0\n",
       "country_code                                       0\n",
       "country                                            0\n",
       "latitude                                           0\n",
       "longitude                                          0\n",
       "is_location_exact                                  0\n",
       "property_type                                      0\n",
       "room_type                                          0\n",
       "accommodates                                       0\n",
       "bathrooms                                          2\n",
       "bedrooms                                           2\n",
       "beds                                               4\n",
       "bed_type                                           0\n",
       "amenities                                          0\n",
       "square_feet                                     4914\n",
       "price                                              0\n",
       "weekly_price                                    4646\n",
       "monthly_price                                   4614\n",
       "security_deposit                                1251\n",
       "cleaning_fee                                     649\n",
       "guests_included                                    0\n",
       "extra_people                                       0\n",
       "minimum_nights                                     0\n",
       "maximum_nights                                     0\n",
       "minimum_minimum_nights                             0\n",
       "maximum_minimum_nights                             0\n",
       "minimum_maximum_nights                             0\n",
       "maximum_maximum_nights                             0\n",
       "minimum_nights_avg_ntm                             0\n",
       "maximum_nights_avg_ntm                             0\n",
       "calendar_updated                                   0\n",
       "has_availability                                   0\n",
       "availability_30                                    0\n",
       "availability_60                                    0\n",
       "availability_90                                    0\n",
       "availability_365                                   0\n",
       "number_of_reviews                                  0\n",
       "number_of_reviews_ltm                              0\n",
       "first_review                                       0\n",
       "last_review                                        0\n",
       "review_scores_rating                              25\n",
       "review_scores_accuracy                            25\n",
       "review_scores_cleanliness                         25\n",
       "review_scores_checkin                             25\n",
       "review_scores_communication                       25\n",
       "review_scores_location                            25\n",
       "review_scores_value                               25\n",
       "requires_license                                   0\n",
       "license                                         4915\n",
       "jurisdiction_names                                 1\n",
       "instant_bookable                                   0\n",
       "is_business_travel_ready                           0\n",
       "cancellation_policy                                0\n",
       "require_guest_profile_picture                      0\n",
       "require_guest_phone_verification                   0\n",
       "calculated_host_listings_count                     0\n",
       "calculated_host_listings_count_entire_homes        0\n",
       "calculated_host_listings_count_private_rooms       0\n",
       "calculated_host_listings_count_shared_rooms        0\n",
       "reviews_per_month                                  0\n",
       "dtype: int64"
      ]
     },
     "execution_count": 4,
     "metadata": {},
     "output_type": "execute_result"
    }
   ],
   "source": [
    "#顯示各欄的資料空值筆數\n",
    "df.isna().sum()"
   ]
  },
  {
   "cell_type": "code",
   "execution_count": 5,
   "metadata": {},
   "outputs": [],
   "source": [
    "#刪除空值比率過高的欄位，將id欄位設為index\n",
    "df.drop(['host_acceptance_rate', 'neighbourhood_group_cleansed', 'square_feet', 'weekly_price', 'monthly_price', 'license' ], axis=1, inplace=True)\n",
    "\n",
    "df.set_index('id', inplace=True)"
   ]
  },
  {
   "cell_type": "code",
   "execution_count": 6,
   "metadata": {},
   "outputs": [
    {
     "name": "stdout",
     "output_type": "stream",
     "text": [
      "3\n"
     ]
    }
   ],
   "source": [
    "#觀察資料內容發現host_listings_count與host_total_listings_count兩個欄位的數值是完全相同的，比對內容後只有3個不同，主要這三個欄位為空值\n",
    "print(sum((df.host_listings_count == df.host_total_listings_count) == False))"
   ]
  },
  {
   "cell_type": "code",
   "execution_count": 7,
   "metadata": {},
   "outputs": [
    {
     "data": {
      "text/html": [
       "<div>\n",
       "<style scoped>\n",
       "    .dataframe tbody tr th:only-of-type {\n",
       "        vertical-align: middle;\n",
       "    }\n",
       "\n",
       "    .dataframe tbody tr th {\n",
       "        vertical-align: top;\n",
       "    }\n",
       "\n",
       "    .dataframe thead th {\n",
       "        text-align: right;\n",
       "    }\n",
       "</style>\n",
       "<table border=\"1\" class=\"dataframe\">\n",
       "  <thead>\n",
       "    <tr style=\"text-align: right;\">\n",
       "      <th></th>\n",
       "      <th>experiences_offered</th>\n",
       "      <th>host_since</th>\n",
       "      <th>host_response_time</th>\n",
       "      <th>host_response_rate</th>\n",
       "      <th>host_is_superhost</th>\n",
       "      <th>host_listings_count</th>\n",
       "      <th>host_total_listings_count</th>\n",
       "      <th>host_has_profile_pic</th>\n",
       "      <th>street</th>\n",
       "      <th>neighbourhood</th>\n",
       "      <th>neighbourhood_cleansed</th>\n",
       "      <th>city</th>\n",
       "      <th>state</th>\n",
       "      <th>zipcode</th>\n",
       "      <th>market</th>\n",
       "      <th>smart_location</th>\n",
       "      <th>country_code</th>\n",
       "      <th>country</th>\n",
       "      <th>latitude</th>\n",
       "      <th>longitude</th>\n",
       "      <th>is_location_exact</th>\n",
       "      <th>property_type</th>\n",
       "      <th>room_type</th>\n",
       "      <th>accommodates</th>\n",
       "      <th>bathrooms</th>\n",
       "      <th>bedrooms</th>\n",
       "      <th>beds</th>\n",
       "      <th>bed_type</th>\n",
       "      <th>amenities</th>\n",
       "      <th>price</th>\n",
       "      <th>security_deposit</th>\n",
       "      <th>cleaning_fee</th>\n",
       "      <th>guests_included</th>\n",
       "      <th>extra_people</th>\n",
       "      <th>minimum_nights</th>\n",
       "      <th>maximum_nights</th>\n",
       "      <th>minimum_minimum_nights</th>\n",
       "      <th>maximum_minimum_nights</th>\n",
       "      <th>minimum_maximum_nights</th>\n",
       "      <th>maximum_maximum_nights</th>\n",
       "      <th>minimum_nights_avg_ntm</th>\n",
       "      <th>maximum_nights_avg_ntm</th>\n",
       "      <th>calendar_updated</th>\n",
       "      <th>has_availability</th>\n",
       "      <th>availability_30</th>\n",
       "      <th>availability_60</th>\n",
       "      <th>availability_90</th>\n",
       "      <th>availability_365</th>\n",
       "      <th>number_of_reviews</th>\n",
       "      <th>number_of_reviews_ltm</th>\n",
       "      <th>first_review</th>\n",
       "      <th>last_review</th>\n",
       "      <th>review_scores_rating</th>\n",
       "      <th>review_scores_accuracy</th>\n",
       "      <th>review_scores_cleanliness</th>\n",
       "      <th>review_scores_checkin</th>\n",
       "      <th>review_scores_communication</th>\n",
       "      <th>review_scores_location</th>\n",
       "      <th>review_scores_value</th>\n",
       "      <th>requires_license</th>\n",
       "      <th>jurisdiction_names</th>\n",
       "      <th>instant_bookable</th>\n",
       "      <th>is_business_travel_ready</th>\n",
       "      <th>cancellation_policy</th>\n",
       "      <th>require_guest_profile_picture</th>\n",
       "      <th>require_guest_phone_verification</th>\n",
       "      <th>calculated_host_listings_count</th>\n",
       "      <th>calculated_host_listings_count_entire_homes</th>\n",
       "      <th>calculated_host_listings_count_private_rooms</th>\n",
       "      <th>calculated_host_listings_count_shared_rooms</th>\n",
       "      <th>reviews_per_month</th>\n",
       "    </tr>\n",
       "    <tr>\n",
       "      <th>id</th>\n",
       "      <th></th>\n",
       "      <th></th>\n",
       "      <th></th>\n",
       "      <th></th>\n",
       "      <th></th>\n",
       "      <th></th>\n",
       "      <th></th>\n",
       "      <th></th>\n",
       "      <th></th>\n",
       "      <th></th>\n",
       "      <th></th>\n",
       "      <th></th>\n",
       "      <th></th>\n",
       "      <th></th>\n",
       "      <th></th>\n",
       "      <th></th>\n",
       "      <th></th>\n",
       "      <th></th>\n",
       "      <th></th>\n",
       "      <th></th>\n",
       "      <th></th>\n",
       "      <th></th>\n",
       "      <th></th>\n",
       "      <th></th>\n",
       "      <th></th>\n",
       "      <th></th>\n",
       "      <th></th>\n",
       "      <th></th>\n",
       "      <th></th>\n",
       "      <th></th>\n",
       "      <th></th>\n",
       "      <th></th>\n",
       "      <th></th>\n",
       "      <th></th>\n",
       "      <th></th>\n",
       "      <th></th>\n",
       "      <th></th>\n",
       "      <th></th>\n",
       "      <th></th>\n",
       "      <th></th>\n",
       "      <th></th>\n",
       "      <th></th>\n",
       "      <th></th>\n",
       "      <th></th>\n",
       "      <th></th>\n",
       "      <th></th>\n",
       "      <th></th>\n",
       "      <th></th>\n",
       "      <th></th>\n",
       "      <th></th>\n",
       "      <th></th>\n",
       "      <th></th>\n",
       "      <th></th>\n",
       "      <th></th>\n",
       "      <th></th>\n",
       "      <th></th>\n",
       "      <th></th>\n",
       "      <th></th>\n",
       "      <th></th>\n",
       "      <th></th>\n",
       "      <th></th>\n",
       "      <th></th>\n",
       "      <th></th>\n",
       "      <th></th>\n",
       "      <th></th>\n",
       "      <th></th>\n",
       "      <th></th>\n",
       "      <th></th>\n",
       "      <th></th>\n",
       "      <th></th>\n",
       "      <th></th>\n",
       "    </tr>\n",
       "  </thead>\n",
       "  <tbody>\n",
       "    <tr>\n",
       "      <td>21393080</td>\n",
       "      <td>none</td>\n",
       "      <td>NaN</td>\n",
       "      <td>NaN</td>\n",
       "      <td>NaN</td>\n",
       "      <td>NaN</td>\n",
       "      <td>NaN</td>\n",
       "      <td>NaN</td>\n",
       "      <td>NaN</td>\n",
       "      <td>Datong District, Taipei City, Taiwan</td>\n",
       "      <td>Datong</td>\n",
       "      <td>大同區</td>\n",
       "      <td>Datong District</td>\n",
       "      <td>Taipei City</td>\n",
       "      <td>103</td>\n",
       "      <td>Taipei</td>\n",
       "      <td>Datong District, Taiwan</td>\n",
       "      <td>TW</td>\n",
       "      <td>Taiwan</td>\n",
       "      <td>25.04951</td>\n",
       "      <td>121.51762</td>\n",
       "      <td>t</td>\n",
       "      <td>Condominium</td>\n",
       "      <td>Entire home/apt</td>\n",
       "      <td>8</td>\n",
       "      <td>2.0</td>\n",
       "      <td>3.0</td>\n",
       "      <td>4.0</td>\n",
       "      <td>Real Bed</td>\n",
       "      <td>{TV,\"Cable TV\",Wifi,\"Air conditioning\",Kitchen...</td>\n",
       "      <td>$4,944.00</td>\n",
       "      <td>$0.00</td>\n",
       "      <td>$1,200.00</td>\n",
       "      <td>5</td>\n",
       "      <td>$500.00</td>\n",
       "      <td>1</td>\n",
       "      <td>35</td>\n",
       "      <td>1</td>\n",
       "      <td>2</td>\n",
       "      <td>35</td>\n",
       "      <td>35</td>\n",
       "      <td>1.1</td>\n",
       "      <td>35.0</td>\n",
       "      <td>a week ago</td>\n",
       "      <td>t</td>\n",
       "      <td>10</td>\n",
       "      <td>33</td>\n",
       "      <td>47</td>\n",
       "      <td>290</td>\n",
       "      <td>75</td>\n",
       "      <td>49</td>\n",
       "      <td>2017-11-19</td>\n",
       "      <td>2019-07-21</td>\n",
       "      <td>94.0</td>\n",
       "      <td>10.0</td>\n",
       "      <td>9.0</td>\n",
       "      <td>10.0</td>\n",
       "      <td>10.0</td>\n",
       "      <td>10.0</td>\n",
       "      <td>9.0</td>\n",
       "      <td>f</td>\n",
       "      <td>{\"Taiwan VAT Tax\"}</td>\n",
       "      <td>t</td>\n",
       "      <td>f</td>\n",
       "      <td>flexible</td>\n",
       "      <td>f</td>\n",
       "      <td>f</td>\n",
       "      <td>3</td>\n",
       "      <td>3</td>\n",
       "      <td>0</td>\n",
       "      <td>0</td>\n",
       "      <td>3.63</td>\n",
       "    </tr>\n",
       "    <tr>\n",
       "      <td>23084840</td>\n",
       "      <td>none</td>\n",
       "      <td>NaN</td>\n",
       "      <td>NaN</td>\n",
       "      <td>NaN</td>\n",
       "      <td>NaN</td>\n",
       "      <td>NaN</td>\n",
       "      <td>NaN</td>\n",
       "      <td>NaN</td>\n",
       "      <td>Datong District, Taipei City, Taiwan</td>\n",
       "      <td>Datong</td>\n",
       "      <td>大同區</td>\n",
       "      <td>Datong District</td>\n",
       "      <td>Taipei City</td>\n",
       "      <td>103</td>\n",
       "      <td>Taipei</td>\n",
       "      <td>Datong District, Taiwan</td>\n",
       "      <td>TW</td>\n",
       "      <td>Taiwan</td>\n",
       "      <td>25.04968</td>\n",
       "      <td>121.51839</td>\n",
       "      <td>t</td>\n",
       "      <td>Condominium</td>\n",
       "      <td>Entire home/apt</td>\n",
       "      <td>8</td>\n",
       "      <td>2.0</td>\n",
       "      <td>3.0</td>\n",
       "      <td>4.0</td>\n",
       "      <td>Real Bed</td>\n",
       "      <td>{TV,\"Cable TV\",Wifi,\"Air conditioning\",Kitchen...</td>\n",
       "      <td>$4,944.00</td>\n",
       "      <td>$0.00</td>\n",
       "      <td>$1,200.00</td>\n",
       "      <td>5</td>\n",
       "      <td>$500.00</td>\n",
       "      <td>1</td>\n",
       "      <td>35</td>\n",
       "      <td>1</td>\n",
       "      <td>2</td>\n",
       "      <td>35</td>\n",
       "      <td>35</td>\n",
       "      <td>1.1</td>\n",
       "      <td>35.0</td>\n",
       "      <td>a week ago</td>\n",
       "      <td>t</td>\n",
       "      <td>10</td>\n",
       "      <td>26</td>\n",
       "      <td>39</td>\n",
       "      <td>271</td>\n",
       "      <td>55</td>\n",
       "      <td>42</td>\n",
       "      <td>2018-04-02</td>\n",
       "      <td>2019-07-28</td>\n",
       "      <td>95.0</td>\n",
       "      <td>9.0</td>\n",
       "      <td>9.0</td>\n",
       "      <td>10.0</td>\n",
       "      <td>10.0</td>\n",
       "      <td>10.0</td>\n",
       "      <td>9.0</td>\n",
       "      <td>f</td>\n",
       "      <td>{\"Taiwan VAT Tax\"}</td>\n",
       "      <td>t</td>\n",
       "      <td>f</td>\n",
       "      <td>flexible</td>\n",
       "      <td>f</td>\n",
       "      <td>f</td>\n",
       "      <td>3</td>\n",
       "      <td>3</td>\n",
       "      <td>0</td>\n",
       "      <td>0</td>\n",
       "      <td>3.40</td>\n",
       "    </tr>\n",
       "    <tr>\n",
       "      <td>24884689</td>\n",
       "      <td>none</td>\n",
       "      <td>NaN</td>\n",
       "      <td>NaN</td>\n",
       "      <td>NaN</td>\n",
       "      <td>NaN</td>\n",
       "      <td>NaN</td>\n",
       "      <td>NaN</td>\n",
       "      <td>NaN</td>\n",
       "      <td>Datong District, Taipei City, Taiwan</td>\n",
       "      <td>Datong</td>\n",
       "      <td>大同區</td>\n",
       "      <td>Datong District</td>\n",
       "      <td>Taipei City</td>\n",
       "      <td>103</td>\n",
       "      <td>Taipei</td>\n",
       "      <td>Datong District, Taiwan</td>\n",
       "      <td>TW</td>\n",
       "      <td>Taiwan</td>\n",
       "      <td>25.04954</td>\n",
       "      <td>121.51799</td>\n",
       "      <td>t</td>\n",
       "      <td>Apartment</td>\n",
       "      <td>Entire home/apt</td>\n",
       "      <td>7</td>\n",
       "      <td>2.0</td>\n",
       "      <td>3.0</td>\n",
       "      <td>4.0</td>\n",
       "      <td>Real Bed</td>\n",
       "      <td>{TV,\"Cable TV\",Wifi,\"Air conditioning\",Kitchen...</td>\n",
       "      <td>$4,944.00</td>\n",
       "      <td>$0.00</td>\n",
       "      <td>$1,200.00</td>\n",
       "      <td>5</td>\n",
       "      <td>$500.00</td>\n",
       "      <td>1</td>\n",
       "      <td>35</td>\n",
       "      <td>1</td>\n",
       "      <td>2</td>\n",
       "      <td>35</td>\n",
       "      <td>35</td>\n",
       "      <td>1.1</td>\n",
       "      <td>35.0</td>\n",
       "      <td>yesterday</td>\n",
       "      <td>t</td>\n",
       "      <td>10</td>\n",
       "      <td>29</td>\n",
       "      <td>38</td>\n",
       "      <td>262</td>\n",
       "      <td>39</td>\n",
       "      <td>34</td>\n",
       "      <td>2018-05-18</td>\n",
       "      <td>2019-07-26</td>\n",
       "      <td>95.0</td>\n",
       "      <td>10.0</td>\n",
       "      <td>9.0</td>\n",
       "      <td>10.0</td>\n",
       "      <td>10.0</td>\n",
       "      <td>10.0</td>\n",
       "      <td>10.0</td>\n",
       "      <td>f</td>\n",
       "      <td>{\"Taiwan VAT Tax\"}</td>\n",
       "      <td>t</td>\n",
       "      <td>f</td>\n",
       "      <td>flexible</td>\n",
       "      <td>f</td>\n",
       "      <td>f</td>\n",
       "      <td>3</td>\n",
       "      <td>3</td>\n",
       "      <td>0</td>\n",
       "      <td>0</td>\n",
       "      <td>2.67</td>\n",
       "    </tr>\n",
       "  </tbody>\n",
       "</table>\n",
       "</div>"
      ],
      "text/plain": [
       "         experiences_offered host_since host_response_time host_response_rate  \\\n",
       "id                                                                              \n",
       "21393080                none        NaN                NaN                NaN   \n",
       "23084840                none        NaN                NaN                NaN   \n",
       "24884689                none        NaN                NaN                NaN   \n",
       "\n",
       "         host_is_superhost  host_listings_count  host_total_listings_count  \\\n",
       "id                                                                           \n",
       "21393080               NaN                  NaN                        NaN   \n",
       "23084840               NaN                  NaN                        NaN   \n",
       "24884689               NaN                  NaN                        NaN   \n",
       "\n",
       "         host_has_profile_pic                                street  \\\n",
       "id                                                                    \n",
       "21393080                  NaN  Datong District, Taipei City, Taiwan   \n",
       "23084840                  NaN  Datong District, Taipei City, Taiwan   \n",
       "24884689                  NaN  Datong District, Taipei City, Taiwan   \n",
       "\n",
       "         neighbourhood neighbourhood_cleansed             city        state  \\\n",
       "id                                                                            \n",
       "21393080        Datong                    大同區  Datong District  Taipei City   \n",
       "23084840        Datong                    大同區  Datong District  Taipei City   \n",
       "24884689        Datong                    大同區  Datong District  Taipei City   \n",
       "\n",
       "         zipcode  market           smart_location country_code country  \\\n",
       "id                                                                       \n",
       "21393080     103  Taipei  Datong District, Taiwan           TW  Taiwan   \n",
       "23084840     103  Taipei  Datong District, Taiwan           TW  Taiwan   \n",
       "24884689     103  Taipei  Datong District, Taiwan           TW  Taiwan   \n",
       "\n",
       "          latitude  longitude is_location_exact property_type  \\\n",
       "id                                                              \n",
       "21393080  25.04951  121.51762                 t   Condominium   \n",
       "23084840  25.04968  121.51839                 t   Condominium   \n",
       "24884689  25.04954  121.51799                 t     Apartment   \n",
       "\n",
       "                room_type  accommodates  bathrooms  bedrooms  beds  bed_type  \\\n",
       "id                                                                             \n",
       "21393080  Entire home/apt             8        2.0       3.0   4.0  Real Bed   \n",
       "23084840  Entire home/apt             8        2.0       3.0   4.0  Real Bed   \n",
       "24884689  Entire home/apt             7        2.0       3.0   4.0  Real Bed   \n",
       "\n",
       "                                                  amenities      price  \\\n",
       "id                                                                       \n",
       "21393080  {TV,\"Cable TV\",Wifi,\"Air conditioning\",Kitchen...  $4,944.00   \n",
       "23084840  {TV,\"Cable TV\",Wifi,\"Air conditioning\",Kitchen...  $4,944.00   \n",
       "24884689  {TV,\"Cable TV\",Wifi,\"Air conditioning\",Kitchen...  $4,944.00   \n",
       "\n",
       "         security_deposit cleaning_fee  guests_included extra_people  \\\n",
       "id                                                                     \n",
       "21393080            $0.00    $1,200.00                5      $500.00   \n",
       "23084840            $0.00    $1,200.00                5      $500.00   \n",
       "24884689            $0.00    $1,200.00                5      $500.00   \n",
       "\n",
       "          minimum_nights  maximum_nights  minimum_minimum_nights  \\\n",
       "id                                                                 \n",
       "21393080               1              35                       1   \n",
       "23084840               1              35                       1   \n",
       "24884689               1              35                       1   \n",
       "\n",
       "          maximum_minimum_nights  minimum_maximum_nights  \\\n",
       "id                                                         \n",
       "21393080                       2                      35   \n",
       "23084840                       2                      35   \n",
       "24884689                       2                      35   \n",
       "\n",
       "          maximum_maximum_nights  minimum_nights_avg_ntm  \\\n",
       "id                                                         \n",
       "21393080                      35                     1.1   \n",
       "23084840                      35                     1.1   \n",
       "24884689                      35                     1.1   \n",
       "\n",
       "          maximum_nights_avg_ntm calendar_updated has_availability  \\\n",
       "id                                                                   \n",
       "21393080                    35.0       a week ago                t   \n",
       "23084840                    35.0       a week ago                t   \n",
       "24884689                    35.0        yesterday                t   \n",
       "\n",
       "          availability_30  availability_60  availability_90  availability_365  \\\n",
       "id                                                                              \n",
       "21393080               10               33               47               290   \n",
       "23084840               10               26               39               271   \n",
       "24884689               10               29               38               262   \n",
       "\n",
       "          number_of_reviews  number_of_reviews_ltm first_review last_review  \\\n",
       "id                                                                            \n",
       "21393080                 75                     49   2017-11-19  2019-07-21   \n",
       "23084840                 55                     42   2018-04-02  2019-07-28   \n",
       "24884689                 39                     34   2018-05-18  2019-07-26   \n",
       "\n",
       "          review_scores_rating  review_scores_accuracy  \\\n",
       "id                                                       \n",
       "21393080                  94.0                    10.0   \n",
       "23084840                  95.0                     9.0   \n",
       "24884689                  95.0                    10.0   \n",
       "\n",
       "          review_scores_cleanliness  review_scores_checkin  \\\n",
       "id                                                           \n",
       "21393080                        9.0                   10.0   \n",
       "23084840                        9.0                   10.0   \n",
       "24884689                        9.0                   10.0   \n",
       "\n",
       "          review_scores_communication  review_scores_location  \\\n",
       "id                                                              \n",
       "21393080                         10.0                    10.0   \n",
       "23084840                         10.0                    10.0   \n",
       "24884689                         10.0                    10.0   \n",
       "\n",
       "          review_scores_value requires_license  jurisdiction_names  \\\n",
       "id                                                                   \n",
       "21393080                  9.0                f  {\"Taiwan VAT Tax\"}   \n",
       "23084840                  9.0                f  {\"Taiwan VAT Tax\"}   \n",
       "24884689                 10.0                f  {\"Taiwan VAT Tax\"}   \n",
       "\n",
       "         instant_bookable is_business_travel_ready cancellation_policy  \\\n",
       "id                                                                       \n",
       "21393080                t                        f            flexible   \n",
       "23084840                t                        f            flexible   \n",
       "24884689                t                        f            flexible   \n",
       "\n",
       "         require_guest_profile_picture require_guest_phone_verification  \\\n",
       "id                                                                        \n",
       "21393080                             f                                f   \n",
       "23084840                             f                                f   \n",
       "24884689                             f                                f   \n",
       "\n",
       "          calculated_host_listings_count  \\\n",
       "id                                         \n",
       "21393080                               3   \n",
       "23084840                               3   \n",
       "24884689                               3   \n",
       "\n",
       "          calculated_host_listings_count_entire_homes  \\\n",
       "id                                                      \n",
       "21393080                                            3   \n",
       "23084840                                            3   \n",
       "24884689                                            3   \n",
       "\n",
       "          calculated_host_listings_count_private_rooms  \\\n",
       "id                                                       \n",
       "21393080                                             0   \n",
       "23084840                                             0   \n",
       "24884689                                             0   \n",
       "\n",
       "          calculated_host_listings_count_shared_rooms  reviews_per_month  \n",
       "id                                                                        \n",
       "21393080                                            0               3.63  \n",
       "23084840                                            0               3.40  \n",
       "24884689                                            0               2.67  "
      ]
     },
     "execution_count": 7,
     "metadata": {},
     "output_type": "execute_result"
    }
   ],
   "source": [
    "df.loc[((df.host_listings_count == df.host_total_listings_count) == False)][:3]"
   ]
  },
  {
   "cell_type": "code",
   "execution_count": 8,
   "metadata": {},
   "outputs": [],
   "source": [
    "#刪除host_total_listings_count欄位以及與他相關的欄位\n",
    "df.drop(['host_total_listings_count', 'calculated_host_listings_count', 'calculated_host_listings_count_entire_homes', 'calculated_host_listings_count_private_rooms', 'calculated_host_listings_count_shared_rooms'], axis=1, inplace=True)"
   ]
  },
  {
   "cell_type": "code",
   "execution_count": 9,
   "metadata": {},
   "outputs": [],
   "source": [
    "#將經緯度欄位合併，用於後續內容\n",
    "lat_long = df[['latitude', 'longitude']]"
   ]
  },
  {
   "cell_type": "code",
   "execution_count": 10,
   "metadata": {},
   "outputs": [],
   "source": [
    "#因為都在台北市，將城市相關的內容刪除\n",
    "df.drop(['zipcode', 'latitude', 'longitude', 'street', 'neighbourhood', 'city', 'state', 'market', 'smart_location', 'country_code', 'country', 'is_location_exact','jurisdiction_names'], axis=1, inplace=True)"
   ]
  },
  {
   "cell_type": "code",
   "execution_count": 11,
   "metadata": {},
   "outputs": [],
   "source": [
    "#除了minimum_nights與maximum_nights之外，minimum_minimum_nights、maximum_minimum_nights定義較不明確\n",
    "#參考其餘文章後決定保留minimum_nights與maximum_nights，其餘刪除\n",
    "df.drop(['minimum_minimum_nights', 'maximum_minimum_nights', 'minimum_maximum_nights', 'maximum_maximum_nights', 'minimum_nights_avg_ntm', 'maximum_nights_avg_ntm'], axis=1, inplace=True)"
   ]
  },
  {
   "cell_type": "code",
   "execution_count": 12,
   "metadata": {},
   "outputs": [],
   "source": [
    "#將剩餘欄位有 f/t 改為 0/1\n",
    "df.replace({'f': 0, 't': 1}, inplace=True)"
   ]
  },
  {
   "cell_type": "code",
   "execution_count": 13,
   "metadata": {},
   "outputs": [
    {
     "data": {
      "image/png": "[encoded data removed]",
      "text/plain": [
       "<Figure size 1440x1440 with 30 Axes>"
      ]
     },
     "metadata": {
      "needs_background": "light"
     },
     "output_type": "display_data"
    }
   ],
   "source": [
    "#顯示剩餘欄的直方圖，觀察內容分布\n",
    "df.hist(figsize=(20,20));"
   ]
  },
  {
   "cell_type": "code",
   "execution_count": 14,
   "metadata": {},
   "outputs": [],
   "source": [
    "#觀察發現其中有些欄位屬性較為單一，將這些欄位刪除\n",
    "df.drop(['has_availability', 'host_has_profile_pic', 'is_business_travel_ready', 'require_guest_phone_verification', 'require_guest_profile_picture', 'requires_license'], axis=1, inplace=True)"
   ]
  },
  {
   "cell_type": "code",
   "execution_count": 15,
   "metadata": {},
   "outputs": [
    {
     "data": {
      "text/plain": [
       "experiences_offered               0\n",
       "host_since                        3\n",
       "host_response_time              176\n",
       "host_response_rate              176\n",
       "host_is_superhost                 3\n",
       "host_listings_count               3\n",
       "neighbourhood_cleansed            0\n",
       "property_type                     0\n",
       "room_type                         0\n",
       "accommodates                      0\n",
       "bathrooms                         2\n",
       "bedrooms                          2\n",
       "beds                              4\n",
       "bed_type                          0\n",
       "amenities                         0\n",
       "price                             0\n",
       "security_deposit               1251\n",
       "cleaning_fee                    649\n",
       "guests_included                   0\n",
       "extra_people                      0\n",
       "minimum_nights                    0\n",
       "maximum_nights                    0\n",
       "calendar_updated                  0\n",
       "availability_30                   0\n",
       "availability_60                   0\n",
       "availability_90                   0\n",
       "availability_365                  0\n",
       "number_of_reviews                 0\n",
       "number_of_reviews_ltm             0\n",
       "first_review                      0\n",
       "last_review                       0\n",
       "review_scores_rating             25\n",
       "review_scores_accuracy           25\n",
       "review_scores_cleanliness        25\n",
       "review_scores_checkin            25\n",
       "review_scores_communication      25\n",
       "review_scores_location           25\n",
       "review_scores_value              25\n",
       "instant_bookable                  0\n",
       "cancellation_policy               0\n",
       "reviews_per_month                 0\n",
       "dtype: int64"
      ]
     },
     "execution_count": 15,
     "metadata": {},
     "output_type": "execute_result"
    }
   ],
   "source": [
    "#顯示剩餘欄位\n",
    "df.isna().sum()"
   ]
  },
  {
   "cell_type": "code",
   "execution_count": 16,
   "metadata": {},
   "outputs": [
    {
     "data": {
      "text/plain": [
       "none    4939\n",
       "Name: experiences_offered, dtype: int64"
      ]
     },
     "execution_count": 16,
     "metadata": {},
     "output_type": "execute_result"
    }
   ],
   "source": [
    "#統計experiences_offered欄位各資料出現次數\n",
    "df.experiences_offered.value_counts()"
   ]
  },
  {
   "cell_type": "code",
   "execution_count": 17,
   "metadata": {},
   "outputs": [],
   "source": [
    "#數值全部都是none，刪除此欄\n",
    "df.drop('experiences_offered', axis=1, inplace=True)"
   ]
  },
  {
   "cell_type": "code",
   "execution_count": 18,
   "metadata": {},
   "outputs": [
    {
     "name": "stdout",
     "output_type": "stream",
     "text": [
      "平均 days as host: 1273.0\n",
      "中位 days as host: 1271.5\n"
     ]
    }
   ],
   "source": [
    "#用pandas轉換天數\n",
    "df.host_since = pd.to_datetime(df.host_since) \n",
    "\n",
    "#計算房東加入時間到2019.8.1的總天數\n",
    "df['host_days_active'] = (datetime(2019, 8, 1) - df.host_since).astype('timedelta64[D]')\n",
    "\n",
    "#顯示平均與中位天數\n",
    "print(\"平均 days as host:\", round(df['host_days_active'].mean(),0))\n",
    "print(\"中位 days as host:\", df['host_days_active'].median())"
   ]
  },
  {
   "cell_type": "code",
   "execution_count": 19,
   "metadata": {},
   "outputs": [],
   "source": [
    "#將空值的三筆替換為中位天數\n",
    "df.host_days_active.fillna(df.host_days_active.median(), inplace=True)"
   ]
  },
  {
   "cell_type": "code",
   "execution_count": 20,
   "metadata": {},
   "outputs": [],
   "source": [
    "#定義等級分布\n",
    "def bin_column(col, bins, labels, na_label='unknown'):\n",
    "    df[col] = pd.cut(df[col], bins=bins, labels=labels, include_lowest=True)\n",
    "    df[col] = df[col].astype('str')\n",
    "    df[col].fillna(na_label, inplace=True)"
   ]
  },
  {
   "cell_type": "code",
   "execution_count": 21,
   "metadata": {},
   "outputs": [],
   "source": [
    "#將host_since依天數分類為 0~1 years,1-3 years,3-5 years,5-10 years\n",
    "bin_column('host_days_active',\n",
    "           bins=[0, 365, 1095, 1825, max(df.host_days_active)],\n",
    "           labels=['0-1 years',\n",
    "                   '1-3 years',\n",
    "                   '3-5 years',\n",
    "                   '5-10 years'],\n",
    "           na_label='unknown')"
   ]
  },
  {
   "cell_type": "code",
   "execution_count": 22,
   "metadata": {},
   "outputs": [
    {
     "data": {
      "text/plain": [
       "3-5 years     2137\n",
       "1-3 years     1453\n",
       "5-10 years     913\n",
       "0-1 years      436\n",
       "Name: host_days_active, dtype: int64"
      ]
     },
     "execution_count": 22,
     "metadata": {},
     "output_type": "execute_result"
    }
   ],
   "source": [
    "#顯示分類後的各等級筆數\n",
    "df.host_days_active.value_counts()"
   ]
  },
  {
   "cell_type": "code",
   "execution_count": 23,
   "metadata": {},
   "outputs": [
    {
     "name": "stdout",
     "output_type": "stream",
     "text": [
      "空值筆數: 176\n",
      "空值比例: 3.6%\n"
     ]
    }
   ],
   "source": [
    "#計算df.host_response_time的空值比例\n",
    "print(\"空值筆數:\", df.host_response_time.isna().sum())\n",
    "print(f\"空值比例: {round((df.host_response_time.isna().sum()/len(df))*100, 1)}%\")"
   ]
  },
  {
   "cell_type": "code",
   "execution_count": 24,
   "metadata": {},
   "outputs": [
    {
     "data": {
      "text/plain": [
       "within an hour        4135\n",
       "within a few hours     448\n",
       "within a day           160\n",
       "a few days or more      20\n",
       "Name: host_response_time, dtype: int64"
      ]
     },
     "execution_count": 24,
     "metadata": {},
     "output_type": "execute_result"
    }
   ],
   "source": [
    "#顯示各項筆數\n",
    "df.host_response_time.value_counts()"
   ]
  },
  {
   "cell_type": "code",
   "execution_count": 25,
   "metadata": {},
   "outputs": [
    {
     "data": {
      "text/plain": [
       "within an hour        4311\n",
       "within a few hours     448\n",
       "within a day           160\n",
       "a few days or more      20\n",
       "Name: host_response_time, dtype: int64"
      ]
     },
     "execution_count": 25,
     "metadata": {},
     "output_type": "execute_result"
    }
   ],
   "source": [
    "#將空值補為眾數within an hour\n",
    "df.host_response_time.fillna(\"within an hour\", inplace=True)\n",
    "df.host_response_time.value_counts()"
   ]
  },
  {
   "cell_type": "code",
   "execution_count": 26,
   "metadata": {},
   "outputs": [
    {
     "name": "stdout",
     "output_type": "stream",
     "text": [
      "Null values: 176\n",
      "空值比例: 3.6%\n"
     ]
    }
   ],
   "source": [
    "#計算df.host_response_rate的空值比例\n",
    "print(\"Null values:\", df.host_response_rate.isna().sum())\n",
    "print(f\"空值比例: {round((df.host_response_rate.isna().sum()/len(df))*100, 1)}%\")"
   ]
  },
  {
   "cell_type": "code",
   "execution_count": 27,
   "metadata": {},
   "outputs": [
    {
     "name": "stdout",
     "output_type": "stream",
     "text": [
      "平均 host response rate: 98.0\n",
      "中位數 host response rate: 100.0\n",
      "100%回覆的比率: 76.9%\n"
     ]
    }
   ],
   "source": [
    "#計算df.host_response_rate的平均數與中位數\n",
    "df.host_response_rate = df.host_response_rate.str[:-1].astype('float64')\n",
    "print(\"平均 host response rate:\", round(df['host_response_rate'].mean(),0))\n",
    "print(\"中位數 host response rate:\", df['host_response_rate'].median())\n",
    "print(f\"100%回覆的比率: {round(((df.host_response_rate == 100.0).sum()/df.host_response_rate.count())*100,1)}%\")"
   ]
  },
  {
   "cell_type": "code",
   "execution_count": 28,
   "metadata": {},
   "outputs": [
    {
     "data": {
      "text/plain": [
       "100.000000    3664\n",
       "99.000000      258\n",
       "98.000000      197\n",
       "97.995591      176\n",
       "97.000000      111\n",
       "96.000000      102\n",
       "90.000000       87\n",
       "95.000000       47\n",
       "80.000000       35\n",
       "94.000000       30\n",
       "92.000000       26\n",
       "88.000000       19\n",
       "91.000000       17\n",
       "83.000000       16\n",
       "93.000000       15\n",
       "0.000000        14\n",
       "75.000000       13\n",
       "67.000000       13\n",
       "70.000000       12\n",
       "60.000000       10\n",
       "64.000000       10\n",
       "81.000000       10\n",
       "65.000000        8\n",
       "50.000000        7\n",
       "85.000000        7\n",
       "89.000000        6\n",
       "86.000000        5\n",
       "77.000000        4\n",
       "69.000000        3\n",
       "84.000000        3\n",
       "63.000000        3\n",
       "87.000000        2\n",
       "42.000000        1\n",
       "20.000000        1\n",
       "25.000000        1\n",
       "40.000000        1\n",
       "33.000000        1\n",
       "82.000000        1\n",
       "74.000000        1\n",
       "57.000000        1\n",
       "29.000000        1\n",
       "Name: host_response_rate, dtype: int64"
      ]
     },
     "execution_count": 28,
     "metadata": {},
     "output_type": "execute_result"
    }
   ],
   "source": [
    "#將空值補為平均數\n",
    "df.host_response_rate.fillna(df.host_response_rate.mean(), inplace=True)\n",
    "df.host_response_rate.value_counts()"
   ]
  },
  {
   "cell_type": "code",
   "execution_count": 29,
   "metadata": {},
   "outputs": [
    {
     "name": "stdout",
     "output_type": "stream",
     "text": [
      "空值筆數: 3\n"
     ]
    }
   ],
   "source": [
    "#計算df.host_is_superhost的空值比例\n",
    "print(\"空值筆數:\", df.host_is_superhost.isna().sum())"
   ]
  },
  {
   "cell_type": "code",
   "execution_count": 30,
   "metadata": {},
   "outputs": [
    {
     "data": {
      "text/plain": [
       "0.0    3296\n",
       "1.0    1643\n",
       "Name: host_is_superhost, dtype: int64"
      ]
     },
     "execution_count": 30,
     "metadata": {},
     "output_type": "execute_result"
    }
   ],
   "source": [
    "#將空值補為0(f)\n",
    "df.host_is_superhost.fillna(0 , inplace=True)\n",
    "df.host_is_superhost.value_counts()"
   ]
  },
  {
   "cell_type": "code",
   "execution_count": 31,
   "metadata": {},
   "outputs": [
    {
     "name": "stdout",
     "output_type": "stream",
     "text": [
      "空值筆數: 3\n"
     ]
    }
   ],
   "source": [
    "#計算df.host_listings_count的空值比例\n",
    "print(\"空值筆數:\", df.host_listings_count.isna().sum())"
   ]
  },
  {
   "cell_type": "code",
   "execution_count": 32,
   "metadata": {},
   "outputs": [],
   "source": [
    "#將df.host_listings_count依間數分類為 1 room,2~5 rooms,6-10 rooms,11~30 rooms,31~50 rooms,51~100 rooms,100+ rooms\n",
    "bin_column('host_listings_count',\n",
    "           bins=[0, 1, 5, 10, 30, 50, 100, max(df.host_listings_count)],\n",
    "           labels=['1 room',\n",
    "                   '2-5 rooms',\n",
    "                   '6-10 rooms',\n",
    "                   '11-30 rooms',\n",
    "                   '31-50 rooms',\n",
    "                   '51-100 rooms',\n",
    "                   '100+ rooms'],\n",
    "           na_label='unknown')"
   ]
  },
  {
   "cell_type": "code",
   "execution_count": 33,
   "metadata": {},
   "outputs": [
    {
     "data": {
      "text/plain": [
       "2-5 rooms       1431\n",
       "11-30 rooms     1343\n",
       "6-10 rooms      1159\n",
       "1 room           620\n",
       "31-50 rooms      257\n",
       "51-100 rooms      71\n",
       "100+ rooms        55\n",
       "nan                3\n",
       "Name: host_listings_count, dtype: int64"
      ]
     },
     "execution_count": 33,
     "metadata": {},
     "output_type": "execute_result"
    }
   ],
   "source": [
    "#顯示分類後的各等級筆數\n",
    "df.host_listings_count.value_counts()"
   ]
  },
  {
   "cell_type": "code",
   "execution_count": 34,
   "metadata": {},
   "outputs": [],
   "source": [
    "#將空值的三筆補眾數\n",
    "df.host_listings_count.replace('nan','2-5 rooms', inplace=True)"
   ]
  },
  {
   "cell_type": "code",
   "execution_count": 35,
   "metadata": {},
   "outputs": [
    {
     "data": {
      "text/plain": [
       "2-5 rooms       1434\n",
       "11-30 rooms     1343\n",
       "6-10 rooms      1159\n",
       "1 room           620\n",
       "31-50 rooms      257\n",
       "51-100 rooms      71\n",
       "100+ rooms        55\n",
       "Name: host_listings_count, dtype: int64"
      ]
     },
     "execution_count": 35,
     "metadata": {},
     "output_type": "execute_result"
    }
   ],
   "source": [
    "#顯示分類後的各等級筆數\n",
    "df.host_listings_count.value_counts()"
   ]
  },
  {
   "cell_type": "code",
   "execution_count": 36,
   "metadata": {
    "scrolled": true
   },
   "outputs": [
    {
     "data": {
      "text/plain": [
       "萬華區    1287\n",
       "大安區     868\n",
       "中山區     623\n",
       "中正區     604\n",
       "信義區     565\n",
       "大同區     313\n",
       "松山區     224\n",
       "士林區     158\n",
       "北投區      91\n",
       "內湖區      74\n",
       "文山區      73\n",
       "南港區      59\n",
       "Name: neighbourhood_cleansed, dtype: int64"
      ]
     },
     "execution_count": 36,
     "metadata": {},
     "output_type": "execute_result"
    }
   ],
   "source": [
    "#顯示各區的房間數量\n",
    "df.neighbourhood_cleansed.value_counts()"
   ]
  },
  {
   "cell_type": "code",
   "execution_count": 37,
   "metadata": {},
   "outputs": [
    {
     "data": {
      "text/plain": [
       "Apartment             2919\n",
       "Condominium            830\n",
       "Loft                   240\n",
       "House                  205\n",
       "Hostel                 179\n",
       "Serviced apartment     178\n",
       "Boutique hotel          68\n",
       "Guest suite             66\n",
       "Townhouse               62\n",
       "Minsu (Taiwan)          57\n",
       "Bed and breakfast       28\n",
       "Hotel                   25\n",
       "Aparthotel              22\n",
       "Other                   17\n",
       "Guesthouse              15\n",
       "Villa                    7\n",
       "Tent                     6\n",
       "Bungalow                 6\n",
       "Hut                      3\n",
       "Dorm                     3\n",
       "Cabin                    1\n",
       "Tiny house               1\n",
       "Casa particular          1\n",
       "Name: property_type, dtype: int64"
      ]
     },
     "execution_count": 37,
     "metadata": {},
     "output_type": "execute_result"
    }
   ],
   "source": [
    "#顯示各種房源種類數量\n",
    "df.property_type.value_counts()"
   ]
  },
  {
   "cell_type": "code",
   "execution_count": 38,
   "metadata": {},
   "outputs": [
    {
     "data": {
      "text/plain": [
       "Entire home/apt    3233\n",
       "Private room       1434\n",
       "Shared room         272\n",
       "Name: room_type, dtype: int64"
      ]
     },
     "execution_count": 38,
     "metadata": {},
     "output_type": "execute_result"
    }
   ],
   "source": [
    "#顯示各種房間種類數量\n",
    "df.room_type.value_counts()"
   ]
  },
  {
   "cell_type": "code",
   "execution_count": 39,
   "metadata": {},
   "outputs": [
    {
     "name": "stdout",
     "output_type": "stream",
     "text": [
      "bathrooms空值筆數: 2\n",
      "空值比例: 0.0%\n",
      "bedrooms空值筆數: 2\n",
      "空值比例: 0.0%\n",
      "beds空值筆數: 4\n",
      "空值比例: 0.1%\n"
     ]
    }
   ],
   "source": [
    "#顯示bathrooms、bedrooms、beds三欄的空值比例\n",
    "print(\"bathrooms空值筆數:\", df.bathrooms.isna().sum())\n",
    "print(f\"空值比例: {round((df.bathrooms.isna().sum()/len(df))*100, 1)}%\")\n",
    "print(\"bedrooms空值筆數:\", df.bedrooms.isna().sum())\n",
    "print(f\"空值比例: {round((df.bedrooms.isna().sum()/len(df))*100, 1)}%\")\n",
    "print(\"beds空值筆數:\", df.beds.isna().sum())\n",
    "print(f\"空值比例: {round((df.beds.isna().sum()/len(df))*100, 1)}%\")"
   ]
  },
  {
   "cell_type": "code",
   "execution_count": 40,
   "metadata": {},
   "outputs": [],
   "source": [
    "#將bathrooms、bedrooms、beds三欄的空值替換為0\n",
    "for col in ['bathrooms', 'bedrooms', 'beds']:\n",
    "    df[col].fillna(df[col].median(), inplace=True)"
   ]
  },
  {
   "cell_type": "code",
   "execution_count": 41,
   "metadata": {},
   "outputs": [
    {
     "data": {
      "text/plain": [
       "Real Bed         4908\n",
       "Futon              23\n",
       "Pull-out Sofa       4\n",
       "Couch               3\n",
       "Airbed              1\n",
       "Name: bed_type, dtype: int64"
      ]
     },
     "execution_count": 41,
     "metadata": {},
     "output_type": "execute_result"
    }
   ],
   "source": [
    "#顯示bed_type的各項筆數\n",
    "df.bed_type.value_counts()"
   ]
  },
  {
   "cell_type": "code",
   "execution_count": 42,
   "metadata": {},
   "outputs": [],
   "source": [
    "#由於主要都是Real Bed，將此項刪除\n",
    "#df.drop('bed_type', axis=1, inplace=True)"
   ]
  },
  {
   "cell_type": "code",
   "execution_count": 43,
   "metadata": {},
   "outputs": [],
   "source": [
    "#將price的$去除，轉化為int\n",
    "df.price = df.price.str[1:-3]\n",
    "df.price = df.price.str.replace(\",\", \"\")\n",
    "df.price = df.price.astype('int64')"
   ]
  },
  {
   "cell_type": "code",
   "execution_count": 44,
   "metadata": {},
   "outputs": [
    {
     "name": "stdout",
     "output_type": "stream",
     "text": [
      "count      4939.000000\n",
      "mean       2057.980765\n",
      "std        4815.948573\n",
      "min         311.000000\n",
      "25%        1057.000000\n",
      "50%        1492.000000\n",
      "75%        2394.000000\n",
      "max      310919.000000\n",
      "Name: price, dtype: float64\n"
     ]
    },
    {
     "data": {
      "image/png": "[encoded data removed]",
      "text/plain": [
       "<Figure size 864x432 with 1 Axes>"
      ]
     },
     "metadata": {
      "needs_background": "light"
     },
     "output_type": "display_data"
    }
   ],
   "source": [
    "\n",
    "print(df.price.describe())\n",
    "plt.figure(figsize = (12 , 6))\n",
    "plt.title('price' , fontsize = 15)\n",
    "sns.distplot(df.price.dropna() , rug = True)\n",
    "sns.despine()"
   ]
  },
  {
   "cell_type": "code",
   "execution_count": 45,
   "metadata": {
    "scrolled": true
   },
   "outputs": [
    {
     "data": {
      "text/plain": [
       "12810     3\n",
       "12996     2\n",
       "37994     1\n",
       "29848     1\n",
       "13991     1\n",
       "18002     1\n",
       "13805     1\n",
       "49996     1\n",
       "12468     1\n",
       "43529     1\n",
       "310919    1\n",
       "24998     1\n",
       "12001     1\n",
       "36160     1\n",
       "Name: price, dtype: int64"
      ]
     },
     "execution_count": 45,
     "metadata": {},
     "output_type": "execute_result"
    }
   ],
   "source": [
    "df[df.price > 12000].price.value_counts()"
   ]
  },
  {
   "cell_type": "code",
   "execution_count": 46,
   "metadata": {},
   "outputs": [
    {
     "name": "stdout",
     "output_type": "stream",
     "text": [
      "Null values: 1251\n",
      "空值比例: 25.3%\n"
     ]
    }
   ],
   "source": [
    "#顯示保證金的空值比例\n",
    "print(\"Null values:\", df.security_deposit.isna().sum())\n",
    "print(f\"空值比例: {round((df.security_deposit.isna().sum()/len(df))*100, 1)}%\")"
   ]
  },
  {
   "cell_type": "code",
   "execution_count": 47,
   "metadata": {},
   "outputs": [],
   "source": [
    "#將保證金的$去除，空值補0，轉化為int\n",
    "df.security_deposit = df.security_deposit.str[1:-3]\n",
    "df.security_deposit = df.security_deposit.str.replace(\",\", \"\")\n",
    "df.security_deposit.fillna(0, inplace=True)\n",
    "df.security_deposit = df.security_deposit.astype('int64')"
   ]
  },
  {
   "cell_type": "code",
   "execution_count": 48,
   "metadata": {},
   "outputs": [
    {
     "name": "stdout",
     "output_type": "stream",
     "text": [
      "Null values: 649\n",
      "空值比例: 13.1%\n"
     ]
    }
   ],
   "source": [
    "#顯示清潔費的空值比例\n",
    "print(\"Null values:\",df.cleaning_fee.isna().sum())\n",
    "print(f\"空值比例: {round((df.cleaning_fee.isna().sum()/len(df))*100, 1)}%\")"
   ]
  },
  {
   "cell_type": "code",
   "execution_count": 49,
   "metadata": {},
   "outputs": [],
   "source": [
    "#將清潔費的$去除，空值補0，轉化為int\n",
    "df.cleaning_fee = df.cleaning_fee.str[1:-3]\n",
    "df.cleaning_fee = df.cleaning_fee.str.replace(\",\", \"\")\n",
    "df.cleaning_fee.fillna(0, inplace=True)\n",
    "df.cleaning_fee = df.cleaning_fee.astype('int64')"
   ]
  },
  {
   "cell_type": "code",
   "execution_count": 50,
   "metadata": {},
   "outputs": [
    {
     "data": {
      "text/plain": [
       "1     2135\n",
       "2     1612\n",
       "4      578\n",
       "3      312\n",
       "6      131\n",
       "5       89\n",
       "8       35\n",
       "12      13\n",
       "10      12\n",
       "7        9\n",
       "16       6\n",
       "9        4\n",
       "14       2\n",
       "11       1\n",
       "Name: guests_included, dtype: int64"
      ]
     },
     "execution_count": 50,
     "metadata": {},
     "output_type": "execute_result"
    }
   ],
   "source": [
    "#顯示guests_included的各項筆數\n",
    "df.guests_included.value_counts()"
   ]
  },
  {
   "cell_type": "code",
   "execution_count": 51,
   "metadata": {},
   "outputs": [
    {
     "name": "stdout",
     "output_type": "stream",
     "text": [
      "Null values: 0\n",
      "空值比例: 0.0%\n"
     ]
    }
   ],
   "source": [
    "#顯示加人費用的空值比例\n",
    "print(\"Null values:\",df.extra_people.isna().sum())\n",
    "print(f\"空值比例: {round((df.extra_people.isna().sum()/len(df))*100, 1)}%\")"
   ]
  },
  {
   "cell_type": "code",
   "execution_count": 52,
   "metadata": {},
   "outputs": [],
   "source": [
    "#將加人費用的$去除，空值補0，轉化為int\n",
    "df.extra_people = df.extra_people.str[1:-3]\n",
    "df.extra_people = df.extra_people.str.replace(\",\", \"\")\n",
    "df.extra_people.fillna(0, inplace=True)\n",
    "df.extra_people = df.extra_people.astype('int64')"
   ]
  },
  {
   "cell_type": "code",
   "execution_count": 53,
   "metadata": {},
   "outputs": [
    {
     "name": "stdout",
     "output_type": "stream",
     "text": [
      "此行的分類總數: 52\n",
      "\\Top 5 分類:\n"
     ]
    },
    {
     "data": {
      "text/plain": [
       "today          1962\n",
       "yesterday       388\n",
       "2 weeks ago     366\n",
       "a week ago      337\n",
       "3 weeks ago     213\n",
       "Name: calendar_updated, dtype: int64"
      ]
     },
     "execution_count": 53,
     "metadata": {},
     "output_type": "execute_result"
    }
   ],
   "source": [
    "#顯示calendar_updated的各項筆數\n",
    "print(\"此行的分類總數:\", df.calendar_updated.nunique())\n",
    "print(\"\\Top 5 分類:\")\n",
    "df.calendar_updated.value_counts()[:5]"
   ]
  },
  {
   "cell_type": "code",
   "execution_count": 54,
   "metadata": {},
   "outputs": [],
   "source": [
    "#因不太清楚此項的相關定義，參考其餘文章後刪除此項\n",
    "df.drop('calendar_updated', axis=1, inplace=True)"
   ]
  },
  {
   "cell_type": "code",
   "execution_count": 55,
   "metadata": {},
   "outputs": [],
   "source": [
    "#30天~365天可訂的天數，因無法定義是空房還是房東沒有開放，故刪除\n",
    "df.drop(['availability_30', 'availability_60','availability_90', 'availability_365'], axis=1, inplace=True)"
   ]
  },
  {
   "cell_type": "code",
   "execution_count": 56,
   "metadata": {},
   "outputs": [
    {
     "name": "stdout",
     "output_type": "stream",
     "text": [
      "first_review空值比例: 0.0%\n",
      "last_review空值比例: 0.0%\n"
     ]
    }
   ],
   "source": [
    "#顯示first_review和last_review的空值比例\n",
    "print(f\"first_review空值比例: {round(100*df.first_review.isna().sum()/len(df),1)}%\")\n",
    "print(f\"last_review空值比例: {round(100*df.last_review.isna().sum()/len(df),1)}%\")"
   ]
  },
  {
   "cell_type": "code",
   "execution_count": 57,
   "metadata": {},
   "outputs": [],
   "source": [
    "#用pandas轉換天數\n",
    "df.first_review = pd.to_datetime(df.first_review) \n",
    "\n",
    "#計算房東first_review到2019.8.1的總天數\n",
    "df['first_review_to_20190801'] = (datetime(2019, 8, 1) - df.first_review).astype('timedelta64[D]')"
   ]
  },
  {
   "cell_type": "code",
   "execution_count": 58,
   "metadata": {},
   "outputs": [
    {
     "data": {
      "image/png": "[encoded data removed]",
      "text/plain": [
       "<Figure size 1080x360 with 1 Axes>"
      ]
     },
     "metadata": {
      "needs_background": "light"
     },
     "output_type": "display_data"
    }
   ],
   "source": [
    "#顯示first_review_to_20190801的天數直方圖\n",
    "df.first_review_to_20190801.hist(figsize=(15,5), bins=30);"
   ]
  },
  {
   "cell_type": "code",
   "execution_count": 59,
   "metadata": {},
   "outputs": [],
   "source": [
    "# 將first_review_to_20190801依天數分類為 0-3 months, 3-6 months, 6-12 months,1+ years\n",
    "bin_column('first_review_to_20190801',\n",
    "           bins=[0, 91, 182, 365, max(df.first_review_to_20190801)],\n",
    "           labels=['0-3 months',\n",
    "                   '3-6 months',\n",
    "                   '6-12 months',\n",
    "                   '1+ years'],\n",
    "           na_label='unknown')"
   ]
  },
  {
   "cell_type": "code",
   "execution_count": 60,
   "metadata": {},
   "outputs": [
    {
     "data": {
      "text/plain": [
       "1+ years       2870\n",
       "6-12 months     954\n",
       "0-3 months      562\n",
       "3-6 months      553\n",
       "Name: first_review_to_20190801, dtype: int64"
      ]
     },
     "execution_count": 60,
     "metadata": {},
     "output_type": "execute_result"
    }
   ],
   "source": [
    "#顯示分類後的各等級筆數\n",
    "df.first_review_to_20190801.value_counts()"
   ]
  },
  {
   "cell_type": "code",
   "execution_count": 61,
   "metadata": {},
   "outputs": [],
   "source": [
    "#將空值補眾數 1+ years\n",
    "df.first_review_to_20190801.replace('nan','1+ years', inplace=True)"
   ]
  },
  {
   "cell_type": "code",
   "execution_count": 62,
   "metadata": {},
   "outputs": [
    {
     "data": {
      "text/plain": [
       "1+ years       2870\n",
       "6-12 months     954\n",
       "0-3 months      562\n",
       "3-6 months      553\n",
       "Name: first_review_to_20190801, dtype: int64"
      ]
     },
     "execution_count": 62,
     "metadata": {},
     "output_type": "execute_result"
    }
   ],
   "source": [
    "#顯示修正後的各等級筆數\n",
    "df.first_review_to_20190801.value_counts()"
   ]
  },
  {
   "cell_type": "code",
   "execution_count": 63,
   "metadata": {},
   "outputs": [],
   "source": [
    "#用pandas轉換天數\n",
    "df.last_review = pd.to_datetime(df.first_review) \n",
    "\n",
    "#計算房東last_review到2019.8.1的總天數\n",
    "df['last_review_to_20190801'] = (datetime(2019, 8, 1) - df.first_review).astype('timedelta64[D]')"
   ]
  },
  {
   "cell_type": "code",
   "execution_count": 64,
   "metadata": {},
   "outputs": [
    {
     "data": {
      "image/png": "[encoded data removed]",
      "text/plain": [
       "<Figure size 1080x360 with 1 Axes>"
      ]
     },
     "metadata": {
      "needs_background": "light"
     },
     "output_type": "display_data"
    }
   ],
   "source": [
    "#顯示last_review_to_20190801的天數直方圖\n",
    "df.last_review_to_20190801.hist(figsize=(15,5), bins=30);"
   ]
  },
  {
   "cell_type": "code",
   "execution_count": 65,
   "metadata": {},
   "outputs": [],
   "source": [
    "# 將last_review_to_20190801依天數分類為 0-3 months, 3-6 months, 6-12 months,1+ years\n",
    "bin_column('last_review_to_20190801',\n",
    "           bins=[0, 91, 182, 365, max(df.last_review_to_20190801)],\n",
    "           labels=['0-3 months',\n",
    "                   '3-6 months',\n",
    "                   '6-12 months',\n",
    "                   '1+ years'],\n",
    "           na_label='unknown')"
   ]
  },
  {
   "cell_type": "code",
   "execution_count": 66,
   "metadata": {},
   "outputs": [
    {
     "data": {
      "text/plain": [
       "1+ years       2870\n",
       "6-12 months     954\n",
       "0-3 months      562\n",
       "3-6 months      553\n",
       "Name: last_review_to_20190801, dtype: int64"
      ]
     },
     "execution_count": 66,
     "metadata": {},
     "output_type": "execute_result"
    }
   ],
   "source": [
    "#顯示分類後的各等級筆數\n",
    "df.last_review_to_20190801.value_counts()"
   ]
  },
  {
   "cell_type": "code",
   "execution_count": 67,
   "metadata": {},
   "outputs": [],
   "source": [
    "#將空值補眾數 1+ years\n",
    "df.last_review_to_20190801.replace('nan','1+ years', inplace=True)"
   ]
  },
  {
   "cell_type": "code",
   "execution_count": 68,
   "metadata": {},
   "outputs": [
    {
     "data": {
      "text/plain": [
       "1+ years       2870\n",
       "6-12 months     954\n",
       "0-3 months      562\n",
       "3-6 months      553\n",
       "Name: last_review_to_20190801, dtype: int64"
      ]
     },
     "execution_count": 68,
     "metadata": {},
     "output_type": "execute_result"
    }
   ],
   "source": [
    "#顯示修正後的各等級筆數\n",
    "df.last_review_to_20190801.value_counts()"
   ]
  },
  {
   "cell_type": "code",
   "execution_count": 69,
   "metadata": {},
   "outputs": [
    {
     "data": {
      "image/png": "[encoded data removed]",
      "text/plain": [
       "<Figure size 864x576 with 7 Axes>"
      ]
     },
     "metadata": {
      "needs_background": "light"
     },
     "output_type": "display_data"
    }
   ],
   "source": [
    "# 顯示review_scores_rating相關的的直方圖\n",
    "variables_to_plot = list(df.columns[df.columns.str.startswith(\"review_scores\") == True])\n",
    "fig = plt.figure(figsize=(12,8))\n",
    "for i, var_name in enumerate(variables_to_plot):\n",
    "    ax = fig.add_subplot(3,3,i+1)\n",
    "    df[var_name].hist(bins=10,ax=ax)\n",
    "    ax.set_title(var_name)\n",
    "fig.tight_layout()\n",
    "plt.show()"
   ]
  },
  {
   "cell_type": "code",
   "execution_count": 70,
   "metadata": {},
   "outputs": [],
   "source": [
    "#刪除review_scores相關的有空值的欄位\n",
    "df.dropna(subset=['review_scores_rating'], inplace=True)\n",
    "df.dropna(subset=['review_scores_accuracy'], inplace=True)\n",
    "df.dropna(subset=['review_scores_cleanliness'], inplace=True)\n",
    "df.dropna(subset=['review_scores_checkin'], inplace=True)\n",
    "df.dropna(subset=['review_scores_communication'], inplace=True)\n",
    "df.dropna(subset=['review_scores_location'], inplace=True)\n",
    "df.dropna(subset=['review_scores_value'], inplace=True)"
   ]
  },
  {
   "cell_type": "code",
   "execution_count": 71,
   "metadata": {},
   "outputs": [
    {
     "data": {
      "text/plain": [
       "{'',\n",
       " '24-hour check-in',\n",
       " 'Accessible-height bed',\n",
       " 'Accessible-height toilet',\n",
       " 'Air conditioning',\n",
       " 'BBQ grill',\n",
       " 'Baby bath',\n",
       " 'Baby monitor',\n",
       " 'Babysitter recommendations',\n",
       " 'Bathtub',\n",
       " 'Bathtub with bath chair',\n",
       " 'Beach essentials',\n",
       " 'Beachfront',\n",
       " 'Bed linens',\n",
       " 'Breakfast',\n",
       " 'Building staff',\n",
       " 'Buzzer/wireless intercom',\n",
       " 'Cable TV',\n",
       " 'Carbon monoxide detector',\n",
       " 'Cat(s)',\n",
       " 'Ceiling hoist',\n",
       " 'Changing table',\n",
       " 'Children’s books and toys',\n",
       " 'Children’s dinnerware',\n",
       " 'Cleaning before checkout',\n",
       " 'Coffee maker',\n",
       " 'Cooking basics',\n",
       " 'Crib',\n",
       " 'Disabled parking spot',\n",
       " 'Dishes and silverware',\n",
       " 'Dishwasher',\n",
       " 'Dog(s)',\n",
       " 'Doorman',\n",
       " 'Dryer',\n",
       " 'EV charger',\n",
       " 'Electric profiling bed',\n",
       " 'Elevator',\n",
       " 'Essentials',\n",
       " 'Ethernet connection',\n",
       " 'Extra pillows and blankets',\n",
       " 'Extra space around bed',\n",
       " 'Family/kid friendly',\n",
       " 'Fire extinguisher',\n",
       " 'Fireplace guards',\n",
       " 'Firm mattress',\n",
       " 'First aid kit',\n",
       " 'Fixed grab bars for shower',\n",
       " 'Fixed grab bars for toilet',\n",
       " 'Flat path to guest entrance',\n",
       " 'Free parking on premises',\n",
       " 'Free street parking',\n",
       " 'Full kitchen',\n",
       " 'Game console',\n",
       " 'Garden or backyard',\n",
       " 'Ground floor access',\n",
       " 'Gym',\n",
       " 'Hair dryer',\n",
       " 'Handheld shower head',\n",
       " 'Hangers',\n",
       " 'Heating',\n",
       " 'High chair',\n",
       " 'Host greets you',\n",
       " 'Hot tub',\n",
       " 'Hot water',\n",
       " 'Hot water kettle',\n",
       " 'Indoor fireplace',\n",
       " 'Internet',\n",
       " 'Iron',\n",
       " 'Keypad',\n",
       " 'Kitchen',\n",
       " 'Kitchenette',\n",
       " 'Lake access',\n",
       " 'Laptop friendly workspace',\n",
       " 'Lock on bedroom door',\n",
       " 'Lockbox',\n",
       " 'Long term stays allowed',\n",
       " 'Luggage dropoff allowed',\n",
       " 'Microwave',\n",
       " 'Mobile hoist',\n",
       " 'No stairs or steps to enter',\n",
       " 'Other',\n",
       " 'Other pet(s)',\n",
       " 'Outlet covers',\n",
       " 'Oven',\n",
       " 'Pack ’n Play/travel crib',\n",
       " 'Paid parking off premises',\n",
       " 'Paid parking on premises',\n",
       " 'Patio or balcony',\n",
       " 'Pets allowed',\n",
       " 'Pets live on this property',\n",
       " 'Pocket wifi',\n",
       " 'Pool',\n",
       " 'Pool with pool hoist',\n",
       " 'Private bathroom',\n",
       " 'Private entrance',\n",
       " 'Private living room',\n",
       " 'Refrigerator',\n",
       " 'Roll-in shower',\n",
       " 'Room-darkening shades',\n",
       " 'Safety card',\n",
       " 'Self check-in',\n",
       " 'Shampoo',\n",
       " 'Shower chair',\n",
       " 'Single level home',\n",
       " 'Smart lock',\n",
       " 'Smoke detector',\n",
       " 'Smoking allowed',\n",
       " 'Stair gates',\n",
       " 'Stove',\n",
       " 'Suitable for events',\n",
       " 'TV',\n",
       " 'Table corner guards',\n",
       " 'Washer',\n",
       " 'Waterfront',\n",
       " 'Well-lit path to entrance',\n",
       " 'Wheelchair accessible',\n",
       " 'Wide clearance to shower',\n",
       " 'Wide doorway to guest bathroom',\n",
       " 'Wide entrance',\n",
       " 'Wide entrance for guests',\n",
       " 'Wide entryway',\n",
       " 'Wide hallways',\n",
       " 'Wifi',\n",
       " 'Window guards',\n",
       " 'toilet',\n",
       " 'translation missing: en.hosting_amenity_49',\n",
       " 'translation missing: en.hosting_amenity_50'}"
      ]
     },
     "execution_count": 71,
     "metadata": {},
     "output_type": "execute_result"
    }
   ],
   "source": [
    "#顯示所有amenities的設施\n",
    "amenities_list = list(df.amenities)\n",
    "amenities_list_string = \" \".join(amenities_list)\n",
    "amenities_list_string = amenities_list_string.replace('{', '')\n",
    "amenities_list_string = amenities_list_string.replace('}', ',')\n",
    "amenities_list_string = amenities_list_string.replace('\"', '')\n",
    "amenities_set = [x.strip() for x in amenities_list_string.split(',')]\n",
    "amenities_set = set(amenities_set)\n",
    "amenities_set"
   ]
  },
  {
   "cell_type": "code",
   "execution_count": 72,
   "metadata": {
    "scrolled": true
   },
   "outputs": [
    {
     "data": {
      "text/plain": [
       "(array([ 0,  1,  2,  3,  4,  5,  6,  7,  8,  9, 10, 11, 12, 13, 14, 15, 16,\n",
       "        17, 18, 19]), <a list of 20 Text xticklabel objects>)"
      ]
     },
     "execution_count": 72,
     "metadata": {},
     "output_type": "execute_result"
    },
    {
     "data": {
      "image/png": "[encoded data removed]",
      "text/plain": [
       "<Figure size 1440x432 with 1 Axes>"
      ]
     },
     "metadata": {
      "needs_background": "light"
     },
     "output_type": "display_data"
    }
   ],
   "source": [
    "#抓取設施的Top 20\n",
    "raw_df['amenities'] = raw_df.amenities.str.replace('[{}]' , '').str.replace('\"','')\n",
    "raw_df.amenities.head()\n",
    "all_item_ls = np.concatenate(raw_df.amenities.map(lambda am:am.split(',')))\n",
    "Top20_item = pd.Series(all_item_ls).value_counts().head(20)\n",
    "plt.figure(figsize=  (20 , 6))\n",
    "Top20_item.plot(kind = 'bar')\n",
    "plt.xticks(rotation = 40)"
   ]
  },
  {
   "cell_type": "code",
   "execution_count": 73,
   "metadata": {},
   "outputs": [],
   "source": [
    "#將Top 20設施改為T/F後個別新增20個欄位\n",
    "df.loc[df['amenities'].str.contains('Air conditioning'), 'Air conditioning'] = 1\n",
    "df.loc[df['amenities'].str.contains('Wifi'), 'Wifi'] = 1\n",
    "df.loc[df['amenities'].str.contains('Hair dryer'), 'Hair dryer'] = 1\n",
    "df.loc[df['amenities'].str.contains('Shampoo'), 'Shampoo'] = 1\n",
    "df.loc[df['amenities'].str.contains('Essentials'), 'Essentials'] = 1\n",
    "df.loc[df['amenities'].str.contains('TV'), 'TV'] = 1\n",
    "df.loc[df['amenities'].str.contains('Hangers'), 'Hangers'] = 1\n",
    "df.loc[df['amenities'].str.contains('Washer'), 'Washer'] = 1\n",
    "df.loc[df['amenities'].str.contains('Laptop friendly workspace'), 'Laptop friendly workspace'] = 1\n",
    "df.loc[df['amenities'].str.contains('Fire extinguisher'), 'Fire extinguisher'] = 1\n",
    "df.loc[df['amenities'].str.contains('Smoke detector'), 'Smoke detector'] = 1\n",
    "df.loc[df['amenities'].str.contains('Hot water'), 'Hot water'] = 1\n",
    "df.loc[df['amenities'].str.contains('Elevator'), 'Elevator'] = 1\n",
    "df.loc[df['amenities'].str.contains('Lock on bedroom door'), 'Lock on bedroom door'] = 1\n",
    "df.loc[df['amenities'].str.contains('Carbon monoxide detector'), 'Carbon monoxide detector'] = 1\n",
    "df.loc[df['amenities'].str.contains('Cable TV'), 'Cable TV'] = 1\n",
    "df.loc[df['amenities'].str.contains('Kitchen'), 'Kitchen'] = 1\n",
    "df.loc[df['amenities'].str.contains('Long term stays allowed'), 'Long term stays allowed'] = 1\n",
    "df.loc[df['amenities'].str.contains('Refrigerator'), 'Refrigerator'] = 1\n",
    "df.loc[df['amenities'].str.contains('Paid parking off premises'), 'Paid parking off premises'] = 1"
   ]
  },
  {
   "cell_type": "code",
   "execution_count": 74,
   "metadata": {},
   "outputs": [],
   "source": [
    "#將新產的的欄位，空值設為0，並刪除原本的amenities欄位\n",
    "cols_to_replace_nulls = df.iloc[:,41:].columns\n",
    "df[cols_to_replace_nulls] = df[cols_to_replace_nulls].fillna(0)\n",
    "df.drop('amenities', axis=1, inplace=True)"
   ]
  },
  {
   "cell_type": "code",
   "execution_count": 75,
   "metadata": {},
   "outputs": [],
   "source": [
    "#修改後的檔案輸出\n",
    "#df.to_csv('listing_good_clean2.csv', index = False)"
   ]
  },
  {
   "cell_type": "code",
   "execution_count": null,
   "metadata": {},
   "outputs": [],
   "source": []
  },
  {
   "cell_type": "code",
   "execution_count": null,
   "metadata": {},
   "outputs": [],
   "source": []
  },
  {
   "cell_type": "code",
   "execution_count": null,
   "metadata": {},
   "outputs": [],
   "source": []
  },
  {
   "cell_type": "code",
   "execution_count": null,
   "metadata": {},
   "outputs": [],
   "source": []
  },
  {
   "cell_type": "code",
   "execution_count": null,
   "metadata": {},
   "outputs": [],
   "source": []
  },
  {
   "cell_type": "code",
   "execution_count": null,
   "metadata": {},
   "outputs": [],
   "source": []
  },
  {
   "cell_type": "code",
   "execution_count": null,
   "metadata": {},
   "outputs": [],
   "source": []
  },
  {
   "cell_type": "code",
   "execution_count": null,
   "metadata": {},
   "outputs": [],
   "source": []
  },
  {
   "cell_type": "code",
   "execution_count": null,
   "metadata": {},
   "outputs": [],
   "source": []
  },
  {
   "cell_type": "code",
   "execution_count": null,
   "metadata": {},
   "outputs": [],
   "source": []
  },
  {
   "cell_type": "code",
   "execution_count": null,
   "metadata": {},
   "outputs": [],
   "source": []
  },
  {
   "cell_type": "code",
   "execution_count": null,
   "metadata": {},
   "outputs": [],
   "source": []
  }
 ],
 "metadata": {
  "kernelspec": {
   "display_name": "Python 3",
   "language": "python",
   "name": "python3"
  },
  "language_info": {
   "codemirror_mode": {
    "name": "ipython",
    "version": 3
   },
   "file_extension": ".py",
   "mimetype": "text/x-python",
   "name": "python",
   "nbconvert_exporter": "python",
   "pygments_lexer": "ipython3",
   "version": "3.7.4"
  }
 },
 "nbformat": 4,
 "nbformat_minor": 2
}
