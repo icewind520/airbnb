{
 "cells": [
  {
   "cell_type": "code",
   "execution_count": 1,
   "metadata": {},
   "outputs": [],
   "source": [
    "import pandas as pd\n",
    "import numpy as np\n",
    "from numpy.random import seed\n",
    "seed(123)\n",
    "import matplotlib.pyplot as plt\n",
    "%matplotlib inline\n",
    "from datetime import datetime\n",
    "import seaborn as sns\n",
    "import geopandas as gpd\n"
   ]
  },
  {
   "cell_type": "code",
   "execution_count": 2,
   "metadata": {},
   "outputs": [
    {
     "name": "stdout",
     "output_type": "stream",
     "text": [
      "The dataset contains 3032 Airbnb listings\n",
      "欄位數: 106\n"
     ]
    },
    {
     "data": {
      "text/html": [
       "<div>\n",
       "<style scoped>\n",
       "    .dataframe tbody tr th:only-of-type {\n",
       "        vertical-align: middle;\n",
       "    }\n",
       "\n",
       "    .dataframe tbody tr th {\n",
       "        vertical-align: top;\n",
       "    }\n",
       "\n",
       "    .dataframe thead th {\n",
       "        text-align: right;\n",
       "    }\n",
       "</style>\n",
       "<table border=\"1\" class=\"dataframe\">\n",
       "  <thead>\n",
       "    <tr style=\"text-align: right;\">\n",
       "      <th></th>\n",
       "      <th>id</th>\n",
       "      <th>listing_url</th>\n",
       "      <th>scrape_id</th>\n",
       "      <th>last_scraped</th>\n",
       "      <th>name</th>\n",
       "      <th>summary</th>\n",
       "      <th>space</th>\n",
       "      <th>description</th>\n",
       "      <th>experiences_offered</th>\n",
       "      <th>neighborhood_overview</th>\n",
       "      <th>notes</th>\n",
       "      <th>transit</th>\n",
       "      <th>access</th>\n",
       "      <th>interaction</th>\n",
       "      <th>house_rules</th>\n",
       "      <th>thumbnail_url</th>\n",
       "      <th>medium_url</th>\n",
       "      <th>picture_url</th>\n",
       "      <th>xl_picture_url</th>\n",
       "      <th>host_id</th>\n",
       "      <th>host_url</th>\n",
       "      <th>host_name</th>\n",
       "      <th>host_since</th>\n",
       "      <th>host_location</th>\n",
       "      <th>host_about</th>\n",
       "      <th>host_response_time</th>\n",
       "      <th>host_response_rate</th>\n",
       "      <th>host_acceptance_rate</th>\n",
       "      <th>host_is_superhost</th>\n",
       "      <th>host_thumbnail_url</th>\n",
       "      <th>host_picture_url</th>\n",
       "      <th>host_neighbourhood</th>\n",
       "      <th>host_listings_count</th>\n",
       "      <th>host_total_listings_count</th>\n",
       "      <th>host_verifications</th>\n",
       "      <th>host_has_profile_pic</th>\n",
       "      <th>host_identity_verified</th>\n",
       "      <th>street</th>\n",
       "      <th>neighbourhood</th>\n",
       "      <th>neighbourhood_cleansed</th>\n",
       "      <th>neighbourhood_group_cleansed</th>\n",
       "      <th>city</th>\n",
       "      <th>state</th>\n",
       "      <th>zipcode</th>\n",
       "      <th>market</th>\n",
       "      <th>smart_location</th>\n",
       "      <th>country_code</th>\n",
       "      <th>country</th>\n",
       "      <th>latitude</th>\n",
       "      <th>longitude</th>\n",
       "      <th>is_location_exact</th>\n",
       "      <th>property_type</th>\n",
       "      <th>room_type</th>\n",
       "      <th>accommodates</th>\n",
       "      <th>bathrooms</th>\n",
       "      <th>bedrooms</th>\n",
       "      <th>beds</th>\n",
       "      <th>bed_type</th>\n",
       "      <th>amenities</th>\n",
       "      <th>square_feet</th>\n",
       "      <th>price</th>\n",
       "      <th>weekly_price</th>\n",
       "      <th>monthly_price</th>\n",
       "      <th>security_deposit</th>\n",
       "      <th>cleaning_fee</th>\n",
       "      <th>guests_included</th>\n",
       "      <th>extra_people</th>\n",
       "      <th>minimum_nights</th>\n",
       "      <th>maximum_nights</th>\n",
       "      <th>minimum_minimum_nights</th>\n",
       "      <th>maximum_minimum_nights</th>\n",
       "      <th>minimum_maximum_nights</th>\n",
       "      <th>maximum_maximum_nights</th>\n",
       "      <th>minimum_nights_avg_ntm</th>\n",
       "      <th>maximum_nights_avg_ntm</th>\n",
       "      <th>calendar_updated</th>\n",
       "      <th>has_availability</th>\n",
       "      <th>availability_30</th>\n",
       "      <th>availability_60</th>\n",
       "      <th>availability_90</th>\n",
       "      <th>availability_365</th>\n",
       "      <th>calendar_last_scraped</th>\n",
       "      <th>number_of_reviews</th>\n",
       "      <th>number_of_reviews_ltm</th>\n",
       "      <th>first_review</th>\n",
       "      <th>last_review</th>\n",
       "      <th>review_scores_rating</th>\n",
       "      <th>review_scores_accuracy</th>\n",
       "      <th>review_scores_cleanliness</th>\n",
       "      <th>review_scores_checkin</th>\n",
       "      <th>review_scores_communication</th>\n",
       "      <th>review_scores_location</th>\n",
       "      <th>review_scores_value</th>\n",
       "      <th>requires_license</th>\n",
       "      <th>license</th>\n",
       "      <th>jurisdiction_names</th>\n",
       "      <th>instant_bookable</th>\n",
       "      <th>is_business_travel_ready</th>\n",
       "      <th>cancellation_policy</th>\n",
       "      <th>require_guest_profile_picture</th>\n",
       "      <th>require_guest_phone_verification</th>\n",
       "      <th>calculated_host_listings_count</th>\n",
       "      <th>calculated_host_listings_count_entire_homes</th>\n",
       "      <th>calculated_host_listings_count_private_rooms</th>\n",
       "      <th>calculated_host_listings_count_shared_rooms</th>\n",
       "      <th>reviews_per_month</th>\n",
       "    </tr>\n",
       "  </thead>\n",
       "  <tbody>\n",
       "    <tr>\n",
       "      <td>0</td>\n",
       "      <td>18935800</td>\n",
       "      <td>https://www.airbnb.com/rooms/18935800</td>\n",
       "      <td>20190730190716</td>\n",
       "      <td>2019-07-30</td>\n",
       "      <td>SHIDA, NTNU, NTU Room C (monthly rental) 儘提供月租...</td>\n",
       "      <td>This is a single bed room with full furnitures...</td>\n",
       "      <td>This room is a single bed room with a wardrobe...</td>\n",
       "      <td>This is a single bed room with full furnitures...</td>\n",
       "      <td>none</td>\n",
       "      <td>The flat is located on SHIDA RAOD 師大路, with on...</td>\n",
       "      <td>* Lease longer than 7 months will have additio...</td>\n",
       "      <td>- 2 min walks to NTNU  - 10 min walks to NTU  ...</td>\n",
       "      <td>Shared small living room, shared bathroom, sha...</td>\n",
       "      <td>NaN</td>\n",
       "      <td>- * This is a shared flat in residential area,...</td>\n",
       "      <td>NaN</td>\n",
       "      <td>NaN</td>\n",
       "      <td>https://a0.muscache.com/im/pictures/b2021251-e...</td>\n",
       "      <td>NaN</td>\n",
       "      <td>130827969</td>\n",
       "      <td>https://www.airbnb.com/users/show/130827969</td>\n",
       "      <td>Wenchi</td>\n",
       "      <td>2017-05-17</td>\n",
       "      <td>New Taipei City, Taiwan</td>\n",
       "      <td>NaN</td>\n",
       "      <td>within a day</td>\n",
       "      <td>60%</td>\n",
       "      <td>NaN</td>\n",
       "      <td>f</td>\n",
       "      <td>https://a0.muscache.com/im/pictures/11c62ecb-4...</td>\n",
       "      <td>https://a0.muscache.com/im/pictures/11c62ecb-4...</td>\n",
       "      <td>Da'an</td>\n",
       "      <td>52</td>\n",
       "      <td>52</td>\n",
       "      <td>['email', 'phone', 'reviews', 'jumio', 'offlin...</td>\n",
       "      <td>t</td>\n",
       "      <td>f</td>\n",
       "      <td>Da’an District, Taipei City, Taiwan</td>\n",
       "      <td>Da'an</td>\n",
       "      <td>大安區</td>\n",
       "      <td>NaN</td>\n",
       "      <td>Da’an District</td>\n",
       "      <td>Taipei City</td>\n",
       "      <td>106</td>\n",
       "      <td>Taipei</td>\n",
       "      <td>Da’an District, Taiwan</td>\n",
       "      <td>TW</td>\n",
       "      <td>Taiwan</td>\n",
       "      <td>25.02285</td>\n",
       "      <td>121.52796</td>\n",
       "      <td>f</td>\n",
       "      <td>Apartment</td>\n",
       "      <td>Private room</td>\n",
       "      <td>1</td>\n",
       "      <td>1.0</td>\n",
       "      <td>1</td>\n",
       "      <td>1.0</td>\n",
       "      <td>Real Bed</td>\n",
       "      <td>{TV,\"Cable TV\",Wifi,\"Air conditioning\",Kitchen...</td>\n",
       "      <td>NaN</td>\n",
       "      <td>$591.00</td>\n",
       "      <td>NaN</td>\n",
       "      <td>NaN</td>\n",
       "      <td>$4,000.00</td>\n",
       "      <td>$0.00</td>\n",
       "      <td>1</td>\n",
       "      <td>$0.00</td>\n",
       "      <td>31</td>\n",
       "      <td>1125</td>\n",
       "      <td>31</td>\n",
       "      <td>31</td>\n",
       "      <td>1125</td>\n",
       "      <td>1125</td>\n",
       "      <td>31.0</td>\n",
       "      <td>1125.0</td>\n",
       "      <td>2 months ago</td>\n",
       "      <td>t</td>\n",
       "      <td>0</td>\n",
       "      <td>23</td>\n",
       "      <td>53</td>\n",
       "      <td>328</td>\n",
       "      <td>2019-07-30</td>\n",
       "      <td>2</td>\n",
       "      <td>0</td>\n",
       "      <td>2017-08-14</td>\n",
       "      <td>2017-11-28</td>\n",
       "      <td>100.0</td>\n",
       "      <td>10.0</td>\n",
       "      <td>10.0</td>\n",
       "      <td>10.0</td>\n",
       "      <td>10.0</td>\n",
       "      <td>10.0</td>\n",
       "      <td>10.0</td>\n",
       "      <td>f</td>\n",
       "      <td>NaN</td>\n",
       "      <td>{\"Taiwan VAT Tax\"}</td>\n",
       "      <td>f</td>\n",
       "      <td>f</td>\n",
       "      <td>strict_14_with_grace_period</td>\n",
       "      <td>f</td>\n",
       "      <td>f</td>\n",
       "      <td>52</td>\n",
       "      <td>2</td>\n",
       "      <td>50</td>\n",
       "      <td>0</td>\n",
       "      <td>0.08</td>\n",
       "    </tr>\n",
       "    <tr>\n",
       "      <td>1</td>\n",
       "      <td>68398</td>\n",
       "      <td>https://www.airbnb.com/rooms/68398</td>\n",
       "      <td>20190730190716</td>\n",
       "      <td>2019-07-30</td>\n",
       "      <td>Tonghua Vacation Studio C</td>\n",
       "      <td>Convenient location; close to MRT and walking ...</td>\n",
       "      <td>Private Studio apartment with ensuite bathroom...</td>\n",
       "      <td>Convenient location; close to MRT and walking ...</td>\n",
       "      <td>none</td>\n",
       "      <td>Locates in a quiet neighborhood of Tonghua Str...</td>\n",
       "      <td>Please note that there is no elevator in the b...</td>\n",
       "      <td>7 mind walk to MRT Xinyi Anhe Station 10 minut...</td>\n",
       "      <td>26\" TV Sofa couch &amp; Coffee table Queen size do...</td>\n",
       "      <td>NaN</td>\n",
       "      <td>[ Tenant Policy ]   The minimum stay is 1 mont...</td>\n",
       "      <td>NaN</td>\n",
       "      <td>NaN</td>\n",
       "      <td>https://a0.muscache.com/im/pictures/28357420/c...</td>\n",
       "      <td>NaN</td>\n",
       "      <td>339014</td>\n",
       "      <td>https://www.airbnb.com/users/show/339014</td>\n",
       "      <td>Lisa</td>\n",
       "      <td>2011-01-07</td>\n",
       "      <td>Taipei, Taiwan</td>\n",
       "      <td>Hello world!! My name is Lisa and I'm super ex...</td>\n",
       "      <td>within an hour</td>\n",
       "      <td>100%</td>\n",
       "      <td>NaN</td>\n",
       "      <td>t</td>\n",
       "      <td>https://a0.muscache.com/im/users/339014/profil...</td>\n",
       "      <td>https://a0.muscache.com/im/users/339014/profil...</td>\n",
       "      <td>Da'an</td>\n",
       "      <td>12</td>\n",
       "      <td>12</td>\n",
       "      <td>['email', 'phone', 'facebook', 'reviews', 'off...</td>\n",
       "      <td>t</td>\n",
       "      <td>f</td>\n",
       "      <td>Daan District, Taiwan</td>\n",
       "      <td>Da'an</td>\n",
       "      <td>大安區</td>\n",
       "      <td>NaN</td>\n",
       "      <td>Daan District</td>\n",
       "      <td>NaN</td>\n",
       "      <td>106</td>\n",
       "      <td>Taipei</td>\n",
       "      <td>Daan District, Taiwan</td>\n",
       "      <td>TW</td>\n",
       "      <td>Taiwan</td>\n",
       "      <td>25.02925</td>\n",
       "      <td>121.55561</td>\n",
       "      <td>t</td>\n",
       "      <td>Apartment</td>\n",
       "      <td>Entire home/apt</td>\n",
       "      <td>2</td>\n",
       "      <td>1.0</td>\n",
       "      <td>1</td>\n",
       "      <td>1.0</td>\n",
       "      <td>Real Bed</td>\n",
       "      <td>{TV,\"Cable TV\",Internet,Wifi,\"Air conditioning...</td>\n",
       "      <td>NaN</td>\n",
       "      <td>$933.00</td>\n",
       "      <td>NaN</td>\n",
       "      <td>$27,983.00</td>\n",
       "      <td>$9,328.00</td>\n",
       "      <td>NaN</td>\n",
       "      <td>1</td>\n",
       "      <td>$0.00</td>\n",
       "      <td>30</td>\n",
       "      <td>365</td>\n",
       "      <td>30</td>\n",
       "      <td>30</td>\n",
       "      <td>365</td>\n",
       "      <td>365</td>\n",
       "      <td>30.0</td>\n",
       "      <td>365.0</td>\n",
       "      <td>3 months ago</td>\n",
       "      <td>t</td>\n",
       "      <td>0</td>\n",
       "      <td>12</td>\n",
       "      <td>42</td>\n",
       "      <td>317</td>\n",
       "      <td>2019-07-30</td>\n",
       "      <td>7</td>\n",
       "      <td>1</td>\n",
       "      <td>2012-11-16</td>\n",
       "      <td>2019-04-01</td>\n",
       "      <td>94.0</td>\n",
       "      <td>10.0</td>\n",
       "      <td>9.0</td>\n",
       "      <td>10.0</td>\n",
       "      <td>10.0</td>\n",
       "      <td>10.0</td>\n",
       "      <td>9.0</td>\n",
       "      <td>f</td>\n",
       "      <td>NaN</td>\n",
       "      <td>{\"Taiwan VAT Tax\"}</td>\n",
       "      <td>f</td>\n",
       "      <td>f</td>\n",
       "      <td>strict_14_with_grace_period</td>\n",
       "      <td>f</td>\n",
       "      <td>f</td>\n",
       "      <td>12</td>\n",
       "      <td>12</td>\n",
       "      <td>0</td>\n",
       "      <td>0</td>\n",
       "      <td>0.09</td>\n",
       "    </tr>\n",
       "    <tr>\n",
       "      <td>2</td>\n",
       "      <td>697805</td>\n",
       "      <td>https://www.airbnb.com/rooms/697805</td>\n",
       "      <td>20190730190716</td>\n",
       "      <td>2019-07-30</td>\n",
       "      <td>Tonghua Vacation Studio E</td>\n",
       "      <td>Convenient location; close to MRT and walking ...</td>\n",
       "      <td>Private Studio apartment with ensuite bathroom...</td>\n",
       "      <td>Convenient location; close to MRT and walking ...</td>\n",
       "      <td>none</td>\n",
       "      <td>Locates in a quiet neighborhood of Tonghua Str...</td>\n",
       "      <td>Please note that there is no elevator in the b...</td>\n",
       "      <td>- 7 min walk to MRT Xinyi Anhe Station - 10 mi...</td>\n",
       "      <td>26\" TV Sofa couch &amp; Coffee table Queen size do...</td>\n",
       "      <td>NaN</td>\n",
       "      <td>Tenant Policy All rent is all inclusive of uti...</td>\n",
       "      <td>NaN</td>\n",
       "      <td>NaN</td>\n",
       "      <td>https://a0.muscache.com/im/pictures/50145019/5...</td>\n",
       "      <td>NaN</td>\n",
       "      <td>339014</td>\n",
       "      <td>https://www.airbnb.com/users/show/339014</td>\n",
       "      <td>Lisa</td>\n",
       "      <td>2011-01-07</td>\n",
       "      <td>Taipei, Taiwan</td>\n",
       "      <td>Hello world!! My name is Lisa and I'm super ex...</td>\n",
       "      <td>within an hour</td>\n",
       "      <td>100%</td>\n",
       "      <td>NaN</td>\n",
       "      <td>t</td>\n",
       "      <td>https://a0.muscache.com/im/users/339014/profil...</td>\n",
       "      <td>https://a0.muscache.com/im/users/339014/profil...</td>\n",
       "      <td>Da'an</td>\n",
       "      <td>12</td>\n",
       "      <td>12</td>\n",
       "      <td>['email', 'phone', 'facebook', 'reviews', 'off...</td>\n",
       "      <td>t</td>\n",
       "      <td>f</td>\n",
       "      <td>Daan District, Taiwan</td>\n",
       "      <td>Da'an</td>\n",
       "      <td>大安區</td>\n",
       "      <td>NaN</td>\n",
       "      <td>Daan District</td>\n",
       "      <td>NaN</td>\n",
       "      <td>106</td>\n",
       "      <td>Taipei</td>\n",
       "      <td>Daan District, Taiwan</td>\n",
       "      <td>TW</td>\n",
       "      <td>Taiwan</td>\n",
       "      <td>25.02999</td>\n",
       "      <td>121.55434</td>\n",
       "      <td>f</td>\n",
       "      <td>Apartment</td>\n",
       "      <td>Entire home/apt</td>\n",
       "      <td>2</td>\n",
       "      <td>1.0</td>\n",
       "      <td>1</td>\n",
       "      <td>1.0</td>\n",
       "      <td>Real Bed</td>\n",
       "      <td>{TV,\"Cable TV\",Internet,Wifi,\"Air conditioning...</td>\n",
       "      <td>NaN</td>\n",
       "      <td>$933.00</td>\n",
       "      <td>NaN</td>\n",
       "      <td>$27,983.00</td>\n",
       "      <td>$9,328.00</td>\n",
       "      <td>NaN</td>\n",
       "      <td>1</td>\n",
       "      <td>$0.00</td>\n",
       "      <td>30</td>\n",
       "      <td>365</td>\n",
       "      <td>30</td>\n",
       "      <td>30</td>\n",
       "      <td>365</td>\n",
       "      <td>365</td>\n",
       "      <td>30.0</td>\n",
       "      <td>365.0</td>\n",
       "      <td>2 months ago</td>\n",
       "      <td>t</td>\n",
       "      <td>4</td>\n",
       "      <td>6</td>\n",
       "      <td>36</td>\n",
       "      <td>311</td>\n",
       "      <td>2019-07-30</td>\n",
       "      <td>3</td>\n",
       "      <td>1</td>\n",
       "      <td>2014-02-19</td>\n",
       "      <td>2018-09-21</td>\n",
       "      <td>100.0</td>\n",
       "      <td>10.0</td>\n",
       "      <td>10.0</td>\n",
       "      <td>10.0</td>\n",
       "      <td>10.0</td>\n",
       "      <td>10.0</td>\n",
       "      <td>10.0</td>\n",
       "      <td>f</td>\n",
       "      <td>NaN</td>\n",
       "      <td>{\"Taiwan VAT Tax\"}</td>\n",
       "      <td>f</td>\n",
       "      <td>f</td>\n",
       "      <td>strict_14_with_grace_period</td>\n",
       "      <td>f</td>\n",
       "      <td>f</td>\n",
       "      <td>12</td>\n",
       "      <td>12</td>\n",
       "      <td>0</td>\n",
       "      <td>0</td>\n",
       "      <td>0.05</td>\n",
       "    </tr>\n",
       "  </tbody>\n",
       "</table>\n",
       "</div>"
      ],
      "text/plain": [
       "         id                            listing_url       scrape_id  \\\n",
       "0  18935800  https://www.airbnb.com/rooms/18935800  20190730190716   \n",
       "1     68398     https://www.airbnb.com/rooms/68398  20190730190716   \n",
       "2    697805    https://www.airbnb.com/rooms/697805  20190730190716   \n",
       "\n",
       "  last_scraped                                               name  \\\n",
       "0   2019-07-30  SHIDA, NTNU, NTU Room C (monthly rental) 儘提供月租...   \n",
       "1   2019-07-30                          Tonghua Vacation Studio C   \n",
       "2   2019-07-30                          Tonghua Vacation Studio E   \n",
       "\n",
       "                                             summary  \\\n",
       "0  This is a single bed room with full furnitures...   \n",
       "1  Convenient location; close to MRT and walking ...   \n",
       "2  Convenient location; close to MRT and walking ...   \n",
       "\n",
       "                                               space  \\\n",
       "0  This room is a single bed room with a wardrobe...   \n",
       "1  Private Studio apartment with ensuite bathroom...   \n",
       "2  Private Studio apartment with ensuite bathroom...   \n",
       "\n",
       "                                         description experiences_offered  \\\n",
       "0  This is a single bed room with full furnitures...                none   \n",
       "1  Convenient location; close to MRT and walking ...                none   \n",
       "2  Convenient location; close to MRT and walking ...                none   \n",
       "\n",
       "                               neighborhood_overview  \\\n",
       "0  The flat is located on SHIDA RAOD 師大路, with on...   \n",
       "1  Locates in a quiet neighborhood of Tonghua Str...   \n",
       "2  Locates in a quiet neighborhood of Tonghua Str...   \n",
       "\n",
       "                                               notes  \\\n",
       "0  * Lease longer than 7 months will have additio...   \n",
       "1  Please note that there is no elevator in the b...   \n",
       "2  Please note that there is no elevator in the b...   \n",
       "\n",
       "                                             transit  \\\n",
       "0  - 2 min walks to NTNU  - 10 min walks to NTU  ...   \n",
       "1  7 mind walk to MRT Xinyi Anhe Station 10 minut...   \n",
       "2  - 7 min walk to MRT Xinyi Anhe Station - 10 mi...   \n",
       "\n",
       "                                              access interaction  \\\n",
       "0  Shared small living room, shared bathroom, sha...         NaN   \n",
       "1  26\" TV Sofa couch & Coffee table Queen size do...         NaN   \n",
       "2  26\" TV Sofa couch & Coffee table Queen size do...         NaN   \n",
       "\n",
       "                                         house_rules  thumbnail_url  \\\n",
       "0  - * This is a shared flat in residential area,...            NaN   \n",
       "1  [ Tenant Policy ]   The minimum stay is 1 mont...            NaN   \n",
       "2  Tenant Policy All rent is all inclusive of uti...            NaN   \n",
       "\n",
       "   medium_url                                        picture_url  \\\n",
       "0         NaN  https://a0.muscache.com/im/pictures/b2021251-e...   \n",
       "1         NaN  https://a0.muscache.com/im/pictures/28357420/c...   \n",
       "2         NaN  https://a0.muscache.com/im/pictures/50145019/5...   \n",
       "\n",
       "   xl_picture_url    host_id                                     host_url  \\\n",
       "0             NaN  130827969  https://www.airbnb.com/users/show/130827969   \n",
       "1             NaN     339014     https://www.airbnb.com/users/show/339014   \n",
       "2             NaN     339014     https://www.airbnb.com/users/show/339014   \n",
       "\n",
       "  host_name  host_since            host_location  \\\n",
       "0    Wenchi  2017-05-17  New Taipei City, Taiwan   \n",
       "1      Lisa  2011-01-07           Taipei, Taiwan   \n",
       "2      Lisa  2011-01-07           Taipei, Taiwan   \n",
       "\n",
       "                                          host_about host_response_time  \\\n",
       "0                                                NaN       within a day   \n",
       "1  Hello world!! My name is Lisa and I'm super ex...     within an hour   \n",
       "2  Hello world!! My name is Lisa and I'm super ex...     within an hour   \n",
       "\n",
       "  host_response_rate  host_acceptance_rate host_is_superhost  \\\n",
       "0                60%                   NaN                 f   \n",
       "1               100%                   NaN                 t   \n",
       "2               100%                   NaN                 t   \n",
       "\n",
       "                                  host_thumbnail_url  \\\n",
       "0  https://a0.muscache.com/im/pictures/11c62ecb-4...   \n",
       "1  https://a0.muscache.com/im/users/339014/profil...   \n",
       "2  https://a0.muscache.com/im/users/339014/profil...   \n",
       "\n",
       "                                    host_picture_url host_neighbourhood  \\\n",
       "0  https://a0.muscache.com/im/pictures/11c62ecb-4...              Da'an   \n",
       "1  https://a0.muscache.com/im/users/339014/profil...              Da'an   \n",
       "2  https://a0.muscache.com/im/users/339014/profil...              Da'an   \n",
       "\n",
       "   host_listings_count  host_total_listings_count  \\\n",
       "0                   52                         52   \n",
       "1                   12                         12   \n",
       "2                   12                         12   \n",
       "\n",
       "                                  host_verifications host_has_profile_pic  \\\n",
       "0  ['email', 'phone', 'reviews', 'jumio', 'offlin...                    t   \n",
       "1  ['email', 'phone', 'facebook', 'reviews', 'off...                    t   \n",
       "2  ['email', 'phone', 'facebook', 'reviews', 'off...                    t   \n",
       "\n",
       "  host_identity_verified                               street neighbourhood  \\\n",
       "0                      f  Da’an District, Taipei City, Taiwan         Da'an   \n",
       "1                      f                Daan District, Taiwan         Da'an   \n",
       "2                      f                Daan District, Taiwan         Da'an   \n",
       "\n",
       "  neighbourhood_cleansed  neighbourhood_group_cleansed            city  \\\n",
       "0                    大安區                           NaN  Da’an District   \n",
       "1                    大安區                           NaN   Daan District   \n",
       "2                    大安區                           NaN   Daan District   \n",
       "\n",
       "         state zipcode  market          smart_location country_code country  \\\n",
       "0  Taipei City     106  Taipei  Da’an District, Taiwan           TW  Taiwan   \n",
       "1          NaN     106  Taipei   Daan District, Taiwan           TW  Taiwan   \n",
       "2          NaN     106  Taipei   Daan District, Taiwan           TW  Taiwan   \n",
       "\n",
       "   latitude  longitude is_location_exact property_type        room_type  \\\n",
       "0  25.02285  121.52796                 f     Apartment     Private room   \n",
       "1  25.02925  121.55561                 t     Apartment  Entire home/apt   \n",
       "2  25.02999  121.55434                 f     Apartment  Entire home/apt   \n",
       "\n",
       "   accommodates  bathrooms  bedrooms  beds  bed_type  \\\n",
       "0             1        1.0         1   1.0  Real Bed   \n",
       "1             2        1.0         1   1.0  Real Bed   \n",
       "2             2        1.0         1   1.0  Real Bed   \n",
       "\n",
       "                                           amenities  square_feet    price  \\\n",
       "0  {TV,\"Cable TV\",Wifi,\"Air conditioning\",Kitchen...          NaN  $591.00   \n",
       "1  {TV,\"Cable TV\",Internet,Wifi,\"Air conditioning...          NaN  $933.00   \n",
       "2  {TV,\"Cable TV\",Internet,Wifi,\"Air conditioning...          NaN  $933.00   \n",
       "\n",
       "  weekly_price monthly_price security_deposit cleaning_fee  guests_included  \\\n",
       "0          NaN           NaN        $4,000.00        $0.00                1   \n",
       "1          NaN    $27,983.00        $9,328.00          NaN                1   \n",
       "2          NaN    $27,983.00        $9,328.00          NaN                1   \n",
       "\n",
       "  extra_people  minimum_nights  maximum_nights  minimum_minimum_nights  \\\n",
       "0        $0.00              31            1125                      31   \n",
       "1        $0.00              30             365                      30   \n",
       "2        $0.00              30             365                      30   \n",
       "\n",
       "   maximum_minimum_nights  minimum_maximum_nights  maximum_maximum_nights  \\\n",
       "0                      31                    1125                    1125   \n",
       "1                      30                     365                     365   \n",
       "2                      30                     365                     365   \n",
       "\n",
       "   minimum_nights_avg_ntm  maximum_nights_avg_ntm calendar_updated  \\\n",
       "0                    31.0                  1125.0     2 months ago   \n",
       "1                    30.0                   365.0     3 months ago   \n",
       "2                    30.0                   365.0     2 months ago   \n",
       "\n",
       "  has_availability  availability_30  availability_60  availability_90  \\\n",
       "0                t                0               23               53   \n",
       "1                t                0               12               42   \n",
       "2                t                4                6               36   \n",
       "\n",
       "   availability_365 calendar_last_scraped  number_of_reviews  \\\n",
       "0               328            2019-07-30                  2   \n",
       "1               317            2019-07-30                  7   \n",
       "2               311            2019-07-30                  3   \n",
       "\n",
       "   number_of_reviews_ltm first_review last_review  review_scores_rating  \\\n",
       "0                      0   2017-08-14  2017-11-28                 100.0   \n",
       "1                      1   2012-11-16  2019-04-01                  94.0   \n",
       "2                      1   2014-02-19  2018-09-21                 100.0   \n",
       "\n",
       "   review_scores_accuracy  review_scores_cleanliness  review_scores_checkin  \\\n",
       "0                    10.0                       10.0                   10.0   \n",
       "1                    10.0                        9.0                   10.0   \n",
       "2                    10.0                       10.0                   10.0   \n",
       "\n",
       "   review_scores_communication  review_scores_location  review_scores_value  \\\n",
       "0                         10.0                    10.0                 10.0   \n",
       "1                         10.0                    10.0                  9.0   \n",
       "2                         10.0                    10.0                 10.0   \n",
       "\n",
       "  requires_license license  jurisdiction_names instant_bookable  \\\n",
       "0                f     NaN  {\"Taiwan VAT Tax\"}                f   \n",
       "1                f     NaN  {\"Taiwan VAT Tax\"}                f   \n",
       "2                f     NaN  {\"Taiwan VAT Tax\"}                f   \n",
       "\n",
       "  is_business_travel_ready          cancellation_policy  \\\n",
       "0                        f  strict_14_with_grace_period   \n",
       "1                        f  strict_14_with_grace_period   \n",
       "2                        f  strict_14_with_grace_period   \n",
       "\n",
       "  require_guest_profile_picture require_guest_phone_verification  \\\n",
       "0                             f                                f   \n",
       "1                             f                                f   \n",
       "2                             f                                f   \n",
       "\n",
       "   calculated_host_listings_count  \\\n",
       "0                              52   \n",
       "1                              12   \n",
       "2                              12   \n",
       "\n",
       "   calculated_host_listings_count_entire_homes  \\\n",
       "0                                            2   \n",
       "1                                           12   \n",
       "2                                           12   \n",
       "\n",
       "   calculated_host_listings_count_private_rooms  \\\n",
       "0                                            50   \n",
       "1                                             0   \n",
       "2                                             0   \n",
       "\n",
       "   calculated_host_listings_count_shared_rooms  reviews_per_month  \n",
       "0                                            0               0.08  \n",
       "1                                            0               0.09  \n",
       "2                                            0               0.05  "
      ]
     },
     "execution_count": 2,
     "metadata": {},
     "output_type": "execute_result"
    }
   ],
   "source": [
    "#用pandas讀取文件，並顯示前三行內容\n",
    "raw_df = pd.read_csv('listings_bad2.csv',encoding='utf-8')\n",
    "print(f\"The dataset contains {len(raw_df)} Airbnb listings\")\n",
    "pd.set_option('display.max_columns', len(raw_df.columns)) # To view all columns\n",
    "pd.set_option('display.max_rows', 100)\n",
    "print('欄位數:',len(raw_df.columns))\n",
    "raw_df.head(3)"
   ]
  },
  {
   "cell_type": "code",
   "execution_count": 3,
   "metadata": {},
   "outputs": [],
   "source": [
    "#先刪除爬取與房源相關的欄位資訊\n",
    "cols_to_drop = ['listing_url', 'scrape_id', 'last_scraped', 'name', 'summary', 'space', 'description', 'neighborhood_overview', 'notes', 'transit', 'access', 'interaction', 'house_rules', 'thumbnail_url', 'medium_url', 'picture_url', 'xl_picture_url', 'host_id', 'host_url', 'host_name', 'host_location', 'host_about', 'host_thumbnail_url', 'host_picture_url', 'host_neighbourhood', 'host_identity_verified', 'host_verifications', 'calendar_last_scraped']\n",
    "df = raw_df.drop(cols_to_drop, axis=1)"
   ]
  },
  {
   "cell_type": "code",
   "execution_count": 4,
   "metadata": {},
   "outputs": [
    {
     "data": {
      "text/plain": [
       "id                                                 0\n",
       "experiences_offered                                0\n",
       "host_since                                         0\n",
       "host_response_time                               371\n",
       "host_response_rate                               371\n",
       "host_acceptance_rate                            3032\n",
       "host_is_superhost                                  0\n",
       "host_listings_count                                0\n",
       "host_total_listings_count                          0\n",
       "host_has_profile_pic                               0\n",
       "street                                             0\n",
       "neighbourhood                                     51\n",
       "neighbourhood_cleansed                             0\n",
       "neighbourhood_group_cleansed                    3032\n",
       "city                                              79\n",
       "state                                            162\n",
       "zipcode                                          115\n",
       "market                                             0\n",
       "smart_location                                     0\n",
       "country_code                                       0\n",
       "country                                            0\n",
       "latitude                                           0\n",
       "longitude                                          0\n",
       "is_location_exact                                  0\n",
       "property_type                                      0\n",
       "room_type                                          0\n",
       "accommodates                                       0\n",
       "bathrooms                                          2\n",
       "bedrooms                                           0\n",
       "beds                                               3\n",
       "bed_type                                           0\n",
       "amenities                                          0\n",
       "square_feet                                     3000\n",
       "price                                              0\n",
       "weekly_price                                    2751\n",
       "monthly_price                                   2713\n",
       "security_deposit                                1010\n",
       "cleaning_fee                                     690\n",
       "guests_included                                    0\n",
       "extra_people                                       0\n",
       "minimum_nights                                     0\n",
       "maximum_nights                                     0\n",
       "minimum_minimum_nights                             0\n",
       "maximum_minimum_nights                             0\n",
       "minimum_maximum_nights                             0\n",
       "maximum_maximum_nights                             0\n",
       "minimum_nights_avg_ntm                             0\n",
       "maximum_nights_avg_ntm                             0\n",
       "calendar_updated                                   0\n",
       "has_availability                                   0\n",
       "availability_30                                    0\n",
       "availability_60                                    0\n",
       "availability_90                                    0\n",
       "availability_365                                   0\n",
       "number_of_reviews                                  0\n",
       "number_of_reviews_ltm                              0\n",
       "first_review                                       0\n",
       "last_review                                        0\n",
       "review_scores_rating                              40\n",
       "review_scores_accuracy                            41\n",
       "review_scores_cleanliness                         40\n",
       "review_scores_checkin                             43\n",
       "review_scores_communication                       40\n",
       "review_scores_location                            44\n",
       "review_scores_value                               44\n",
       "requires_license                                   0\n",
       "license                                         2998\n",
       "jurisdiction_names                                 0\n",
       "instant_bookable                                   0\n",
       "is_business_travel_ready                           0\n",
       "cancellation_policy                                0\n",
       "require_guest_profile_picture                      0\n",
       "require_guest_phone_verification                   0\n",
       "calculated_host_listings_count                     0\n",
       "calculated_host_listings_count_entire_homes        0\n",
       "calculated_host_listings_count_private_rooms       0\n",
       "calculated_host_listings_count_shared_rooms        0\n",
       "reviews_per_month                                  0\n",
       "dtype: int64"
      ]
     },
     "execution_count": 4,
     "metadata": {},
     "output_type": "execute_result"
    }
   ],
   "source": [
    "#顯示各欄的資料空值筆數\n",
    "df.isna().sum()"
   ]
  },
  {
   "cell_type": "code",
   "execution_count": 5,
   "metadata": {},
   "outputs": [],
   "source": [
    "#刪除空值比率過高的欄位，將id欄位設為index\n",
    "df.drop(['host_acceptance_rate', 'neighbourhood_group_cleansed', 'square_feet', 'weekly_price', 'monthly_price', 'license' ], axis=1, inplace=True)\n",
    "\n",
    "df.set_index('id', inplace=True)"
   ]
  },
  {
   "cell_type": "code",
   "execution_count": 6,
   "metadata": {},
   "outputs": [
    {
     "name": "stdout",
     "output_type": "stream",
     "text": [
      "0\n"
     ]
    }
   ],
   "source": [
    "#觀察資料內容發現host_listings_count與host_total_listings_count兩個欄位的數值是完全相同的，比對內容後只有3個不同，主要這三個欄位為空值\n",
    "print(sum((df.host_listings_count == df.host_total_listings_count) == False))"
   ]
  },
  {
   "cell_type": "code",
   "execution_count": 7,
   "metadata": {},
   "outputs": [
    {
     "data": {
      "text/html": [
       "<div>\n",
       "<style scoped>\n",
       "    .dataframe tbody tr th:only-of-type {\n",
       "        vertical-align: middle;\n",
       "    }\n",
       "\n",
       "    .dataframe tbody tr th {\n",
       "        vertical-align: top;\n",
       "    }\n",
       "\n",
       "    .dataframe thead th {\n",
       "        text-align: right;\n",
       "    }\n",
       "</style>\n",
       "<table border=\"1\" class=\"dataframe\">\n",
       "  <thead>\n",
       "    <tr style=\"text-align: right;\">\n",
       "      <th></th>\n",
       "      <th>id</th>\n",
       "      <th>experiences_offered</th>\n",
       "      <th>host_since</th>\n",
       "      <th>host_response_time</th>\n",
       "      <th>host_response_rate</th>\n",
       "      <th>host_is_superhost</th>\n",
       "      <th>host_listings_count</th>\n",
       "      <th>host_total_listings_count</th>\n",
       "      <th>host_has_profile_pic</th>\n",
       "      <th>street</th>\n",
       "      <th>neighbourhood</th>\n",
       "      <th>neighbourhood_cleansed</th>\n",
       "      <th>city</th>\n",
       "      <th>state</th>\n",
       "      <th>zipcode</th>\n",
       "      <th>market</th>\n",
       "      <th>smart_location</th>\n",
       "      <th>country_code</th>\n",
       "      <th>country</th>\n",
       "      <th>latitude</th>\n",
       "      <th>longitude</th>\n",
       "      <th>is_location_exact</th>\n",
       "      <th>property_type</th>\n",
       "      <th>room_type</th>\n",
       "      <th>accommodates</th>\n",
       "      <th>bathrooms</th>\n",
       "      <th>bedrooms</th>\n",
       "      <th>beds</th>\n",
       "      <th>bed_type</th>\n",
       "      <th>amenities</th>\n",
       "      <th>price</th>\n",
       "      <th>security_deposit</th>\n",
       "      <th>cleaning_fee</th>\n",
       "      <th>guests_included</th>\n",
       "      <th>extra_people</th>\n",
       "      <th>minimum_nights</th>\n",
       "      <th>maximum_nights</th>\n",
       "      <th>minimum_minimum_nights</th>\n",
       "      <th>maximum_minimum_nights</th>\n",
       "      <th>minimum_maximum_nights</th>\n",
       "      <th>maximum_maximum_nights</th>\n",
       "      <th>minimum_nights_avg_ntm</th>\n",
       "      <th>maximum_nights_avg_ntm</th>\n",
       "      <th>calendar_updated</th>\n",
       "      <th>has_availability</th>\n",
       "      <th>availability_30</th>\n",
       "      <th>availability_60</th>\n",
       "      <th>availability_90</th>\n",
       "      <th>availability_365</th>\n",
       "      <th>number_of_reviews</th>\n",
       "      <th>number_of_reviews_ltm</th>\n",
       "      <th>first_review</th>\n",
       "      <th>last_review</th>\n",
       "      <th>review_scores_rating</th>\n",
       "      <th>review_scores_accuracy</th>\n",
       "      <th>review_scores_cleanliness</th>\n",
       "      <th>review_scores_checkin</th>\n",
       "      <th>review_scores_communication</th>\n",
       "      <th>review_scores_location</th>\n",
       "      <th>review_scores_value</th>\n",
       "      <th>requires_license</th>\n",
       "      <th>jurisdiction_names</th>\n",
       "      <th>instant_bookable</th>\n",
       "      <th>is_business_travel_ready</th>\n",
       "      <th>cancellation_policy</th>\n",
       "      <th>require_guest_profile_picture</th>\n",
       "      <th>require_guest_phone_verification</th>\n",
       "      <th>calculated_host_listings_count</th>\n",
       "      <th>calculated_host_listings_count_entire_homes</th>\n",
       "      <th>calculated_host_listings_count_private_rooms</th>\n",
       "      <th>calculated_host_listings_count_shared_rooms</th>\n",
       "      <th>reviews_per_month</th>\n",
       "    </tr>\n",
       "  </thead>\n",
       "  <tbody>\n",
       "  </tbody>\n",
       "</table>\n",
       "</div>"
      ],
      "text/plain": [
       "Empty DataFrame\n",
       "Columns: [id, experiences_offered, host_since, host_response_time, host_response_rate, host_is_superhost, host_listings_count, host_total_listings_count, host_has_profile_pic, street, neighbourhood, neighbourhood_cleansed, city, state, zipcode, market, smart_location, country_code, country, latitude, longitude, is_location_exact, property_type, room_type, accommodates, bathrooms, bedrooms, beds, bed_type, amenities, price, security_deposit, cleaning_fee, guests_included, extra_people, minimum_nights, maximum_nights, minimum_minimum_nights, maximum_minimum_nights, minimum_maximum_nights, maximum_maximum_nights, minimum_nights_avg_ntm, maximum_nights_avg_ntm, calendar_updated, has_availability, availability_30, availability_60, availability_90, availability_365, number_of_reviews, number_of_reviews_ltm, first_review, last_review, review_scores_rating, review_scores_accuracy, review_scores_cleanliness, review_scores_checkin, review_scores_communication, review_scores_location, review_scores_value, requires_license, jurisdiction_names, instant_bookable, is_business_travel_ready, cancellation_policy, require_guest_profile_picture, require_guest_phone_verification, calculated_host_listings_count, calculated_host_listings_count_entire_homes, calculated_host_listings_count_private_rooms, calculated_host_listings_count_shared_rooms, reviews_per_month]\n",
       "Index: []"
      ]
     },
     "execution_count": 7,
     "metadata": {},
     "output_type": "execute_result"
    }
   ],
   "source": [
    "df.loc[((df.host_listings_count == df.host_total_listings_count) == False)][:3]"
   ]
  },
  {
   "cell_type": "code",
   "execution_count": 8,
   "metadata": {},
   "outputs": [],
   "source": [
    "#刪除host_total_listings_count欄位以及與他相關的欄位\n",
    "df.drop(['host_total_listings_count', 'calculated_host_listings_count', 'calculated_host_listings_count_entire_homes', 'calculated_host_listings_count_private_rooms', 'calculated_host_listings_count_shared_rooms'], axis=1, inplace=True)"
   ]
  },
  {
   "cell_type": "code",
   "execution_count": 9,
   "metadata": {},
   "outputs": [],
   "source": [
    "#將經緯度欄位合併，用於後續內容\n",
    "lat_long = df[['latitude', 'longitude']]"
   ]
  },
  {
   "cell_type": "code",
   "execution_count": 10,
   "metadata": {},
   "outputs": [],
   "source": [
    "#因為都在台北市，將城市相關的內容刪除\n",
    "df.drop(['zipcode', 'latitude', 'longitude', 'street', 'neighbourhood', 'city', 'state', 'market', 'smart_location', 'country_code', 'country', 'is_location_exact','jurisdiction_names'], axis=1, inplace=True)"
   ]
  },
  {
   "cell_type": "code",
   "execution_count": 11,
   "metadata": {},
   "outputs": [],
   "source": [
    "#除了minimum_nights與maximum_nights之外，minimum_minimum_nights、maximum_minimum_nights定義較不明確\n",
    "#參考其餘文章後決定保留minimum_nights與maximum_nights，其餘刪除\n",
    "df.drop(['minimum_minimum_nights', 'maximum_minimum_nights', 'minimum_maximum_nights', 'maximum_maximum_nights', 'minimum_nights_avg_ntm', 'maximum_nights_avg_ntm'], axis=1, inplace=True)"
   ]
  },
  {
   "cell_type": "code",
   "execution_count": 12,
   "metadata": {},
   "outputs": [],
   "source": [
    "#將剩餘欄位有 f/t 改為 0/1\n",
    "df.replace({'f': 0, 't': 1}, inplace=True)"
   ]
  },
  {
   "cell_type": "code",
   "execution_count": 13,
   "metadata": {},
   "outputs": [
    {
     "data": {
      "image/png": "[encoded data removed]",
      "text/plain": [
       "<Figure size 1440x1440 with 36 Axes>"
      ]
     },
     "metadata": {
      "needs_background": "light"
     },
     "output_type": "display_data"
    }
   ],
   "source": [
    "#顯示剩餘欄的直方圖，觀察內容分布\n",
    "df.hist(figsize=(20,20));"
   ]
  },
  {
   "cell_type": "code",
   "execution_count": 14,
   "metadata": {},
   "outputs": [],
   "source": [
    "#觀察發現其中有些欄位屬性較為單一，將這些欄位刪除\n",
    "df.drop(['has_availability', 'host_has_profile_pic', 'is_business_travel_ready', 'require_guest_phone_verification', 'require_guest_profile_picture', 'requires_license'], axis=1, inplace=True)"
   ]
  },
  {
   "cell_type": "code",
   "execution_count": 15,
   "metadata": {},
   "outputs": [
    {
     "data": {
      "text/plain": [
       "id                                0\n",
       "experiences_offered               0\n",
       "host_since                        0\n",
       "host_response_time              371\n",
       "host_response_rate              371\n",
       "host_is_superhost                 0\n",
       "host_listings_count               0\n",
       "neighbourhood_cleansed            0\n",
       "property_type                     0\n",
       "room_type                         0\n",
       "accommodates                      0\n",
       "bathrooms                         2\n",
       "bedrooms                          0\n",
       "beds                              3\n",
       "bed_type                          0\n",
       "amenities                         0\n",
       "price                             0\n",
       "security_deposit               1010\n",
       "cleaning_fee                    690\n",
       "guests_included                   0\n",
       "extra_people                      0\n",
       "minimum_nights                    0\n",
       "maximum_nights                    0\n",
       "calendar_updated                  0\n",
       "availability_30                   0\n",
       "availability_60                   0\n",
       "availability_90                   0\n",
       "availability_365                  0\n",
       "number_of_reviews                 0\n",
       "number_of_reviews_ltm             0\n",
       "first_review                      0\n",
       "last_review                       0\n",
       "review_scores_rating             40\n",
       "review_scores_accuracy           41\n",
       "review_scores_cleanliness        40\n",
       "review_scores_checkin            43\n",
       "review_scores_communication      40\n",
       "review_scores_location           44\n",
       "review_scores_value              44\n",
       "instant_bookable                  0\n",
       "cancellation_policy               0\n",
       "reviews_per_month                 0\n",
       "dtype: int64"
      ]
     },
     "execution_count": 15,
     "metadata": {},
     "output_type": "execute_result"
    }
   ],
   "source": [
    "#顯示剩餘欄位\n",
    "df.isna().sum()"
   ]
  },
  {
   "cell_type": "code",
   "execution_count": 16,
   "metadata": {},
   "outputs": [
    {
     "data": {
      "text/plain": [
       "none    3032\n",
       "Name: experiences_offered, dtype: int64"
      ]
     },
     "execution_count": 16,
     "metadata": {},
     "output_type": "execute_result"
    }
   ],
   "source": [
    "#統計experiences_offered欄位各資料出現次數\n",
    "df.experiences_offered.value_counts()"
   ]
  },
  {
   "cell_type": "code",
   "execution_count": 17,
   "metadata": {},
   "outputs": [],
   "source": [
    "#數值全部都是none，刪除此欄\n",
    "df.drop('experiences_offered', axis=1, inplace=True)"
   ]
  },
  {
   "cell_type": "code",
   "execution_count": 18,
   "metadata": {},
   "outputs": [
    {
     "name": "stdout",
     "output_type": "stream",
     "text": [
      "平均 days as host: 1367.0\n",
      "中位 days as host: 1378.0\n"
     ]
    }
   ],
   "source": [
    "#用pandas轉換天數\n",
    "df.host_since = pd.to_datetime(df.host_since) \n",
    "\n",
    "#計算房東加入時間到2019.8.1的總天數\n",
    "df['host_days_active'] = (datetime(2019, 8, 1) - df.host_since).astype('timedelta64[D]')\n",
    "\n",
    "#顯示平均與中位天數\n",
    "print(\"平均 days as host:\", round(df['host_days_active'].mean(),0))\n",
    "print(\"中位 days as host:\", df['host_days_active'].median())"
   ]
  },
  {
   "cell_type": "code",
   "execution_count": 19,
   "metadata": {},
   "outputs": [],
   "source": [
    "#將空值的三筆替換為中位天數\n",
    "df.host_days_active.fillna(df.host_days_active.median(), inplace=True)"
   ]
  },
  {
   "cell_type": "code",
   "execution_count": 20,
   "metadata": {},
   "outputs": [],
   "source": [
    "#定義等級分布\n",
    "def bin_column(col, bins, labels, na_label='unknown'):\n",
    "    df[col] = pd.cut(df[col], bins=bins, labels=labels, include_lowest=True)\n",
    "    df[col] = df[col].astype('str')\n",
    "    df[col].fillna(na_label, inplace=True)"
   ]
  },
  {
   "cell_type": "code",
   "execution_count": 21,
   "metadata": {},
   "outputs": [],
   "source": [
    "#將host_since依天數分類為 0~1 years,1-3 years,3-5 years,5-10 years\n",
    "bin_column('host_days_active',\n",
    "           bins=[0, 365, 1095, 1825, max(df.host_days_active)],\n",
    "           labels=['0-1 years',\n",
    "                   '1-3 years',\n",
    "                   '3-5 years',\n",
    "                   '5-10 years'],\n",
    "           na_label='unknown')"
   ]
  },
  {
   "cell_type": "code",
   "execution_count": 22,
   "metadata": {},
   "outputs": [
    {
     "data": {
      "text/plain": [
       "3-5 years     1440\n",
       "1-3 years      736\n",
       "5-10 years     652\n",
       "0-1 years      204\n",
       "Name: host_days_active, dtype: int64"
      ]
     },
     "execution_count": 22,
     "metadata": {},
     "output_type": "execute_result"
    }
   ],
   "source": [
    "#顯示分類後的各等級筆數\n",
    "df.host_days_active.value_counts()"
   ]
  },
  {
   "cell_type": "code",
   "execution_count": 23,
   "metadata": {},
   "outputs": [
    {
     "name": "stdout",
     "output_type": "stream",
     "text": [
      "空值筆數: 371\n",
      "空值比例: 12.2%\n"
     ]
    }
   ],
   "source": [
    "#計算df.host_response_time的空值比例\n",
    "print(\"空值筆數:\", df.host_response_time.isna().sum())\n",
    "print(f\"空值比例: {round((df.host_response_time.isna().sum()/len(df))*100, 1)}%\")"
   ]
  },
  {
   "cell_type": "code",
   "execution_count": 24,
   "metadata": {},
   "outputs": [
    {
     "data": {
      "text/plain": [
       "within an hour        2192\n",
       "within a few hours     296\n",
       "within a day           139\n",
       "a few days or more      34\n",
       "Name: host_response_time, dtype: int64"
      ]
     },
     "execution_count": 24,
     "metadata": {},
     "output_type": "execute_result"
    }
   ],
   "source": [
    "#顯示各項筆數\n",
    "df.host_response_time.value_counts()"
   ]
  },
  {
   "cell_type": "code",
   "execution_count": 25,
   "metadata": {},
   "outputs": [
    {
     "data": {
      "text/plain": [
       "within an hour        2563\n",
       "within a few hours     296\n",
       "within a day           139\n",
       "a few days or more      34\n",
       "Name: host_response_time, dtype: int64"
      ]
     },
     "execution_count": 25,
     "metadata": {},
     "output_type": "execute_result"
    }
   ],
   "source": [
    "#將空值補為眾數within an hour\n",
    "df.host_response_time.fillna(\"within an hour\", inplace=True)\n",
    "df.host_response_time.value_counts()"
   ]
  },
  {
   "cell_type": "code",
   "execution_count": 26,
   "metadata": {},
   "outputs": [
    {
     "name": "stdout",
     "output_type": "stream",
     "text": [
      "Null values: 371\n",
      "空值比例: 12.2%\n"
     ]
    }
   ],
   "source": [
    "#計算df.host_response_rate的空值比例\n",
    "print(\"Null values:\", df.host_response_rate.isna().sum())\n",
    "print(f\"空值比例: {round((df.host_response_rate.isna().sum()/len(df))*100, 1)}%\")"
   ]
  },
  {
   "cell_type": "code",
   "execution_count": 27,
   "metadata": {},
   "outputs": [
    {
     "name": "stdout",
     "output_type": "stream",
     "text": [
      "平均 host response rate: 96.0\n",
      "中位數 host response rate: 100.0\n",
      "100%回覆的比率: 75.5%\n"
     ]
    }
   ],
   "source": [
    "#計算df.host_response_rate的平均數與中位數\n",
    "df.host_response_rate = df.host_response_rate.str[:-1].astype('float64')\n",
    "print(\"平均 host response rate:\", round(df['host_response_rate'].mean(),0))\n",
    "print(\"中位數 host response rate:\", df['host_response_rate'].median())\n",
    "print(f\"100%回覆的比率: {round(((df.host_response_rate == 100.0).sum()/df.host_response_rate.count())*100,1)}%\")"
   ]
  },
  {
   "cell_type": "code",
   "execution_count": 28,
   "metadata": {},
   "outputs": [
    {
     "data": {
      "text/plain": [
       "100.000000    2009\n",
       "96.361142      371\n",
       "98.000000      105\n",
       "99.000000      103\n",
       "97.000000       48\n",
       "96.000000       46\n",
       "90.000000       44\n",
       "80.000000       41\n",
       "95.000000       29\n",
       "50.000000       26\n",
       "92.000000       25\n",
       "0.000000        24\n",
       "75.000000       18\n",
       "94.000000       16\n",
       "67.000000       15\n",
       "93.000000       12\n",
       "60.000000       10\n",
       "88.000000        9\n",
       "91.000000        7\n",
       "81.000000        7\n",
       "83.000000        7\n",
       "85.000000        6\n",
       "86.000000        6\n",
       "84.000000        6\n",
       "65.000000        5\n",
       "30.000000        5\n",
       "70.000000        5\n",
       "87.000000        3\n",
       "63.000000        3\n",
       "82.000000        3\n",
       "77.000000        3\n",
       "71.000000        3\n",
       "33.000000        3\n",
       "89.000000        3\n",
       "69.000000        2\n",
       "40.000000        1\n",
       "74.000000        1\n",
       "78.000000        1\n",
       "20.000000        1\n",
       "Name: host_response_rate, dtype: int64"
      ]
     },
     "execution_count": 28,
     "metadata": {},
     "output_type": "execute_result"
    }
   ],
   "source": [
    "#將空值補為平均數\n",
    "df.host_response_rate.fillna(df.host_response_rate.mean(), inplace=True)\n",
    "df.host_response_rate.value_counts()"
   ]
  },
  {
   "cell_type": "code",
   "execution_count": 29,
   "metadata": {},
   "outputs": [
    {
     "name": "stdout",
     "output_type": "stream",
     "text": [
      "空值筆數: 0\n"
     ]
    }
   ],
   "source": [
    "#計算df.host_is_superhost的空值比例\n",
    "print(\"空值筆數:\", df.host_is_superhost.isna().sum())"
   ]
  },
  {
   "cell_type": "code",
   "execution_count": 30,
   "metadata": {},
   "outputs": [
    {
     "data": {
      "text/plain": [
       "0    2283\n",
       "1     749\n",
       "Name: host_is_superhost, dtype: int64"
      ]
     },
     "execution_count": 30,
     "metadata": {},
     "output_type": "execute_result"
    }
   ],
   "source": [
    "#將空值補為0(f)\n",
    "df.host_is_superhost.fillna(0 , inplace=True)\n",
    "df.host_is_superhost.value_counts()"
   ]
  },
  {
   "cell_type": "code",
   "execution_count": 31,
   "metadata": {},
   "outputs": [
    {
     "name": "stdout",
     "output_type": "stream",
     "text": [
      "空值筆數: 0\n"
     ]
    }
   ],
   "source": [
    "#計算df.host_listings_count的空值比例\n",
    "print(\"空值筆數:\", df.host_listings_count.isna().sum())"
   ]
  },
  {
   "cell_type": "code",
   "execution_count": 32,
   "metadata": {},
   "outputs": [],
   "source": [
    "#將df.host_listings_count依間數分類為 1 room,2~5 rooms,6-10 rooms,11~30 rooms,31~50 rooms,51~100 rooms,100+ rooms\n",
    "bin_column('host_listings_count',\n",
    "           bins=[0, 1, 5, 10, 30, 50, 100, max(df.host_listings_count)],\n",
    "           labels=['1 room',\n",
    "                   '2-5 rooms',\n",
    "                   '6-10 rooms',\n",
    "                   '11-30 rooms',\n",
    "                   '31-50 rooms',\n",
    "                   '51-100 rooms',\n",
    "                   '100+ rooms'],\n",
    "           na_label='unknown')"
   ]
  },
  {
   "cell_type": "code",
   "execution_count": 33,
   "metadata": {},
   "outputs": [
    {
     "data": {
      "text/plain": [
       "2-5 rooms       826\n",
       "11-30 rooms     731\n",
       "6-10 rooms      690\n",
       "1 room          436\n",
       "31-50 rooms     165\n",
       "51-100 rooms    149\n",
       "100+ rooms       35\n",
       "Name: host_listings_count, dtype: int64"
      ]
     },
     "execution_count": 33,
     "metadata": {},
     "output_type": "execute_result"
    }
   ],
   "source": [
    "#顯示分類後的各等級筆數\n",
    "df.host_listings_count.value_counts()"
   ]
  },
  {
   "cell_type": "code",
   "execution_count": 34,
   "metadata": {},
   "outputs": [],
   "source": [
    "#將空值的三筆補眾數\n",
    "df.host_listings_count.replace('nan','2-5 rooms', inplace=True)"
   ]
  },
  {
   "cell_type": "code",
   "execution_count": 35,
   "metadata": {},
   "outputs": [
    {
     "data": {
      "text/plain": [
       "2-5 rooms       826\n",
       "11-30 rooms     731\n",
       "6-10 rooms      690\n",
       "1 room          436\n",
       "31-50 rooms     165\n",
       "51-100 rooms    149\n",
       "100+ rooms       35\n",
       "Name: host_listings_count, dtype: int64"
      ]
     },
     "execution_count": 35,
     "metadata": {},
     "output_type": "execute_result"
    }
   ],
   "source": [
    "#顯示分類後的各等級筆數\n",
    "df.host_listings_count.value_counts()"
   ]
  },
  {
   "cell_type": "code",
   "execution_count": 36,
   "metadata": {
    "scrolled": true
   },
   "outputs": [
    {
     "data": {
      "text/plain": [
       "萬華區    669\n",
       "大安區    522\n",
       "中正區    446\n",
       "中山區    421\n",
       "信義區    293\n",
       "大同區    208\n",
       "松山區    120\n",
       "士林區    105\n",
       "北投區     82\n",
       "文山區     64\n",
       "內湖區     62\n",
       "南港區     40\n",
       "Name: neighbourhood_cleansed, dtype: int64"
      ]
     },
     "execution_count": 36,
     "metadata": {},
     "output_type": "execute_result"
    }
   ],
   "source": [
    "#顯示各區的房間數量\n",
    "df.neighbourhood_cleansed.value_counts()"
   ]
  },
  {
   "cell_type": "code",
   "execution_count": 37,
   "metadata": {},
   "outputs": [
    {
     "data": {
      "text/plain": [
       "Apartment                 1790\n",
       "Condominium                380\n",
       "Hostel                     187\n",
       "House                      163\n",
       "Serviced apartment         114\n",
       "Loft                        92\n",
       "Boutique hotel              63\n",
       "Townhouse                   45\n",
       "Guest suite                 43\n",
       "Bed and breakfast           39\n",
       "Other                       24\n",
       "Minsu (Taiwan)              23\n",
       "Aparthotel                  22\n",
       "Hotel                       17\n",
       "Bungalow                     7\n",
       "Guesthouse                   7\n",
       "Villa                        6\n",
       "Dorm                         5\n",
       "Hut                          2\n",
       "Heritage hotel (India)       2\n",
       "Tent                         1\n",
       "Name: property_type, dtype: int64"
      ]
     },
     "execution_count": 37,
     "metadata": {},
     "output_type": "execute_result"
    }
   ],
   "source": [
    "#顯示各種房源種類數量\n",
    "df.property_type.value_counts()"
   ]
  },
  {
   "cell_type": "code",
   "execution_count": 38,
   "metadata": {},
   "outputs": [
    {
     "data": {
      "text/plain": [
       "Entire home/apt    1585\n",
       "Private room       1178\n",
       "Shared room         269\n",
       "Name: room_type, dtype: int64"
      ]
     },
     "execution_count": 38,
     "metadata": {},
     "output_type": "execute_result"
    }
   ],
   "source": [
    "#顯示各種房間種類數量\n",
    "df.room_type.value_counts()"
   ]
  },
  {
   "cell_type": "code",
   "execution_count": 39,
   "metadata": {},
   "outputs": [
    {
     "name": "stdout",
     "output_type": "stream",
     "text": [
      "bathrooms空值筆數: 2\n",
      "空值比例: 0.1%\n",
      "bedrooms空值筆數: 0\n",
      "空值比例: 0.0%\n",
      "beds空值筆數: 3\n",
      "空值比例: 0.1%\n"
     ]
    }
   ],
   "source": [
    "#顯示bathrooms、bedrooms、beds三欄的空值比例\n",
    "print(\"bathrooms空值筆數:\", df.bathrooms.isna().sum())\n",
    "print(f\"空值比例: {round((df.bathrooms.isna().sum()/len(df))*100, 1)}%\")\n",
    "print(\"bedrooms空值筆數:\", df.bedrooms.isna().sum())\n",
    "print(f\"空值比例: {round((df.bedrooms.isna().sum()/len(df))*100, 1)}%\")\n",
    "print(\"beds空值筆數:\", df.beds.isna().sum())\n",
    "print(f\"空值比例: {round((df.beds.isna().sum()/len(df))*100, 1)}%\")"
   ]
  },
  {
   "cell_type": "code",
   "execution_count": 40,
   "metadata": {},
   "outputs": [],
   "source": [
    "#將bathrooms、bedrooms、beds三欄的空值替換為中位數\n",
    "for col in ['bathrooms', 'bedrooms', 'beds']:\n",
    "    df[col].fillna(df[col].median(), inplace=True)"
   ]
  },
  {
   "cell_type": "code",
   "execution_count": 41,
   "metadata": {},
   "outputs": [
    {
     "data": {
      "text/plain": [
       "Real Bed         3004\n",
       "Futon              18\n",
       "Pull-out Sofa       8\n",
       "Airbed              1\n",
       "Couch               1\n",
       "Name: bed_type, dtype: int64"
      ]
     },
     "execution_count": 41,
     "metadata": {},
     "output_type": "execute_result"
    }
   ],
   "source": [
    "#顯示bed_type的各項筆數\n",
    "df.bed_type.value_counts()"
   ]
  },
  {
   "cell_type": "code",
   "execution_count": 42,
   "metadata": {},
   "outputs": [],
   "source": [
    "#由於主要都是Real Bed，將此項刪除\n",
    "#df.drop('bed_type', axis=1, inplace=True)"
   ]
  },
  {
   "cell_type": "code",
   "execution_count": 43,
   "metadata": {},
   "outputs": [],
   "source": [
    "#將price的$去除，轉化為int\n",
    "df.price = df.price.str[1:-3]\n",
    "df.price = df.price.str.replace(\",\", \"\")\n",
    "df.price = df.price.astype('int64')"
   ]
  },
  {
   "cell_type": "code",
   "execution_count": 44,
   "metadata": {},
   "outputs": [
    {
     "name": "stdout",
     "output_type": "stream",
     "text": [
      "count      3032.000000\n",
      "mean       2468.294195\n",
      "std       11410.090742\n",
      "min         311.000000\n",
      "25%         995.000000\n",
      "50%        1492.000000\n",
      "75%        2239.000000\n",
      "max      310919.000000\n",
      "Name: price, dtype: float64\n"
     ]
    },
    {
     "data": {
      "image/png": "[encoded data removed]",
      "text/plain": [
       "<Figure size 864x432 with 1 Axes>"
      ]
     },
     "metadata": {
      "needs_background": "light"
     },
     "output_type": "display_data"
    }
   ],
   "source": [
    "\n",
    "print(df.price.describe())\n",
    "plt.figure(figsize = (12 , 6))\n",
    "plt.title('price' , fontsize = 15)\n",
    "sns.distplot(df.price.dropna() , rug = True)\n",
    "sns.despine()"
   ]
  },
  {
   "cell_type": "code",
   "execution_count": 45,
   "metadata": {},
   "outputs": [
    {
     "data": {
      "text/plain": [
       "12810     2\n",
       "19992     2\n",
       "12001     2\n",
       "99992     2\n",
       "15888     2\n",
       "14986     2\n",
       "18655     1\n",
       "20800     1\n",
       "15297     1\n",
       "35009     1\n",
       "17007     1\n",
       "300006    1\n",
       "310919    1\n",
       "299913    1\n",
       "300970    1\n",
       "18002     1\n",
       "22200     1\n",
       "13587     1\n",
       "12437     1\n",
       "12996     1\n",
       "15608     1\n",
       "28698     1\n",
       "29724     1\n",
       "30874     1\n",
       "12064     1\n",
       "Name: price, dtype: int64"
      ]
     },
     "execution_count": 45,
     "metadata": {},
     "output_type": "execute_result"
    }
   ],
   "source": [
    "df[df.price > 12000].price.value_counts()"
   ]
  },
  {
   "cell_type": "code",
   "execution_count": 46,
   "metadata": {},
   "outputs": [
    {
     "name": "stdout",
     "output_type": "stream",
     "text": [
      "Null values: 1010\n",
      "空值比例: 33.3%\n"
     ]
    }
   ],
   "source": [
    "#顯示保證金的空值比例\n",
    "print(\"Null values:\", df.security_deposit.isna().sum())\n",
    "print(f\"空值比例: {round((df.security_deposit.isna().sum()/len(df))*100, 1)}%\")"
   ]
  },
  {
   "cell_type": "code",
   "execution_count": 47,
   "metadata": {},
   "outputs": [],
   "source": [
    "#將保證金的$去除，空值補0，轉化為int\n",
    "df.security_deposit = df.security_deposit.str[1:-3]\n",
    "df.security_deposit = df.security_deposit.str.replace(\",\", \"\")\n",
    "df.security_deposit.fillna(0, inplace=True)\n",
    "df.security_deposit = df.security_deposit.astype('int64')"
   ]
  },
  {
   "cell_type": "code",
   "execution_count": 48,
   "metadata": {},
   "outputs": [
    {
     "name": "stdout",
     "output_type": "stream",
     "text": [
      "Null values: 690\n",
      "空值比例: 22.8%\n"
     ]
    }
   ],
   "source": [
    "#顯示清潔費的空值比例\n",
    "print(\"Null values:\",df.cleaning_fee.isna().sum())\n",
    "print(f\"空值比例: {round((df.cleaning_fee.isna().sum()/len(df))*100, 1)}%\")"
   ]
  },
  {
   "cell_type": "code",
   "execution_count": 49,
   "metadata": {},
   "outputs": [],
   "source": [
    "#將清潔費的$去除，空值補0，轉化為int\n",
    "df.cleaning_fee = df.cleaning_fee.str[1:-3]\n",
    "df.cleaning_fee = df.cleaning_fee.str.replace(\",\", \"\")\n",
    "df.cleaning_fee.fillna(0, inplace=True)\n",
    "df.cleaning_fee = df.cleaning_fee.astype('int64')"
   ]
  },
  {
   "cell_type": "code",
   "execution_count": 50,
   "metadata": {},
   "outputs": [
    {
     "data": {
      "text/plain": [
       "1     1638\n",
       "2      844\n",
       "4      267\n",
       "3      128\n",
       "6       62\n",
       "5       37\n",
       "8       32\n",
       "7        7\n",
       "10       5\n",
       "9        4\n",
       "14       4\n",
       "16       2\n",
       "12       2\n",
       "Name: guests_included, dtype: int64"
      ]
     },
     "execution_count": 50,
     "metadata": {},
     "output_type": "execute_result"
    }
   ],
   "source": [
    "#顯示guests_included的各項筆數\n",
    "df.guests_included.value_counts()"
   ]
  },
  {
   "cell_type": "code",
   "execution_count": 51,
   "metadata": {},
   "outputs": [
    {
     "name": "stdout",
     "output_type": "stream",
     "text": [
      "Null values: 0\n",
      "空值比例: 0.0%\n"
     ]
    }
   ],
   "source": [
    "#顯示加人費用的空值比例\n",
    "print(\"Null values:\",df.extra_people.isna().sum())\n",
    "print(f\"空值比例: {round((df.extra_people.isna().sum()/len(df))*100, 1)}%\")"
   ]
  },
  {
   "cell_type": "code",
   "execution_count": 52,
   "metadata": {},
   "outputs": [],
   "source": [
    "#將加人費用的$去除，空值補0，轉化為int\n",
    "df.extra_people = df.extra_people.str[1:-3]\n",
    "df.extra_people = df.extra_people.str.replace(\",\", \"\")\n",
    "df.extra_people.fillna(0, inplace=True)\n",
    "df.extra_people = df.extra_people.astype('int64')"
   ]
  },
  {
   "cell_type": "code",
   "execution_count": 53,
   "metadata": {},
   "outputs": [
    {
     "name": "stdout",
     "output_type": "stream",
     "text": [
      "此行的分類總數: 63\n",
      "\\Top 5 分類:\n"
     ]
    },
    {
     "data": {
      "text/plain": [
       "today          1101\n",
       "yesterday       210\n",
       "a week ago      167\n",
       "2 weeks ago     162\n",
       "5 days ago      109\n",
       "Name: calendar_updated, dtype: int64"
      ]
     },
     "execution_count": 53,
     "metadata": {},
     "output_type": "execute_result"
    }
   ],
   "source": [
    "#顯示calendar_updated的各項筆數\n",
    "print(\"此行的分類總數:\", df.calendar_updated.nunique())\n",
    "print(\"\\Top 5 分類:\")\n",
    "df.calendar_updated.value_counts()[:5]"
   ]
  },
  {
   "cell_type": "code",
   "execution_count": 54,
   "metadata": {},
   "outputs": [],
   "source": [
    "#因不太清楚此項的相關定義，參考其餘文章後刪除此項\n",
    "df.drop('calendar_updated', axis=1, inplace=True)"
   ]
  },
  {
   "cell_type": "code",
   "execution_count": 55,
   "metadata": {},
   "outputs": [],
   "source": [
    "#30天~365天可訂的天數，因無法定義是空房還是房東沒有開放，故刪除\n",
    "df.drop(['availability_30', 'availability_60','availability_90', 'availability_365'], axis=1, inplace=True)"
   ]
  },
  {
   "cell_type": "code",
   "execution_count": 56,
   "metadata": {},
   "outputs": [
    {
     "name": "stdout",
     "output_type": "stream",
     "text": [
      "first_review空值比例: 0.0%\n",
      "last_review空值比例: 0.0%\n"
     ]
    }
   ],
   "source": [
    "#顯示first_review和last_review的空值比例\n",
    "print(f\"first_review空值比例: {round(100*df.first_review.isna().sum()/len(df),1)}%\")\n",
    "print(f\"last_review空值比例: {round(100*df.last_review.isna().sum()/len(df),1)}%\")"
   ]
  },
  {
   "cell_type": "code",
   "execution_count": 57,
   "metadata": {},
   "outputs": [],
   "source": [
    "#用pandas轉換天數\n",
    "df.first_review = pd.to_datetime(df.first_review) \n",
    "\n",
    "#計算房東first_review到2019.8.1的總天數\n",
    "df['first_review_to_20190801'] = (datetime(2019, 8, 1) - df.first_review).astype('timedelta64[D]')"
   ]
  },
  {
   "cell_type": "code",
   "execution_count": 58,
   "metadata": {},
   "outputs": [
    {
     "data": {
      "image/png": "[encoded data removed]",
      "text/plain": [
       "<Figure size 1080x360 with 1 Axes>"
      ]
     },
     "metadata": {
      "needs_background": "light"
     },
     "output_type": "display_data"
    }
   ],
   "source": [
    "#顯示first_review_to_20190801的天數直方圖\n",
    "df.first_review_to_20190801.hist(figsize=(15,5), bins=30);"
   ]
  },
  {
   "cell_type": "code",
   "execution_count": 59,
   "metadata": {},
   "outputs": [],
   "source": [
    "# 將first_review_to_20190801依天數分類為 0-3 months, 3-6 months, 6-12 months,1+ years\n",
    "bin_column('first_review_to_20190801',\n",
    "           bins=[0, 91, 182, 365, max(df.first_review_to_20190801)],\n",
    "           labels=['0-3 months',\n",
    "                   '3-6 months',\n",
    "                   '6-12 months',\n",
    "                   '1+ years'],\n",
    "           na_label='unknown')"
   ]
  },
  {
   "cell_type": "code",
   "execution_count": 60,
   "metadata": {},
   "outputs": [
    {
     "data": {
      "text/plain": [
       "1+ years       2072\n",
       "6-12 months     456\n",
       "0-3 months      286\n",
       "3-6 months      218\n",
       "Name: first_review_to_20190801, dtype: int64"
      ]
     },
     "execution_count": 60,
     "metadata": {},
     "output_type": "execute_result"
    }
   ],
   "source": [
    "#顯示分類後的各等級筆數\n",
    "df.first_review_to_20190801.value_counts()"
   ]
  },
  {
   "cell_type": "code",
   "execution_count": 61,
   "metadata": {},
   "outputs": [],
   "source": [
    "#將空值補眾數 1+ years\n",
    "df.first_review_to_20190801.replace('nan','1+ years', inplace=True)"
   ]
  },
  {
   "cell_type": "code",
   "execution_count": 62,
   "metadata": {},
   "outputs": [
    {
     "data": {
      "text/plain": [
       "1+ years       2072\n",
       "6-12 months     456\n",
       "0-3 months      286\n",
       "3-6 months      218\n",
       "Name: first_review_to_20190801, dtype: int64"
      ]
     },
     "execution_count": 62,
     "metadata": {},
     "output_type": "execute_result"
    }
   ],
   "source": [
    "#顯示修正後的各等級筆數\n",
    "df.first_review_to_20190801.value_counts()"
   ]
  },
  {
   "cell_type": "code",
   "execution_count": 63,
   "metadata": {},
   "outputs": [],
   "source": [
    "#用pandas轉換天數\n",
    "df.last_review = pd.to_datetime(df.first_review) \n",
    "\n",
    "#計算房東last_review到2019.8.1的總天數\n",
    "df['last_review_to_20190801'] = (datetime(2019, 8, 1) - df.first_review).astype('timedelta64[D]')"
   ]
  },
  {
   "cell_type": "code",
   "execution_count": 64,
   "metadata": {},
   "outputs": [
    {
     "data": {
      "image/png": "[encoded data removed]",
      "text/plain": [
       "<Figure size 1080x360 with 1 Axes>"
      ]
     },
     "metadata": {
      "needs_background": "light"
     },
     "output_type": "display_data"
    }
   ],
   "source": [
    "#顯示last_review_to_20190801的天數直方圖\n",
    "df.last_review_to_20190801.hist(figsize=(15,5), bins=30);"
   ]
  },
  {
   "cell_type": "code",
   "execution_count": 65,
   "metadata": {},
   "outputs": [],
   "source": [
    "# 將last_review_to_20190801依天數分類為 0-3 months, 3-6 months, 6-12 months,1+ years\n",
    "bin_column('last_review_to_20190801',\n",
    "           bins=[0, 91, 182, 365, max(df.last_review_to_20190801)],\n",
    "           labels=['0-3 months',\n",
    "                   '3-6 months',\n",
    "                   '6-12 months',\n",
    "                   '1+ years'],\n",
    "           na_label='unknown')"
   ]
  },
  {
   "cell_type": "code",
   "execution_count": 66,
   "metadata": {},
   "outputs": [
    {
     "data": {
      "text/plain": [
       "1+ years       2072\n",
       "6-12 months     456\n",
       "0-3 months      286\n",
       "3-6 months      218\n",
       "Name: last_review_to_20190801, dtype: int64"
      ]
     },
     "execution_count": 66,
     "metadata": {},
     "output_type": "execute_result"
    }
   ],
   "source": [
    "#顯示分類後的各等級筆數\n",
    "df.last_review_to_20190801.value_counts()"
   ]
  },
  {
   "cell_type": "code",
   "execution_count": 67,
   "metadata": {},
   "outputs": [],
   "source": [
    "#將空值補眾數 1+ years\n",
    "df.last_review_to_20190801.replace('nan','1+ years', inplace=True)"
   ]
  },
  {
   "cell_type": "code",
   "execution_count": 68,
   "metadata": {},
   "outputs": [
    {
     "data": {
      "text/plain": [
       "1+ years       2072\n",
       "6-12 months     456\n",
       "0-3 months      286\n",
       "3-6 months      218\n",
       "Name: last_review_to_20190801, dtype: int64"
      ]
     },
     "execution_count": 68,
     "metadata": {},
     "output_type": "execute_result"
    }
   ],
   "source": [
    "#顯示修正後的各等級筆數\n",
    "df.last_review_to_20190801.value_counts()"
   ]
  },
  {
   "cell_type": "code",
   "execution_count": 69,
   "metadata": {},
   "outputs": [
    {
     "data": {
      "image/png": "[encoded data removed]",
      "text/plain": [
       "<Figure size 864x576 with 7 Axes>"
      ]
     },
     "metadata": {
      "needs_background": "light"
     },
     "output_type": "display_data"
    }
   ],
   "source": [
    "# 顯示review_scores_rating相關的的直方圖\n",
    "variables_to_plot = list(df.columns[df.columns.str.startswith(\"review_scores\") == True])\n",
    "fig = plt.figure(figsize=(12,8))\n",
    "for i, var_name in enumerate(variables_to_plot):\n",
    "    ax = fig.add_subplot(3,3,i+1)\n",
    "    df[var_name].hist(bins=10,ax=ax)\n",
    "    ax.set_title(var_name)\n",
    "fig.tight_layout()\n",
    "plt.show()"
   ]
  },
  {
   "cell_type": "code",
   "execution_count": 70,
   "metadata": {},
   "outputs": [],
   "source": [
    "#刪除review_scores相關的有空值的欄位\n",
    "#df.dropna(subset=['review_scores_rating'], inplace=True)\n",
    "#df.dropna(subset=['review_scores_accuracy'], inplace=True)\n",
    "#df.dropna(subset=['review_scores_cleanliness'], inplace=True)\n",
    "#df.dropna(subset=['review_scores_checkin'], inplace=True)\n",
    "#df.dropna(subset=['review_scores_communication'], inplace=True)\n",
    "#df.dropna(subset=['review_scores_location'], inplace=True)\n",
    "#df.dropna(subset=['review_scores_value'], inplace=True)"
   ]
  },
  {
   "cell_type": "code",
   "execution_count": 71,
   "metadata": {},
   "outputs": [],
   "source": [
    "#將review_scores相關的有空值替換為nan\n",
    "df.review_scores_rating.fillna('nan', inplace=True)\n",
    "df.review_scores_accuracy.fillna('nan', inplace=True)\n",
    "df.review_scores_cleanliness.fillna('nan', inplace=True)\n",
    "df.review_scores_checkin.fillna('nan', inplace=True)\n",
    "df.review_scores_communication.fillna('nan', inplace=True)\n",
    "df.review_scores_location.fillna('nan', inplace=True)\n",
    "df.review_scores_value.fillna('nan', inplace=True)"
   ]
  },
  {
   "cell_type": "code",
   "execution_count": 72,
   "metadata": {},
   "outputs": [
    {
     "data": {
      "text/plain": [
       "{'',\n",
       " '24-hour check-in',\n",
       " 'Accessible-height bed',\n",
       " 'Accessible-height toilet',\n",
       " 'Air conditioning',\n",
       " 'BBQ grill',\n",
       " 'Baby bath',\n",
       " 'Baby monitor',\n",
       " 'Babysitter recommendations',\n",
       " 'Bathtub',\n",
       " 'Bathtub with bath chair',\n",
       " 'Beach essentials',\n",
       " 'Bed linens',\n",
       " 'Breakfast',\n",
       " 'Building staff',\n",
       " 'Buzzer/wireless intercom',\n",
       " 'Cable TV',\n",
       " 'Carbon monoxide detector',\n",
       " 'Cat(s)',\n",
       " 'Ceiling hoist',\n",
       " 'Changing table',\n",
       " 'Children’s books and toys',\n",
       " 'Children’s dinnerware',\n",
       " 'Cleaning before checkout',\n",
       " 'Coffee maker',\n",
       " 'Cooking basics',\n",
       " 'Crib',\n",
       " 'Disabled parking spot',\n",
       " 'Dishes and silverware',\n",
       " 'Dishwasher',\n",
       " 'Dog(s)',\n",
       " 'Doorman',\n",
       " 'Dryer',\n",
       " 'EV charger',\n",
       " 'Electric profiling bed',\n",
       " 'Elevator',\n",
       " 'Essentials',\n",
       " 'Ethernet connection',\n",
       " 'Extra pillows and blankets',\n",
       " 'Extra space around bed',\n",
       " 'Family/kid friendly',\n",
       " 'Fire extinguisher',\n",
       " 'Fireplace guards',\n",
       " 'Firm mattress',\n",
       " 'First aid kit',\n",
       " 'Fixed grab bars for shower',\n",
       " 'Fixed grab bars for toilet',\n",
       " 'Flat path to guest entrance',\n",
       " 'Free parking on premises',\n",
       " 'Free street parking',\n",
       " 'Game console',\n",
       " 'Garden or backyard',\n",
       " 'Gym',\n",
       " 'Hair dryer',\n",
       " 'Handheld shower head',\n",
       " 'Hangers',\n",
       " 'Heating',\n",
       " 'High chair',\n",
       " 'Host greets you',\n",
       " 'Hot tub',\n",
       " 'Hot water',\n",
       " 'Hot water kettle',\n",
       " 'Indoor fireplace',\n",
       " 'Internet',\n",
       " 'Iron',\n",
       " 'Keypad',\n",
       " 'Kitchen',\n",
       " 'Lake access',\n",
       " 'Laptop friendly workspace',\n",
       " 'Lock on bedroom door',\n",
       " 'Lockbox',\n",
       " 'Long term stays allowed',\n",
       " 'Luggage dropoff allowed',\n",
       " 'Microwave',\n",
       " 'Mobile hoist',\n",
       " 'No stairs or steps to enter',\n",
       " 'Other',\n",
       " 'Other pet(s)',\n",
       " 'Outlet covers',\n",
       " 'Oven',\n",
       " 'Pack ’n Play/travel crib',\n",
       " 'Paid parking off premises',\n",
       " 'Paid parking on premises',\n",
       " 'Patio or balcony',\n",
       " 'Pets allowed',\n",
       " 'Pets live on this property',\n",
       " 'Pocket wifi',\n",
       " 'Pool',\n",
       " 'Pool with pool hoist',\n",
       " 'Private entrance',\n",
       " 'Private living room',\n",
       " 'Refrigerator',\n",
       " 'Roll-in shower',\n",
       " 'Room-darkening shades',\n",
       " 'Safety card',\n",
       " 'Self check-in',\n",
       " 'Shampoo',\n",
       " 'Shower chair',\n",
       " 'Single level home',\n",
       " 'Smart lock',\n",
       " 'Smoke detector',\n",
       " 'Smoking allowed',\n",
       " 'Stair gates',\n",
       " 'Stove',\n",
       " 'Suitable for events',\n",
       " 'TV',\n",
       " 'Table corner guards',\n",
       " 'Washer',\n",
       " 'Waterfront',\n",
       " 'Well-lit path to entrance',\n",
       " 'Wheelchair accessible',\n",
       " 'Wide clearance to shower',\n",
       " 'Wide doorway to guest bathroom',\n",
       " 'Wide entrance',\n",
       " 'Wide entrance for guests',\n",
       " 'Wide entryway',\n",
       " 'Wide hallways',\n",
       " 'Wifi',\n",
       " 'Window guards',\n",
       " 'toilet',\n",
       " 'translation missing: en.hosting_amenity_49',\n",
       " 'translation missing: en.hosting_amenity_50'}"
      ]
     },
     "execution_count": 72,
     "metadata": {},
     "output_type": "execute_result"
    }
   ],
   "source": [
    "#顯示所有amenities的設施\n",
    "amenities_list = list(df.amenities)\n",
    "amenities_list_string = \" \".join(amenities_list)\n",
    "amenities_list_string = amenities_list_string.replace('{', '')\n",
    "amenities_list_string = amenities_list_string.replace('}', ',')\n",
    "amenities_list_string = amenities_list_string.replace('\"', '')\n",
    "amenities_set = [x.strip() for x in amenities_list_string.split(',')]\n",
    "amenities_set = set(amenities_set)\n",
    "amenities_set"
   ]
  },
  {
   "cell_type": "code",
   "execution_count": 73,
   "metadata": {
    "scrolled": true
   },
   "outputs": [
    {
     "data": {
      "text/plain": [
       "(array([ 0,  1,  2,  3,  4,  5,  6,  7,  8,  9, 10, 11, 12, 13, 14, 15, 16,\n",
       "        17, 18, 19]), <a list of 20 Text xticklabel objects>)"
      ]
     },
     "execution_count": 73,
     "metadata": {},
     "output_type": "execute_result"
    },
    {
     "data": {
      "image/png": "[encoded data removed]",
      "text/plain": [
       "<Figure size 1440x432 with 1 Axes>"
      ]
     },
     "metadata": {
      "needs_background": "light"
     },
     "output_type": "display_data"
    }
   ],
   "source": [
    "#抓取設施的Top 20\n",
    "raw_df['amenities'] = raw_df.amenities.str.replace('[{}]' , '').str.replace('\"','')\n",
    "raw_df.amenities.head()\n",
    "all_item_ls = np.concatenate(raw_df.amenities.map(lambda am:am.split(',')))\n",
    "Top20_item = pd.Series(all_item_ls).value_counts().head(20)\n",
    "plt.figure(figsize=  (20 , 6))\n",
    "Top20_item.plot(kind = 'bar')\n",
    "plt.xticks(rotation = 40)"
   ]
  },
  {
   "cell_type": "code",
   "execution_count": 74,
   "metadata": {},
   "outputs": [],
   "source": [
    "#將Top 20設施改為T/F後個別新增20個欄位\n",
    "df.loc[df['amenities'].str.contains('Air conditioning'), 'Air conditioning'] = 1\n",
    "df.loc[df['amenities'].str.contains('Wifi'), 'Wifi'] = 1\n",
    "df.loc[df['amenities'].str.contains('Hair dryer'), 'Hair dryer'] = 1\n",
    "df.loc[df['amenities'].str.contains('Shampoo'), 'Shampoo'] = 1\n",
    "df.loc[df['amenities'].str.contains('Essentials'), 'Essentials'] = 1\n",
    "df.loc[df['amenities'].str.contains('TV'), 'TV'] = 1\n",
    "df.loc[df['amenities'].str.contains('Hangers'), 'Hangers'] = 1\n",
    "df.loc[df['amenities'].str.contains('Washer'), 'Washer'] = 1\n",
    "df.loc[df['amenities'].str.contains('Laptop friendly workspace'), 'Laptop friendly workspace'] = 1\n",
    "df.loc[df['amenities'].str.contains('Fire extinguisher'), 'Fire extinguisher'] = 1\n",
    "df.loc[df['amenities'].str.contains('Smoke detector'), 'Smoke detector'] = 1\n",
    "df.loc[df['amenities'].str.contains('Hot water'), 'Hot water'] = 1\n",
    "df.loc[df['amenities'].str.contains('Elevator'), 'Elevator'] = 1\n",
    "df.loc[df['amenities'].str.contains('Lock on bedroom door'), 'Lock on bedroom door'] = 1\n",
    "df.loc[df['amenities'].str.contains('Carbon monoxide detector'), 'Carbon monoxide detector'] = 1\n",
    "df.loc[df['amenities'].str.contains('Cable TV'), 'Cable TV'] = 1\n",
    "df.loc[df['amenities'].str.contains('Kitchen'), 'Kitchen'] = 1\n",
    "df.loc[df['amenities'].str.contains('Long term stays allowed'), 'Long term stays allowed'] = 1\n",
    "df.loc[df['amenities'].str.contains('Refrigerator'), 'Refrigerator'] = 1\n",
    "df.loc[df['amenities'].str.contains('Paid parking off premises'), 'Paid parking off premises'] = 1"
   ]
  },
  {
   "cell_type": "code",
   "execution_count": 75,
   "metadata": {},
   "outputs": [],
   "source": [
    "#將新產的的欄位，空值設為0，並刪除原本的amenities欄位\n",
    "cols_to_replace_nulls = df.iloc[:,41:].columns\n",
    "df[cols_to_replace_nulls] = df[cols_to_replace_nulls].fillna(0)\n",
    "df.drop('amenities', axis=1, inplace=True)"
   ]
  },
  {
   "cell_type": "code",
   "execution_count": 76,
   "metadata": {},
   "outputs": [],
   "source": [
    "#修改後的檔案輸出\n",
    "df.to_csv('listing_bad_clean.csv', index = False)"
   ]
  },
  {
   "cell_type": "code",
   "execution_count": null,
   "metadata": {},
   "outputs": [],
   "source": []
  },
  {
   "cell_type": "code",
   "execution_count": null,
   "metadata": {},
   "outputs": [],
   "source": []
  },
  {
   "cell_type": "code",
   "execution_count": null,
   "metadata": {},
   "outputs": [],
   "source": []
  },
  {
   "cell_type": "code",
   "execution_count": null,
   "metadata": {},
   "outputs": [],
   "source": []
  },
  {
   "cell_type": "code",
   "execution_count": null,
   "metadata": {},
   "outputs": [],
   "source": []
  },
  {
   "cell_type": "code",
   "execution_count": null,
   "metadata": {},
   "outputs": [],
   "source": []
  },
  {
   "cell_type": "code",
   "execution_count": null,
   "metadata": {},
   "outputs": [],
   "source": []
  },
  {
   "cell_type": "code",
   "execution_count": null,
   "metadata": {},
   "outputs": [],
   "source": []
  },
  {
   "cell_type": "code",
   "execution_count": null,
   "metadata": {},
   "outputs": [],
   "source": []
  },
  {
   "cell_type": "code",
   "execution_count": null,
   "metadata": {},
   "outputs": [],
   "source": []
  },
  {
   "cell_type": "code",
   "execution_count": null,
   "metadata": {},
   "outputs": [],
   "source": []
  },
  {
   "cell_type": "code",
   "execution_count": null,
   "metadata": {},
   "outputs": [],
   "source": []
  }
 ],
 "metadata": {
  "kernelspec": {
   "display_name": "Python 3",
   "language": "python",
   "name": "python3"
  },
  "language_info": {
   "codemirror_mode": {
    "name": "ipython",
    "version": 3
   },
   "file_extension": ".py",
   "mimetype": "text/x-python",
   "name": "python",
   "nbconvert_exporter": "python",
   "pygments_lexer": "ipython3",
   "version": "3.7.4"
  }
 },
 "nbformat": 4,
 "nbformat_minor": 2
}
